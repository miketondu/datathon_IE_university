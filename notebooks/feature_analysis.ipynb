{
 "cells": [
  {
   "cell_type": "markdown",
   "metadata": {},
   "source": [
    "## Table of contents\n",
    "1. [Initialization](#initialization)\n",
    "2. [Basic Data Exploration,Feature Creation and Transformation](#bda)\n",
    "3. [Feature Analysis](#fa)\n",
    "    1. [ContractID](#contID)\n",
    "    2. [Star Rating](#star)\n",
    "    3. [Room Type](#room)\n",
    "    4. [Arrival Month](#month)\n",
    "    5. [Category](#cat)\n",
    "    6. [Meal Basis](#meal)\n",
    "    7. [Contract Type](#contract)\n",
    "    8. [Other Date Variables](#date)\n",
    "    9. [Time Variables](#time)\n",
    "    10. [City](#city)\n",
    "    11. [Hotel Key](#hotel)\n",
    "4. [Data Set Transformation](#transformation)\n",
    "5. [Outlier/Anomaly Detection](#outlierDetection)    \n",
    "    1. [Statistical and Visual Approach](#stat)\n",
    "    2. [Clustering and Regression Approach](#cluster)\n",
    "5. [Anomaly Labeling and Submission](#submit)"
   ]
  },
  {
   "cell_type": "code",
   "execution_count": 90,
   "metadata": {},
   "outputs": [
    {
     "data": {
      "text/html": [
       "<div>\n",
       "<style scoped>\n",
       "    .dataframe tbody tr th:only-of-type {\n",
       "        vertical-align: middle;\n",
       "    }\n",
       "\n",
       "    .dataframe tbody tr th {\n",
       "        vertical-align: top;\n",
       "    }\n",
       "\n",
       "    .dataframe thead th {\n",
       "        text-align: right;\n",
       "    }\n",
       "</style>\n",
       "<table border=\"1\" class=\"dataframe\">\n",
       "  <thead>\n",
       "    <tr style=\"text-align: right;\">\n",
       "      <th></th>\n",
       "      <th>hotel_hkey</th>\n",
       "      <th>contract_id_hkey</th>\n",
       "      <th>city_code</th>\n",
       "      <th>category_room</th>\n",
       "      <th>contract_type</th>\n",
       "      <th>room_type</th>\n",
       "      <th>meal_basis</th>\n",
       "      <th>star_rating</th>\n",
       "      <th>row_id</th>\n",
       "      <th>creation_date_month</th>\n",
       "      <th>creation_date_day</th>\n",
       "      <th>creation_date_weekday</th>\n",
       "      <th>arrival_date_month</th>\n",
       "      <th>arrival_date_day</th>\n",
       "      <th>arrival_date_weekday</th>\n",
       "      <th>departure_date_month</th>\n",
       "      <th>departure_date_day</th>\n",
       "      <th>departure_date_weekday</th>\n",
       "      <th>TripNoOfDays</th>\n",
       "      <th>TripWorkingDays</th>\n",
       "      <th>TripWeekends</th>\n",
       "      <th>BookingLeadTime</th>\n",
       "      <th>PricePerNight</th>\n",
       "    </tr>\n",
       "  </thead>\n",
       "  <tbody>\n",
       "    <tr>\n",
       "      <th>0</th>\n",
       "      <td>-8267178856752109189</td>\n",
       "      <td>-2268968424949879745</td>\n",
       "      <td>1</td>\n",
       "      <td>ST-1</td>\n",
       "      <td>NOR</td>\n",
       "      <td>DBL</td>\n",
       "      <td>BB</td>\n",
       "      <td>4</td>\n",
       "      <td>0</td>\n",
       "      <td>5</td>\n",
       "      <td>15</td>\n",
       "      <td>1</td>\n",
       "      <td>12</td>\n",
       "      <td>27</td>\n",
       "      <td>3</td>\n",
       "      <td>1</td>\n",
       "      <td>2</td>\n",
       "      <td>2</td>\n",
       "      <td>7</td>\n",
       "      <td>5</td>\n",
       "      <td>2</td>\n",
       "      <td>226</td>\n",
       "      <td>1506</td>\n",
       "    </tr>\n",
       "    <tr>\n",
       "      <th>1</th>\n",
       "      <td>-1685290188623826844</td>\n",
       "      <td>-6660022717883519295</td>\n",
       "      <td>0</td>\n",
       "      <td>ST</td>\n",
       "      <td>NRF</td>\n",
       "      <td>DBT</td>\n",
       "      <td>RO</td>\n",
       "      <td>3</td>\n",
       "      <td>1</td>\n",
       "      <td>5</td>\n",
       "      <td>15</td>\n",
       "      <td>1</td>\n",
       "      <td>7</td>\n",
       "      <td>21</td>\n",
       "      <td>5</td>\n",
       "      <td>7</td>\n",
       "      <td>24</td>\n",
       "      <td>1</td>\n",
       "      <td>4</td>\n",
       "      <td>2</td>\n",
       "      <td>2</td>\n",
       "      <td>67</td>\n",
       "      <td>122</td>\n",
       "    </tr>\n",
       "    <tr>\n",
       "      <th>2</th>\n",
       "      <td>-7840397635682426109</td>\n",
       "      <td>-5150800997425879880</td>\n",
       "      <td>0</td>\n",
       "      <td>PP</td>\n",
       "      <td>NONE</td>\n",
       "      <td>DBL</td>\n",
       "      <td>BB</td>\n",
       "      <td>5</td>\n",
       "      <td>2</td>\n",
       "      <td>5</td>\n",
       "      <td>15</td>\n",
       "      <td>1</td>\n",
       "      <td>8</td>\n",
       "      <td>29</td>\n",
       "      <td>2</td>\n",
       "      <td>9</td>\n",
       "      <td>2</td>\n",
       "      <td>6</td>\n",
       "      <td>5</td>\n",
       "      <td>3</td>\n",
       "      <td>2</td>\n",
       "      <td>106</td>\n",
       "      <td>2702</td>\n",
       "    </tr>\n",
       "    <tr>\n",
       "      <th>3</th>\n",
       "      <td>-6857665811800939251</td>\n",
       "      <td>-7369482760620721804</td>\n",
       "      <td>1</td>\n",
       "      <td>ST</td>\n",
       "      <td>NOR</td>\n",
       "      <td>TWN</td>\n",
       "      <td>BB</td>\n",
       "      <td>3</td>\n",
       "      <td>3</td>\n",
       "      <td>5</td>\n",
       "      <td>15</td>\n",
       "      <td>1</td>\n",
       "      <td>5</td>\n",
       "      <td>24</td>\n",
       "      <td>3</td>\n",
       "      <td>5</td>\n",
       "      <td>27</td>\n",
       "      <td>6</td>\n",
       "      <td>4</td>\n",
       "      <td>2</td>\n",
       "      <td>2</td>\n",
       "      <td>9</td>\n",
       "      <td>1275</td>\n",
       "    </tr>\n",
       "    <tr>\n",
       "      <th>4</th>\n",
       "      <td>-7182313616126400607</td>\n",
       "      <td>-8424448225994711484</td>\n",
       "      <td>6</td>\n",
       "      <td>ST</td>\n",
       "      <td>OPQ</td>\n",
       "      <td>CAB</td>\n",
       "      <td>RO</td>\n",
       "      <td>4</td>\n",
       "      <td>4</td>\n",
       "      <td>5</td>\n",
       "      <td>15</td>\n",
       "      <td>1</td>\n",
       "      <td>11</td>\n",
       "      <td>24</td>\n",
       "      <td>5</td>\n",
       "      <td>11</td>\n",
       "      <td>29</td>\n",
       "      <td>3</td>\n",
       "      <td>6</td>\n",
       "      <td>4</td>\n",
       "      <td>2</td>\n",
       "      <td>193</td>\n",
       "      <td>2136</td>\n",
       "    </tr>\n",
       "  </tbody>\n",
       "</table>\n",
       "</div>"
      ],
      "text/plain": [
       "            hotel_hkey     contract_id_hkey city_code category_room  \\\n",
       "0 -8267178856752109189 -2268968424949879745         1          ST-1   \n",
       "1 -1685290188623826844 -6660022717883519295         0            ST   \n",
       "2 -7840397635682426109 -5150800997425879880         0            PP   \n",
       "3 -6857665811800939251 -7369482760620721804         1            ST   \n",
       "4 -7182313616126400607 -8424448225994711484         6            ST   \n",
       "\n",
       "  contract_type room_type meal_basis star_rating  row_id creation_date_month  \\\n",
       "0           NOR       DBL         BB           4       0                   5   \n",
       "1           NRF       DBT         RO           3       1                   5   \n",
       "2          NONE       DBL         BB           5       2                   5   \n",
       "3           NOR       TWN         BB           3       3                   5   \n",
       "4           OPQ       CAB         RO           4       4                   5   \n",
       "\n",
       "  creation_date_day creation_date_weekday arrival_date_month arrival_date_day  \\\n",
       "0                15                     1                 12               27   \n",
       "1                15                     1                  7               21   \n",
       "2                15                     1                  8               29   \n",
       "3                15                     1                  5               24   \n",
       "4                15                     1                 11               24   \n",
       "\n",
       "  arrival_date_weekday departure_date_month departure_date_day  \\\n",
       "0                    3                    1                  2   \n",
       "1                    5                    7                 24   \n",
       "2                    2                    9                  2   \n",
       "3                    3                    5                 27   \n",
       "4                    5                   11                 29   \n",
       "\n",
       "  departure_date_weekday  TripNoOfDays  TripWorkingDays  TripWeekends  \\\n",
       "0                      2             7                5             2   \n",
       "1                      1             4                2             2   \n",
       "2                      6             5                3             2   \n",
       "3                      6             4                2             2   \n",
       "4                      3             6                4             2   \n",
       "\n",
       "   BookingLeadTime  PricePerNight  \n",
       "0              226           1506  \n",
       "1               67            122  \n",
       "2              106           2702  \n",
       "3                9           1275  \n",
       "4              193           2136  "
      ]
     },
     "execution_count": 90,
     "metadata": {},
     "output_type": "execute_result"
    }
   ],
   "source": [
    "# importing primary libraries\n",
    "import numpy as np\n",
    "import pandas as pd\n",
    "from collections import Counter\n",
    "import datetime as dt\n",
    "import workdays\n",
    "import glob\n",
    "import datetime\n",
    "import calendar\n",
    "import matplotlib.pyplot as plt\n",
    "import seaborn as sns\n",
    "import sklearn.feature_selection\n",
    "from sklearn import linear_model\n",
    "from sklearn import metrics\n",
    "from sklearn import preprocessing\n",
    "from sklearn.decomposition import PCA\n",
    "from sklearn.cluster import KMeans\n",
    "from IPython.core.interactiveshell import InteractiveShell\n",
    "InteractiveShell.ast_node_interactivity = \"all\"\n",
    "pd.set_option('display.max_columns', None)\n",
    "\n",
    "\n",
    "%matplotlib inline\n",
    "\n",
    "\n",
    "# Loading cleaned df\n",
    "df = pd.read_csv('CleanData.csv', index_col= 0)\n",
    "# New list that comprises all the categorical variables from the Data Frame\n",
    "categoricalVariables = ['city_code','category_room','contract_type','room_type','meal_basis',\n",
    "                       'creation_date_month', 'creation_date_day',\n",
    "                       'creation_date_weekday', 'arrival_date_month', 'arrival_date_day',\n",
    "                       'arrival_date_weekday', 'departure_date_month', 'departure_date_day',\n",
    "                       'departure_date_weekday','star_rating']\n",
    "\n",
    "# Change the variable type of the previous list to 'category'\n",
    "for i in categoricalVariables:\n",
    "    df[i] = df[i].astype('category')\n",
    "\n",
    "df.head()"
   ]
  },
  {
   "cell_type": "markdown",
   "metadata": {},
   "source": [
    "### Feature Analysis <a name=\"fa\"></a>"
   ]
  },
  {
   "cell_type": "markdown",
   "metadata": {},
   "source": [
    "#### Contract ID Key <a name=\"contID\"></a>\n",
    "##### The contract ID key represents a aggregation of properties of the booking based on the variables related to the hotel such as hotel, contract type, room type, meal basis and so on. Hence it is a good idea to create mean, median and standard deviation of the records grouped by the contract id. We can use the displacement of the price from these median values (considering the std dev and mean) as indicators of possible outliers or potential anomalies"
   ]
  },
  {
   "cell_type": "code",
   "execution_count": 84,
   "metadata": {},
   "outputs": [],
   "source": [
    "# Mean 'PricePerNight' grouped by all the contracts id's\n",
    "contractIdMean = df.groupby(['contract_id_hkey'])['PricePerNight'].mean()\n",
    "\n",
    "# Function to return mean of each contract\n",
    "def getContractMean(cid):\n",
    "    return(contractIdMean[cid])\n",
    "# New column to store the difference between the 'PricePerNight' and the newly created 'ContractIdMean'\n",
    "df['ContractIdMean'] = df.contract_id_hkey.apply(getContractMean)\n",
    "df['priceDifbyContractMean'] = df['PricePerNight'] - df['ContractIdMean']\n",
    "\n",
    "#df = df.drop(['ContractIdMean'], axis = 1)"
   ]
  },
  {
   "cell_type": "markdown",
   "metadata": {},
   "source": [
    "#### Star Rating <a name=\"star\"></a>"
   ]
  },
  {
   "cell_type": "code",
   "execution_count": null,
   "metadata": {},
   "outputs": [],
   "source": [
    "# Description of the variable\n",
    "df.star_rating.describe()"
   ]
  },
  {
   "cell_type": "markdown",
   "metadata": {},
   "source": [
    "We see that the hotel star rating can be converted to ordinal scale of 1 to 5. For this we compare the median prices of each non numbered category with values of the star ratings for each of the corresponding cities/star. This way we can rank the non numbered star rating categories into numbered star ratings"
   ]
  },
  {
   "cell_type": "code",
   "execution_count": 8,
   "metadata": {},
   "outputs": [
    {
     "data": {
      "image/png": "[encoded data removed]",
      "text/plain": [
       "<Figure size 1440x576 with 2 Axes>"
      ]
     },
     "metadata": {},
     "output_type": "display_data"
    }
   ],
   "source": [
    "# Heatmap of the 'star_rating' per city against its 'PricePerNight'\n",
    "plt.figure(figsize=(20,8))\n",
    "sns.heatmap(df.groupby([\"city_code\", \"star_rating\"])['PricePerNight'].median().unstack()\n",
    "            ,linewidths=.5, cmap=\"YlGnBu\", annot=True);"
   ]
  },
  {
   "cell_type": "code",
   "execution_count": 9,
   "metadata": {},
   "outputs": [],
   "source": [
    "# Rules for Star Rating\n",
    "Hotelratings = {\n",
    "                (\"APARTHOTEL\",0): 5, (\"APARTHOTEL\",1): 4, (\"APARTHOTEL\",3): 3, (\"APARTHOTEL\",4): 4, (\"APARTHOTEL\",5): 4,\n",
    "                (\"APARTHOTEL\",7): 2, (\"APARTHOTEL\",8): 4, (\"APARTMENT\",1): 4, (\"APARTMENT\",4): 4, (\"APARTMENT\",5): 5, \n",
    "                (\"APARTMENT\",7): 4, (\"BED\",0): 1, (\"BED\",1): 4, (\"BED\",2): 4, (\"BED\",4): 3, (\"BED\",8): 1, (\"BOARDING\",1): 4,\n",
    "                (\"BOUTIQUE\",0): 3, (\"BOUTIQUE\",1): 1, (\"BOUTIQUE\",2): 3, (\"BOUTIQUE\",3): 5, (\"BOUTIQUE\",4): 4, \n",
    "                (\"BOUTIQUE\",7): 4, (\"BOUTIQUE\",8): 1, (\"GUEST\",4): 2, (\"GUEST\",5): 1, (\"GUEST\",8): 1, (\"HOSTEL\",1): 1,\n",
    "                (\"HOSTEL\",2): 1, (\"HOSTEL\",3): 1, (\"HOSTEL\",4): 1, (\"HOSTEL\",5): 1, (\"HOSTEL\",6): 1, (\"HOSTEL\",7): 1,\n",
    "                (\"HOSTEL\",8): 1, (\"PENDING\",2): 3, (\"POUSADA\",3): 3, (\"RESIDENCE\",1): 1, (\"RESIDENCE\",4): 5, \n",
    "                (\"RESIDENCE\",5): 4, (\"RESIDENCE\",7): 3, (\"RESORT\",0): 4, (\"RESORT\",3): 5, (\"RESORT\",8): 4, (\"RURAL\",1): 4,\n",
    "                (\"RURAL\",2): 4, (\"RURAL\",8): 4, (\"STANDARD\",0): 4, (\"STANDARD\",7): 3, (\"SUPERIOR\",7): 4, (\"SUPERIOR\",8): 4,\n",
    "                (\"SUPERIOR\",4): 4, (\"SUPERIOR\",0): 4, (\"SUPERIOR\",1): 4, (\"SUPERIOR\",5): 1, (\"VACATIONALS\",1): 4, \n",
    "                (\"VILLA\",0): 5, (\"WITHOUT\",1): 4, (\"WITHOUT\",2): 5, (\"WITHOUT\",3): 4, (\"WITHOUT\",4): 4, (\"WITHOUT\",5): 4,\n",
    "                (\"WITHOUT\",6): 4, (\"WITHOUT\",7): 4\n",
    "                }"
   ]
  },
  {
   "cell_type": "code",
   "execution_count": 10,
   "metadata": {},
   "outputs": [],
   "source": [
    "# Function to Return the Star rating of the booked Hotel based on the above Rule\n",
    "def getRating(t):\n",
    "    return(Hotelratings[t])"
   ]
  },
  {
   "cell_type": "code",
   "execution_count": 12,
   "metadata": {},
   "outputs": [],
   "source": [
    "# Create new variable 'combo' containing a touple with the 'star_rating' and the 'city_code'\n",
    "df['combo'] = df[['star_rating', 'city_code']].apply(tuple, axis=1)\n",
    "\n",
    "# Application of the aforementioned rules into the new feature 'HotelStarRating'\n",
    "df['HotelStarRating'] = 0\n",
    "df.loc[df.star_rating.isin(['5','4','3','2','1']),'HotelStarRating'] = df.star_rating\n",
    "df.loc[df.HotelStarRating == 0, 'HotelStarRating'] =  df.loc[df.HotelStarRating == 0, :].combo.apply(getRating)\n",
    "df.HotelStarRating = df.HotelStarRating.astype(int)"
   ]
  },
  {
   "cell_type": "code",
   "execution_count": 13,
   "metadata": {},
   "outputs": [],
   "source": [
    "# Edit the variable 'star_rating'so that it returns 'HOTEL' if the instance contains a number of stars\n",
    "df.star_rating = df.star_rating.astype('object')\n",
    "df.loc[df.star_rating.isin(['5','4','3','2','1']),'star_rating'] = 'HOTEL'"
   ]
  },
  {
   "cell_type": "code",
   "execution_count": 14,
   "metadata": {},
   "outputs": [
    {
     "data": {
      "text/plain": [
       "count     895809\n",
       "unique        18\n",
       "top        HOTEL\n",
       "freq      857657\n",
       "Name: star_rating, dtype: object"
      ]
     },
     "execution_count": 14,
     "metadata": {},
     "output_type": "execute_result"
    }
   ],
   "source": [
    "df.star_rating.describe()\n",
    "#df.star_rating.value_counts()"
   ]
  },
  {
   "cell_type": "code",
   "execution_count": 15,
   "metadata": {},
   "outputs": [
    {
     "data": {
      "image/png": "[encoded data removed]",
      "text/plain": [
       "<Figure size 432x288 with 2 Axes>"
      ]
     },
     "metadata": {},
     "output_type": "display_data"
    }
   ],
   "source": [
    "# Heatmap of the edited 'star_rating' variable per city against its price\n",
    "sns.heatmap(df.groupby([\"city_code\", \"star_rating\"])['PricePerNight'].median().unstack()\n",
    "            ,linewidths=.5, cmap=\"YlGnBu\");"
   ]
  },
  {
   "cell_type": "code",
   "execution_count": 16,
   "metadata": {},
   "outputs": [
    {
     "name": "stdout",
     "output_type": "stream",
     "text": [
      "star_rating\n",
      "APARTMENT      1655.5\n",
      "VACATIONALS    1557.5\n",
      "BOARDING       1379.0\n",
      "SUPERIOR       1284.0\n",
      "VILLA          1183.0\n",
      "BOUTIQUE        992.0\n",
      "APARTHOTEL      945.0\n",
      "WITHOUT         921.0\n",
      "RURAL           904.5\n",
      "HOTEL           891.0\n",
      "STANDARD        841.5\n",
      "RESIDENCE       810.5\n",
      "BED             758.5\n",
      "RESORT          488.0\n",
      "POUSADA         444.0\n",
      "GUEST           372.0\n",
      "PENDING         260.0\n",
      "HOSTEL          236.0\n",
      "Name: PricePerNight, dtype: float64\n",
      "star_rating\n",
      "WITHOUT        1283.438369\n",
      "SUPERIOR       1219.854192\n",
      "BOUTIQUE       1160.158134\n",
      "HOTEL          1122.326556\n",
      "RESIDENCE      1073.416778\n",
      "VACATIONALS    1034.681381\n",
      "APARTMENT      1005.278242\n",
      "VILLA           956.904016\n",
      "APARTHOTEL      830.094163\n",
      "RURAL           763.609692\n",
      "RESORT          568.026324\n",
      "BED             555.839556\n",
      "GUEST           464.527309\n",
      "STANDARD        411.736393\n",
      "HOSTEL          359.521418\n",
      "POUSADA          63.720745\n",
      "PENDING          53.702886\n",
      "BOARDING               NaN\n",
      "Name: PricePerNight, dtype: float64\n"
     ]
    }
   ],
   "source": [
    "# Return the median and standard deviation of the 'PricePerNight' grouped by the 'star_rating'\n",
    "print(df.groupby([\"star_rating\"])['PricePerNight'].median().sort_values(ascending = False))\n",
    "#print(df.groupby([\"star_rating\"])['PricePerNight'].mean().sort_values(ascending = False))\n",
    "print(df.groupby([\"star_rating\"])['PricePerNight'].std().sort_values(ascending = False))"
   ]
  },
  {
   "cell_type": "code",
   "execution_count": 17,
   "metadata": {},
   "outputs": [],
   "source": [
    "# Remove the variable 'combo' as we will no longer use it\n",
    "df = df.drop(['combo'], axis = 1)"
   ]
  },
  {
   "cell_type": "markdown",
   "metadata": {},
   "source": [
    "The type of hotel is not revealing much information. We will thus continue with using the ordinal scale from 1 : 5 as that has greater relevance for understanding the pricing"
   ]
  },
  {
   "cell_type": "markdown",
   "metadata": {},
   "source": [
    "#### Room Type <a name=\"room\"></a>\n",
    "\n",
    "For room type we will take a standard approach of checkinig which room types have higher prices (on an average or as per median). Using this as a metric we will convert the categories into a ranked numerical scale which can have a better correlation to the prices\n"
   ]
  },
  {
   "cell_type": "code",
   "execution_count": 18,
   "metadata": {},
   "outputs": [
    {
     "name": "stdout",
     "output_type": "stream",
     "text": [
      "room_type\n",
      "TWH    2481.0\n",
      "DLX    2020.0\n",
      "JSU    2002.0\n",
      "CHA    1813.5\n",
      "LOD    1467.0\n",
      "CAB    1403.0\n",
      "VIL    1385.0\n",
      "FAM    1342.0\n",
      "SUI    1306.0\n",
      "CTG    1235.0\n",
      "TPL    1230.0\n",
      "APT    1201.0\n",
      "ROO    1191.0\n",
      "QUA    1127.0\n",
      "DBL    1027.0\n",
      "TLN     935.0\n",
      "BUN     915.5\n",
      "TWN     780.0\n",
      "STU     771.0\n",
      "DUS     709.0\n",
      "SGL     693.0\n",
      "HOM     686.0\n",
      "DBT     628.0\n",
      "BED     168.0\n",
      "Name: PricePerNight, dtype: float64\n"
     ]
    },
    {
     "data": {
      "text/plain": [
       "[('DBL', 344606),\n",
       " ('DBT', 199928),\n",
       " ('TWN', 66600),\n",
       " ('SGL', 55616),\n",
       " ('DUS', 33656),\n",
       " ('TPL', 33514),\n",
       " ('APT', 30985),\n",
       " ('ROO', 24785),\n",
       " ('STU', 22567),\n",
       " ('SUI', 21310),\n",
       " ('QUA', 14940),\n",
       " ('FAM', 14255),\n",
       " ('JSU', 12295),\n",
       " ('VIL', 10779),\n",
       " ('BED', 8194),\n",
       " ('CAB', 1151),\n",
       " ('BUN', 424),\n",
       " ('LOD', 86),\n",
       " ('TWH', 45),\n",
       " ('CTG', 40),\n",
       " ('CHA', 16),\n",
       " ('TLN', 15),\n",
       " ('DLX', 1),\n",
       " ('HOM', 1)]"
      ]
     },
     "execution_count": 18,
     "metadata": {},
     "output_type": "execute_result"
    }
   ],
   "source": [
    "# Describing the median of 'PricePerNight' per 'room_type' and count of the records in each type of room\n",
    "print(df.groupby([\"room_type\"])['PricePerNight'].median().sort_values(ascending = False))\n",
    "Counter(df['room_type']).most_common(26)"
   ]
  },
  {
   "cell_type": "code",
   "execution_count": 19,
   "metadata": {},
   "outputs": [],
   "source": [
    "# Creation of a new Data Frame containing the median of the 'PricePerNight' per 'room_type'\n",
    "medianPriceByRoomType = df.groupby([\"room_type\"])['PricePerNight'].median().sort_values(ascending = False)"
   ]
  },
  {
   "cell_type": "code",
   "execution_count": 20,
   "metadata": {},
   "outputs": [],
   "source": [
    "# Add this feature into the main Data Frame\n",
    "df['MedianPriceByRoomType'] = 0\n",
    "for i in medianPriceByRoomType.index:\n",
    "    df.loc[df.room_type == i,'MedianPriceByRoomType'] = medianPriceByRoomType[i]\n"
   ]
  },
  {
   "cell_type": "code",
   "execution_count": 21,
   "metadata": {},
   "outputs": [
    {
     "data": {
      "text/plain": [
       "room_type\n",
       "TWH    2481.0\n",
       "DLX    2020.0\n",
       "JSU    2002.0\n",
       "CHA    1813.5\n",
       "LOD    1467.0\n",
       "CAB    1403.0\n",
       "VIL    1385.0\n",
       "FAM    1342.0\n",
       "SUI    1306.0\n",
       "CTG    1235.0\n",
       "TPL    1230.0\n",
       "APT    1201.0\n",
       "ROO    1191.0\n",
       "QUA    1127.0\n",
       "DBL    1027.0\n",
       "TLN     935.0\n",
       "BUN     915.5\n",
       "TWN     780.0\n",
       "STU     771.0\n",
       "DUS     709.0\n",
       "SGL     693.0\n",
       "HOM     686.0\n",
       "DBT     628.0\n",
       "BED     168.0\n",
       "Name: PricePerNight, dtype: float64"
      ]
     },
     "execution_count": 21,
     "metadata": {},
     "output_type": "execute_result"
    }
   ],
   "source": [
    "medianPriceByRoomType"
   ]
  },
  {
   "cell_type": "markdown",
   "metadata": {},
   "source": [
    "#### Arrival Month <a name=\"month\"></a>\n",
    "Based on our understanding of tourism industry we have an hypothesis that PricePerNight tends to be higher in summer break months and december. We will go ahead and explore the distribution of prices by arrival month and verify this"
   ]
  },
  {
   "cell_type": "code",
   "execution_count": 22,
   "metadata": {},
   "outputs": [
    {
     "name": "stdout",
     "output_type": "stream",
     "text": [
      "HotelStarRating         1       2      3       4       5\n",
      "arrival_date_month                                      \n",
      "1                   188.0   354.0  484.0   652.0  1453.0\n",
      "2                   216.5   385.0  524.0   722.0  1478.0\n",
      "3                   297.5   471.0  618.0   806.0  1543.0\n",
      "4                   293.0   517.0  659.0   896.0  1511.5\n",
      "5                   330.0   571.0  703.0   969.0  1534.0\n",
      "6                   381.0   681.0  793.0  1060.0  1571.0\n",
      "7                   495.0   872.0  956.0  1315.0  1864.0\n",
      "8                   599.0   940.0  937.0  1329.0  1736.0\n",
      "9                   447.5   764.0  957.0  1323.5  1596.0\n",
      "10                  373.0   697.5  896.0  1268.0  1578.0\n",
      "11                  388.0   624.5  733.0  1298.0  1653.0\n",
      "12                  346.0  1299.0  838.0  1587.0  2228.0\n"
     ]
    },
    {
     "data": {
      "image/png": "[encoded data removed]",
      "text/plain": [
       "<Figure size 1080x576 with 2 Axes>"
      ]
     },
     "metadata": {},
     "output_type": "display_data"
    }
   ],
   "source": [
    "# matrix of the 'PricePerNight' by 'HotelStarRating' and 'arrival_date_month'\n",
    "print(df.groupby([\"arrival_date_month\", \"HotelStarRating\"])['PricePerNight'].median().unstack())\n",
    "\n",
    "# Heatmap of the edited 'arrival_date_month' variable per 'HotelStarRating' against its price\n",
    "plt.figure(figsize=(15,8))\n",
    "sns.heatmap(df.groupby([\"HotelStarRating\",\"arrival_date_month\"])['PricePerNight'].median().unstack()\n",
    "            ,linewidths=.5, cmap=\"YlGnBu\");"
   ]
  },
  {
   "cell_type": "markdown",
   "metadata": {},
   "source": [
    "Based on the heatmap we confirm that the previous statement is true, and now a new varible will be created to group months with similar prices and a rank will be assigned based on price."
   ]
  },
  {
   "cell_type": "code",
   "execution_count": 23,
   "metadata": {},
   "outputs": [],
   "source": [
    "# New feature 'monthRating' that group months with similar prices\n",
    "df['monthRating'] = 0\n",
    "df.loc[df.arrival_date_month.isin(['1','2']), 'monthRating'] = 1\n",
    "df.loc[df.arrival_date_month.isin(['3','4','5']), 'monthRating'] = 5\n",
    "#df.loc[df.arrival_date_month.isin(['11','12']), 'monthRating'] = 4\n",
    "df.loc[df.arrival_date_month.isin(['6','9','10','11']), 'monthRating'] = 25\n",
    "df.loc[df.arrival_date_month.isin(['7','8','12']), 'monthRating'] = 75"
   ]
  },
  {
   "cell_type": "markdown",
   "metadata": {},
   "source": [
    "#### Category Room <a name=\"cat\"></a>\n",
    "A similar ranking apporoach will be used for category of the room as well. Since it has > 1000 category levels, not much information can be extracted apart from converting it to an ordinal scale of values"
   ]
  },
  {
   "cell_type": "code",
   "execution_count": 27,
   "metadata": {},
   "outputs": [
    {
     "data": {
      "text/plain": [
       "[('ST', 409504),\n",
       " ('DX', 71145),\n",
       " ('SU', 31541),\n",
       " ('SU-1', 30255),\n",
       " ('AS', 22833),\n",
       " ('XX-SU', 22545),\n",
       " ('SP', 18194),\n",
       " ('QN', 11384),\n",
       " ('ST-1', 9679),\n",
       " ('KG', 8336),\n",
       " ('C2', 7593),\n",
       " ('OM', 7481),\n",
       " ('VM', 7174),\n",
       " ('EJ', 6738),\n",
       " ('GD', 6608),\n",
       " ('PE', 5695),\n",
       " ('EY', 5088),\n",
       " ('PI', 4777),\n",
       " ('XX-2B', 4769),\n",
       " ('OV', 4513),\n",
       " ('DX-1', 4450),\n",
       " ('XX-1B', 4113),\n",
       " ('B1', 4077),\n",
       " ('DX-KG', 4047),\n",
       " ('LX', 3722),\n",
       " ('B2', 3544),\n",
       " ('NM', 3529),\n",
       " ('1B-1', 3433),\n",
       " ('DB', 3060),\n",
       " ('C3', 3018),\n",
       " ('Z1', 3006),\n",
       " ('1B', 2885),\n",
       " ('PR', 2694),\n",
       " ('2D', 2676),\n",
       " ('B1-C4', 2603),\n",
       " ('XX-GR', 2562),\n",
       " ('IN', 2561),\n",
       " ('BL', 2522),\n",
       " ('C4', 2473),\n",
       " ('ST-2', 2350),\n",
       " ('GR', 2333),\n",
       " ('B1-1', 2084),\n",
       " ('DX-GV', 2059),\n",
       " ('C1', 2043),\n",
       " ('1E', 2038),\n",
       " ('SU-4', 1664),\n",
       " ('AS-DB', 1653),\n",
       " ('2B-1', 1650),\n",
       " ('DX-GD', 1644),\n",
       " ('RO', 1636),\n",
       " ('ST-3', 1597),\n",
       " ('QN-SU', 1540),\n",
       " ('SU-2', 1492),\n",
       " ('VL', 1439),\n",
       " ('2D-AS', 1423),\n",
       " ('C8', 1419),\n",
       " ('XX-B1', 1396),\n",
       " ('KG-NM', 1371),\n",
       " ('SS', 1321),\n",
       " ('KG-SU', 1314),\n",
       " ('GV', 1271),\n",
       " ('DX-EJ', 1251),\n",
       " ('RV', 1193),\n",
       " ('XX-OM', 1171),\n",
       " ('2D-DX', 1141),\n",
       " ('OV-SU', 1140),\n",
       " ('VP', 1117),\n",
       " ('C6', 1110),\n",
       " ('EJ-1', 1096),\n",
       " ('DX-OV', 1094),\n",
       " ('KG-PE', 1063),\n",
       " ('XX-DX-PI', 1045),\n",
       " ('GD-SU', 1023),\n",
       " ('DX-VP', 1014),\n",
       " ('XX-KG-SU', 984),\n",
       " ('DX-QN', 934),\n",
       " ('NM-QN', 908),\n",
       " ('EX', 905),\n",
       " ('DX-VL', 901),\n",
       " ('QU-SP', 882),\n",
       " ('B2-C6', 880),\n",
       " ('AS-1', 862),\n",
       " ('2D-SU', 862),\n",
       " ('QU-ST', 860),\n",
       " ('AS-KG', 860),\n",
       " ('SD-SP', 824),\n",
       " ('2D-NM', 800),\n",
       " ('MT', 781),\n",
       " ('B1-SU', 781),\n",
       " ('FH', 780),\n",
       " ('CT', 765),\n",
       " ('CS', 761),\n",
       " ('TR', 748),\n",
       " ('B1-DX', 740),\n",
       " ('8E-MJ', 712),\n",
       " ('WV', 695),\n",
       " ('OF', 685),\n",
       " ('2B', 683),\n",
       " ('DX-2', 669),\n",
       " ('0E-DO', 666),\n",
       " ('PP-1', 658),\n",
       " ('CB', 649),\n",
       " ('GL', 645),\n",
       " ('ST-4', 643),\n",
       " ('GV-1', 636),\n",
       " ('LX-OV', 634),\n",
       " ('EJ-KG', 617),\n",
       " ('B1-VP', 603),\n",
       " ('C2-NI', 598),\n",
       " ('BL-DX', 596),\n",
       " ('DX-RV', 595),\n",
       " ('1B-PO-VI', 592),\n",
       " ('QU', 552),\n",
       " ('2Q', 549),\n",
       " ('BK-FH', 528),\n",
       " ('XX-GR-KG', 505),\n",
       " ('DX-6', 481),\n",
       " ('ST-6', 477),\n",
       " ('DX-LV', 473),\n",
       " ('PT', 462),\n",
       " ('DX-VM', 457),\n",
       " ('AC', 457),\n",
       " ('CM-1', 448),\n",
       " ('MD-SP', 447),\n",
       " ('DX-PL', 444),\n",
       " ('SU-VM', 438),\n",
       " ('C2-VM', 435),\n",
       " ('UB', 432),\n",
       " ('KG-1', 421),\n",
       " ('B2-1', 408),\n",
       " ('BK', 404),\n",
       " ('10', 402),\n",
       " ('BL-SU', 401),\n",
       " ('2D-1', 391),\n",
       " ('B3', 386),\n",
       " ('DP', 372),\n",
       " ('JA', 365),\n",
       " ('FA', 355),\n",
       " ('1B-C4', 343),\n",
       " ('GV-2', 342),\n",
       " ('DX-4', 340),\n",
       " ('C5', 338),\n",
       " ('PI-1', 335),\n",
       " ('GR-QN', 331),\n",
       " ('DX-PO', 330),\n",
       " ('FS-PT', 323),\n",
       " ('VN', 317),\n",
       " ('DX-PE', 317),\n",
       " ('KG-SP', 308),\n",
       " ('FM', 306),\n",
       " ('KG-OV', 306),\n",
       " ('CL', 294),\n",
       " ('C2-1', 294),\n",
       " ('PE-1', 293),\n",
       " ('PI-VM', 285),\n",
       " ('B1-VM', 282),\n",
       " ('GV-SU', 278),\n",
       " ('BS', 278),\n",
       " ('SW-VP', 276),\n",
       " ('PP', 275),\n",
       " ('JS', 262),\n",
       " ('GD-1', 261),\n",
       " ('B2-C4', 260),\n",
       " ('B2-2', 260),\n",
       " ('DX-JA', 259),\n",
       " ('CV-QN', 259),\n",
       " ('EY-FH', 253),\n",
       " ('PM', 243),\n",
       " ('BQ-SU', 243),\n",
       " ('B1-2', 233),\n",
       " ('1Z-BU-DO', 233),\n",
       " ('B1-C2', 230),\n",
       " ('SP-SU', 226),\n",
       " ('PI-QN', 224),\n",
       " ('B1-EJ', 222),\n",
       " ('PG', 220),\n",
       " ('PI-2', 217),\n",
       " ('B2-PP', 215),\n",
       " ('CM', 214),\n",
       " ('1B-SU', 212),\n",
       " ('BQ-MT-SU', 212),\n",
       " ('2C', 211),\n",
       " ('1B-PO', 211),\n",
       " ('QN-1', 210),\n",
       " ('GR-1', 207),\n",
       " ('SD', 206),\n",
       " ('FH-1', 206),\n",
       " ('BQ-MT', 205),\n",
       " ('2B-SU', 203),\n",
       " ('OV-PI', 203),\n",
       " ('R', 201),\n",
       " ('2B-PO-VI', 199),\n",
       " ('SU-WV', 199),\n",
       " ('BL-ST', 196),\n",
       " ('NM-1', 192),\n",
       " ('DX-GR', 192),\n",
       " ('AX', 191),\n",
       " ('CV-KG', 189),\n",
       " ('CV-1', 188),\n",
       " ('EX-SU', 188),\n",
       " ('VP-1', 186),\n",
       " ('SU-VP', 185),\n",
       " ('PL-SP', 184),\n",
       " ('QU-SU', 183),\n",
       " ('2B-DX', 183),\n",
       " ('BQ-QU', 181),\n",
       " ('SU-3', 180),\n",
       " ('SB-SP', 179),\n",
       " ('XX-CB', 178),\n",
       " ('SU-5', 177),\n",
       " ('2Q-NM', 175),\n",
       " ('DX-PP', 174),\n",
       " ('GR-KG', 167),\n",
       " ('ST-5', 167),\n",
       " ('BQ-QU-SU', 166),\n",
       " ('1B-C5', 164),\n",
       " ('SX', 162),\n",
       " ('DX-SU', 162),\n",
       " ('AS-DX', 161),\n",
       " ('C4-2', 160),\n",
       " ('1S-MT', 160),\n",
       " ('DX-8', 158),\n",
       " ('1H-OV', 158),\n",
       " ('B1-PE', 158),\n",
       " ('CV-DX', 158),\n",
       " ('B1-3', 157),\n",
       " ('DB-SU', 156),\n",
       " ('MT-SU', 153),\n",
       " ('C2-OV', 152),\n",
       " ('SU-TR', 150),\n",
       " ('DX-SD', 149),\n",
       " ('AS-CV', 147),\n",
       " ('CB-CV', 145),\n",
       " ('EJ-QN', 143),\n",
       " ('2R', 143),\n",
       " ('6E-DO-FA', 142),\n",
       " ('EY-1', 138),\n",
       " ('GN-SU', 138),\n",
       " ('C4-1', 137),\n",
       " ('CY', 137),\n",
       " ('E2', 136),\n",
       " ('2R-C4', 136),\n",
       " ('3B', 134),\n",
       " ('2D-CV', 134),\n",
       " ('VJ', 132),\n",
       " ('PI-4', 131),\n",
       " ('DP-1', 131),\n",
       " ('OV-1', 130),\n",
       " ('BQ', 130),\n",
       " ('SR-ST', 130),\n",
       " ('DX-9', 129),\n",
       " ('C2-EJ', 128),\n",
       " ('DX-GO', 128),\n",
       " ('CV', 127),\n",
       " ('CC-10', 127),\n",
       " ('XX-CV', 120),\n",
       " ('BL-SS', 119),\n",
       " ('BS-DX', 117),\n",
       " ('B2-EJ', 115),\n",
       " ('B2-VP', 114),\n",
       " ('DX-3', 114),\n",
       " ('EJ-4', 113),\n",
       " ('EX-KG', 113),\n",
       " ('AS-QN', 112),\n",
       " ('RY-SU', 110),\n",
       " ('PQ', 110),\n",
       " ('B1-OV', 109),\n",
       " ('TR-1', 108),\n",
       " ('XX-3B', 108),\n",
       " ('B2-DX', 107),\n",
       " ('C4-SU', 106),\n",
       " ('DX-QU', 106),\n",
       " ('CV-SU', 105),\n",
       " ('KG-OF', 104),\n",
       " ('DX-PO-VI', 104),\n",
       " ('C3-VM', 104),\n",
       " ('B1-GV', 104),\n",
       " ('CV-PE', 103),\n",
       " ('B3-1', 103),\n",
       " ('QU-SB-SP', 102),\n",
       " ('BI', 101),\n",
       " ('BQ-EJ-QU', 101),\n",
       " ('OM-1', 101),\n",
       " ('B1-PI', 101),\n",
       " ('AS-RE', 101),\n",
       " ('MS', 100),\n",
       " ('EJ-3', 100),\n",
       " ('M', 100),\n",
       " ('SU-6', 99),\n",
       " ('8E-BU-MJ', 99),\n",
       " ('GU', 99),\n",
       " ('1U', 97),\n",
       " ('1H', 97),\n",
       " ('PO-VI', 96),\n",
       " ('EX-QU', 96),\n",
       " ('FA-PI', 94),\n",
       " ('XX-NM', 93),\n",
       " ('BU', 92),\n",
       " ('VM-1', 92),\n",
       " ('XX-Z1', 92),\n",
       " ('CV-EJ', 92),\n",
       " ('KG-7', 91),\n",
       " ('GV-PI', 90),\n",
       " ('C2-DX', 90),\n",
       " ('2B-FM', 89),\n",
       " ('FS', 87),\n",
       " ('DX-P1', 87),\n",
       " ('2B-PO', 87),\n",
       " ('B1-4', 87),\n",
       " ('PV-2', 87),\n",
       " ('GR-2', 86),\n",
       " ('PO-SU', 86),\n",
       " ('GA-WG', 84),\n",
       " ('DX-Q2', 84),\n",
       " ('CH', 82),\n",
       " ('1Q-SP', 81),\n",
       " ('ST-8', 81),\n",
       " ('LX-VL', 81),\n",
       " ('67-7R', 80),\n",
       " ('B2-C5', 80),\n",
       " ('DX-OF', 80),\n",
       " ('FR-VM', 80),\n",
       " ('OA', 80),\n",
       " ('XX-IN', 80),\n",
       " ('CS-QU', 80),\n",
       " ('CB-1', 79),\n",
       " ('C3-SU', 79),\n",
       " ('GV-KG', 78),\n",
       " ('2B-SP', 78),\n",
       " ('CV-PI', 78),\n",
       " ('2D-EJ', 77),\n",
       " ('PV', 77),\n",
       " ('C4-DX', 77),\n",
       " ('B2-SU', 77),\n",
       " ('CB-OV', 76),\n",
       " ('DX-PU', 76),\n",
       " ('2H', 76),\n",
       " ('KN-TD', 76),\n",
       " ('XX-CV-DX', 75),\n",
       " ('DX-PI', 74),\n",
       " ('PR-1', 73),\n",
       " ('3B-PO-VI', 73),\n",
       " ('BF', 73),\n",
       " ('2R-C6', 73),\n",
       " ('AS-CY', 73),\n",
       " ('ES', 73),\n",
       " ('CB-PE', 72),\n",
       " ('AN-FB', 71),\n",
       " ('C9', 71),\n",
       " ('1S-MT-SU', 71),\n",
       " ('2D-5', 71),\n",
       " ('EJ-2', 71),\n",
       " ('2Q-DX', 71),\n",
       " ('B3-C8', 71),\n",
       " ('SQ', 69),\n",
       " ('B1-C3', 69),\n",
       " ('J6-SD', 69),\n",
       " ('B4', 69),\n",
       " ('PS-1', 69),\n",
       " ('1R', 68),\n",
       " ('1Z-DO', 67),\n",
       " ('FH-2', 67),\n",
       " ('B3-PP', 66),\n",
       " ('KT', 66),\n",
       " ('E-SP', 66),\n",
       " ('EJ-LU', 65),\n",
       " ('SM', 65),\n",
       " ('C3-1', 64),\n",
       " ('DX-RE', 64),\n",
       " ('KG-PI', 64),\n",
       " ('XX-GV', 64),\n",
       " ('PE-2', 63),\n",
       " ('DR', 62),\n",
       " ('DX-TR', 62),\n",
       " ('CU', 62),\n",
       " ('1B-C2', 61),\n",
       " ('CO', 60),\n",
       " ('DX-MD', 60),\n",
       " ('DX-KN', 60),\n",
       " ('1B-EX', 59),\n",
       " ('CB-DX', 59),\n",
       " ('3M', 59),\n",
       " ('EJ-SU', 59),\n",
       " ('CS-SP', 59),\n",
       " ('XX-GD', 57),\n",
       " ('DB-SL', 56),\n",
       " ('I7', 56),\n",
       " ('PI-3', 56),\n",
       " ('CV-GR', 56),\n",
       " ('SP-SQ', 55),\n",
       " ('2D-OV', 55),\n",
       " ('AS-QU', 55),\n",
       " ('DU-PO', 55),\n",
       " ('PL-PU', 55),\n",
       " ('GA-VI', 54),\n",
       " ('1W-B1', 54),\n",
       " ('GA-SU', 54),\n",
       " ('DX-SS', 53),\n",
       " ('BL-OV', 53),\n",
       " ('4B-PO', 53),\n",
       " ('B1-KG', 53),\n",
       " ('DX-WV', 52),\n",
       " ('QU-SB', 52),\n",
       " ('B3-C7', 52),\n",
       " ('C3-2', 51),\n",
       " ('GV-4', 51),\n",
       " ('2D-VP', 51),\n",
       " ('DX-GA', 51),\n",
       " ('1B-DX', 51),\n",
       " ('RV-1', 50),\n",
       " ('C2-4', 49),\n",
       " ('8E-FA', 49),\n",
       " ('SD-SU', 49),\n",
       " ('KG-RE-V', 49),\n",
       " ('CB-2', 48),\n",
       " ('SC', 48),\n",
       " ('CS-RR', 47),\n",
       " ('XX-AS', 47),\n",
       " ('XX-2B-CV', 46),\n",
       " ('FV-SP', 46),\n",
       " ('BU-DL', 46),\n",
       " ('2B-NM', 46),\n",
       " ('C4-VM', 46),\n",
       " ('OF-4', 45),\n",
       " ('CV-2', 45),\n",
       " ('LX-RE-V', 45),\n",
       " ('PE-RV', 45),\n",
       " ('B2-C2', 45),\n",
       " ('EX-KG-SB', 45),\n",
       " ('HM', 45),\n",
       " ('SL', 44),\n",
       " ('DX-ZZ', 44),\n",
       " ('L4', 44),\n",
       " ('EX-SD', 44),\n",
       " ('C2-2', 44),\n",
       " ('VP-2', 43),\n",
       " ('B1-CV', 42),\n",
       " ('BN', 42),\n",
       " ('OM-2', 42),\n",
       " ('ST-10', 42),\n",
       " ('2B-3R', 42),\n",
       " ('TB', 42),\n",
       " ('CV-DX-KG', 42),\n",
       " ('SI', 42),\n",
       " ('XX-2B-DX', 42),\n",
       " ('DX-5', 42),\n",
       " ('C2-GV', 41),\n",
       " ('CL-PC', 41),\n",
       " ('DU', 41),\n",
       " ('KG-SB', 41),\n",
       " ('C2-VJ', 41),\n",
       " ('MT-ST', 41),\n",
       " ('2S', 41),\n",
       " ('LX-OV-SU', 41),\n",
       " ('XX-CB-DX', 41),\n",
       " ('CL-WE', 41),\n",
       " ('1B-BL', 40),\n",
       " ('C8-FH', 40),\n",
       " ('FH-3', 40),\n",
       " ('1B-GA-VI', 40),\n",
       " ('1B-DX-SU', 40),\n",
       " ('C8-FA', 40),\n",
       " ('BG-ST', 40),\n",
       " ('BL-VM', 40),\n",
       " ('PO-VA-VI', 40),\n",
       " ('B2-GV', 39),\n",
       " ('CU-EL-OF', 39),\n",
       " ('XA', 39),\n",
       " ('P7', 38),\n",
       " ('B3-C5', 38),\n",
       " ('TR-VM', 38),\n",
       " ('PL', 38),\n",
       " ('G2', 38),\n",
       " ('DX-SV', 38),\n",
       " ('LX-6', 38),\n",
       " ('G2-MT-SU', 38),\n",
       " ('XX-PI', 38),\n",
       " ('CG', 37),\n",
       " ('B3-C6', 37),\n",
       " ('AV', 37),\n",
       " ('1B-JA', 37),\n",
       " ('8C-ON-RY', 37),\n",
       " ('2D-2', 37),\n",
       " ('E-PM', 37),\n",
       " ('JA-KG', 37),\n",
       " ('C4-ST', 37),\n",
       " ('DX-OV-SU', 37),\n",
       " ('8C-DX-ON', 36),\n",
       " ('2H-MS', 36),\n",
       " ('SA-VI', 36),\n",
       " ('DX-WE', 36),\n",
       " ('V0-VI', 36),\n",
       " ('XX-2D', 35),\n",
       " ('E3', 35),\n",
       " ('DP-4', 35),\n",
       " ('2Q-ST', 35),\n",
       " ('PE-3', 35),\n",
       " ('SP-WE', 35),\n",
       " ('62', 35),\n",
       " ('KG-NM-SP', 35),\n",
       " ('SU-UU', 35),\n",
       " ('EJ-QU', 35),\n",
       " ('DX-VN', 34),\n",
       " ('CB-EJ', 34),\n",
       " ('E+', 34),\n",
       " ('VM-2', 34),\n",
       " ('OF-PI', 34),\n",
       " ('C2-PU', 34),\n",
       " ('C7', 34),\n",
       " ('BE-CB', 33),\n",
       " ('JC-SU', 33),\n",
       " ('QB', 33),\n",
       " ('XX-KG-PI', 33),\n",
       " ('DB-3', 33),\n",
       " ('JC', 33),\n",
       " ('AS-2', 33),\n",
       " ('LK', 32),\n",
       " ('VM-3', 32),\n",
       " ('BA-SU', 32),\n",
       " ('AS-VP', 32),\n",
       " ('1B-C6', 32),\n",
       " ('OF-SU', 32),\n",
       " ('3R-C6', 32),\n",
       " ('PE-SD', 32),\n",
       " ('ST-9', 32),\n",
       " ('2Y-DX', 31),\n",
       " ('NM-2', 31),\n",
       " ('KC-SP', 31),\n",
       " ('PN-SG-VI', 31),\n",
       " ('1B-VI', 31),\n",
       " ('1T-2R-ST', 30),\n",
       " ('C6-FH', 30),\n",
       " ('YN', 30),\n",
       " ('XX-DX-GR', 30),\n",
       " ('IR', 30),\n",
       " ('PV-SU', 30),\n",
       " ('KG-LL', 30),\n",
       " ('B3-DX', 29),\n",
       " ('PE-QN', 29),\n",
       " ('2R-C3', 29),\n",
       " ('SU-VN', 29),\n",
       " ('EX-QU-SB', 29),\n",
       " ('KG-NF-SU', 28),\n",
       " ('PP-2', 28),\n",
       " ('BU-DX', 28),\n",
       " ('CL-YB', 28),\n",
       " ('PG-PO-VI', 28),\n",
       " ('DX-ON', 28),\n",
       " ('PM-WE', 28),\n",
       " ('C2-JC-VM', 28),\n",
       " ('B1-7', 28),\n",
       " ('DB-SB', 27),\n",
       " ('LA-VM', 27),\n",
       " ('CL-DX', 27),\n",
       " ('TD', 27),\n",
       " ('WM', 27),\n",
       " ('DB-SB-SP', 27),\n",
       " ('ST-7', 26),\n",
       " ('GD-2', 26),\n",
       " ('KG-2', 26),\n",
       " ('OV-2', 26),\n",
       " ('NF-QU', 26),\n",
       " ('1B-GV', 26),\n",
       " ('AM', 26),\n",
       " ('DE', 26),\n",
       " ('B2-4', 26),\n",
       " ('C2-SU', 25),\n",
       " ('BR-SP', 25),\n",
       " ('PX', 25),\n",
       " ('3I', 25),\n",
       " ('1B-SV', 25),\n",
       " ('CB-KG', 25),\n",
       " ('NS', 25),\n",
       " ('2C-SU', 25),\n",
       " ('1B-P3-PO-VI', 25),\n",
       " ('ST-WM', 25),\n",
       " ('1B-PE', 25),\n",
       " ('1-R9-VI', 25),\n",
       " ('B1-5', 24),\n",
       " ('DX-7', 24),\n",
       " ('AS-BL', 24),\n",
       " ('C8-MQ', 24),\n",
       " ('2Q-GV', 24),\n",
       " ('2Q-CV', 24),\n",
       " ('2R-C5', 24),\n",
       " ('OB', 24),\n",
       " ('DX-GN', 24),\n",
       " ('GM', 24),\n",
       " ('8E-MQ', 24),\n",
       " ('CB-OF', 24),\n",
       " ('BU-SU', 24),\n",
       " ('AE-KG-NM', 23),\n",
       " ('PZ-VB', 23),\n",
       " ('3B-PO', 23),\n",
       " ('NF-ST', 23),\n",
       " ('1B-O0', 23),\n",
       " ('C5-ST', 23),\n",
       " ('XD', 23),\n",
       " ('BQ-ST', 23),\n",
       " ('GF', 23),\n",
       " ('1B-5E-CF-OV', 22),\n",
       " ('2B-SV', 22),\n",
       " ('BK-1', 22),\n",
       " ('1T-2R', 22),\n",
       " ('Z1-1', 22),\n",
       " ('B1-8', 22),\n",
       " ('VM-4', 22),\n",
       " ('CY-DX', 22),\n",
       " ('VN-1', 22),\n",
       " ('2Q-B1', 22),\n",
       " ('SS-SU', 22),\n",
       " ('XX-PV', 21),\n",
       " ('GD-7', 21),\n",
       " ('KG-VP', 21),\n",
       " ('WV-1', 21),\n",
       " ('PO-VA-VI-YN', 21),\n",
       " ('RE-V', 21),\n",
       " ('QC', 21),\n",
       " ('B2-OV', 21),\n",
       " ('KG-VJ', 21),\n",
       " ('DX-10', 21),\n",
       " ('GA', 21),\n",
       " ('DU-XT', 21),\n",
       " ('QN-2', 21),\n",
       " ('XX-C2', 21),\n",
       " ('CV-KG-SP', 20),\n",
       " ('KG-8', 20),\n",
       " ('GV-SP', 20),\n",
       " ('2Q-EJ', 20),\n",
       " ('OF-3', 20),\n",
       " ('6E-DO-MJ', 19),\n",
       " ('2B-EX', 19),\n",
       " ('SS-1', 19),\n",
       " ('SP-TW-WG', 19),\n",
       " ('2W-B2', 19),\n",
       " ('DX-VJ', 19),\n",
       " ('JN-OV', 19),\n",
       " ('L', 19),\n",
       " ('2R-DX', 19),\n",
       " ('DI-DX', 19),\n",
       " ('XX-SU-TR', 19),\n",
       " ('CB-VM', 19),\n",
       " ('AE-LG', 19),\n",
       " ('MT-PQ', 19),\n",
       " ('B4-PP', 19),\n",
       " ('KG-VM', 19),\n",
       " ('B1-C5', 19),\n",
       " ('B1-10', 19),\n",
       " ('BQ-EJ-MT', 19),\n",
       " ('DX-VV', 18),\n",
       " ('2H-MZ', 18),\n",
       " ('1S', 18),\n",
       " ('VP-5', 18),\n",
       " ('PW', 18),\n",
       " ('2H-FL', 18),\n",
       " ('SU-VJ', 18),\n",
       " ('HF-TW', 18),\n",
       " ('1B-LX-PO-VI', 18),\n",
       " ('B3-2', 18),\n",
       " ('4E-BU-DO', 18),\n",
       " ('VL-2', 18),\n",
       " ('PE-PL', 18),\n",
       " ('BD', 18),\n",
       " ('CU-KG', 18),\n",
       " ('PE-SU', 18),\n",
       " ('2H-BF', 17),\n",
       " ('AE', 17),\n",
       " ('1S-QU-SU', 17),\n",
       " ('P0', 17),\n",
       " ('VM-5', 17),\n",
       " ('HF-OF', 17),\n",
       " ('AS-B1', 17),\n",
       " ('FL-P3', 17),\n",
       " ('FN', 17),\n",
       " ('2R-TR', 17),\n",
       " ('VP-3', 17),\n",
       " ('BW', 17),\n",
       " ('NF-SU', 17),\n",
       " ('GR-GV', 17),\n",
       " ('OF-2', 17),\n",
       " ('PK', 17),\n",
       " ('Z4', 17),\n",
       " ('CR', 17),\n",
       " ('2R-BL', 17),\n",
       " ('FC', 16),\n",
       " ('PL-PR', 16),\n",
       " ('DX-SV-TW', 16),\n",
       " ('C4-MT', 16),\n",
       " ('DX-PV', 16),\n",
       " ('1B-TR', 16),\n",
       " ('GN-PE', 16),\n",
       " ('B1-OF', 16),\n",
       " ('2D-4', 16),\n",
       " ('S4', 16),\n",
       " ('CT-QU', 16),\n",
       " ('2B-GA-VI', 16),\n",
       " ('SP-ZZ', 15),\n",
       " ('BL-1', 15),\n",
       " ('VM-6', 15),\n",
       " ('LX-VJ', 15),\n",
       " ('P1', 15),\n",
       " ('SS-2', 15),\n",
       " ('C', 15),\n",
       " ('WB', 15),\n",
       " ('DX-VH', 15),\n",
       " ('1B-ST', 15),\n",
       " ('PS-SP', 15),\n",
       " ('BF-DX', 15),\n",
       " ('IN-1', 15),\n",
       " ('LG-VI', 15),\n",
       " ('Y1', 15),\n",
       " ('ST-ZZ', 15),\n",
       " ('3B-SU', 15),\n",
       " ('B1-6', 14),\n",
       " ('2H-OV', 14),\n",
       " ('2D-OF', 14),\n",
       " ('KG-ST', 14),\n",
       " ('DX-EX', 14),\n",
       " ('LX-VM', 14),\n",
       " ('ST-11', 14),\n",
       " ('TC-TR', 14),\n",
       " ('BL-SU-VM', 14),\n",
       " ('G2-SU', 14),\n",
       " ('12', 14),\n",
       " ('CL-PE', 14),\n",
       " ('XX-RE', 14),\n",
       " ('2B-OV', 13),\n",
       " ('KG-4', 13),\n",
       " ('2W-B3', 13),\n",
       " ('B1-LX', 13),\n",
       " ('LX-3', 13),\n",
       " ('KC', 13),\n",
       " ('1B-PI', 13),\n",
       " ('CZ', 13),\n",
       " ('MT-NF', 13),\n",
       " ('BL-KG-SU', 13),\n",
       " ('2F-QU-SU', 13),\n",
       " ('B1-TR', 13),\n",
       " ('M1', 13),\n",
       " ('1D-P7', 13),\n",
       " ('CU-P7-PF', 13),\n",
       " ('1B-SP', 13),\n",
       " ('OV-VI', 12),\n",
       " ('BV', 12),\n",
       " ('41-SU', 12),\n",
       " ('PO-1', 12),\n",
       " ('2B-C6', 12),\n",
       " ('XX-PO', 12),\n",
       " ('LN', 12),\n",
       " ('XX-DP', 12),\n",
       " ('2N', 12),\n",
       " ('DX-OF-TR', 12),\n",
       " ('JC-VM', 12),\n",
       " ('1B-U9', 12),\n",
       " ('LK-SU', 12),\n",
       " ('ON', 12),\n",
       " ('OV-PO-VI', 12),\n",
       " ('AS-MT', 12),\n",
       " ('EX-KC-SP', 12),\n",
       " ('VC', 12),\n",
       " ('OF-1', 12),\n",
       " ('XX-PS', 12),\n",
       " ('B1-C1', 12),\n",
       " ('FM-QD', 12),\n",
       " ('PT-1', 12),\n",
       " ('CL-RV-TW', 11),\n",
       " ('PI-SU', 11),\n",
       " ('1W-B2', 11),\n",
       " ('BQ-EJ', 11),\n",
       " ('JV', 11),\n",
       " ('SF', 11),\n",
       " ('2B-VI', 11),\n",
       " ('OF-PE', 11),\n",
       " ('AS-TR', 11),\n",
       " ('CL-QB', 11),\n",
       " ('2B-C5', 11),\n",
       " ('6E-BU-DO', 11),\n",
       " ('VB', 11),\n",
       " ('1B-OV-VI', 11),\n",
       " ('RE', 11),\n",
       " ('2B-DU-SU', 11),\n",
       " ('B1-C6', 11),\n",
       " ('DB-ST', 11),\n",
       " ('1N', 11),\n",
       " ('B2-CV', 11),\n",
       " ('45-QU', 11),\n",
       " ('2R-IR', 11),\n",
       " ('1S-2C-ST', 11),\n",
       " ('AS-GV', 11),\n",
       " ('BE-VI', 11),\n",
       " ('P-SI', 10),\n",
       " ('OV-PE', 10),\n",
       " ('OF-Q2', 10),\n",
       " ('2T-SP', 10),\n",
       " ('DU-SU', 10),\n",
       " ('AN', 10),\n",
       " ('LA-RF-TR', 10),\n",
       " ('C3-NI', 10),\n",
       " ('NM-QU', 10),\n",
       " ('AC-DX', 10),\n",
       " ('KN-ST', 10),\n",
       " ('B2-KG', 10),\n",
       " ('VP-4', 10),\n",
       " ('DX-LA-VM', 10),\n",
       " ('SP-QU', 10),\n",
       " ('KG-LX', 10),\n",
       " ('RY-VI', 10),\n",
       " ('QB-SP', 10),\n",
       " ('CO-EX', 10),\n",
       " ('33-SU', 10),\n",
       " ('MD', 10),\n",
       " ('IO-PO-VI', 10),\n",
       " ('IT', 10),\n",
       " ('E5-ST', 10),\n",
       " ('CB-PI', 9),\n",
       " ('2B-GN-SU', 9),\n",
       " ('XX-1B-DX', 9),\n",
       " ('CL-SP', 9),\n",
       " ('+A', 9),\n",
       " ('CU-KY', 9),\n",
       " ('CT-G2', 9),\n",
       " ('C3-ST', 9),\n",
       " ('HM-OF-RY', 9),\n",
       " ('XX-GR-VM', 9),\n",
       " ('C1-1', 9),\n",
       " ('BS-SU', 9),\n",
       " ('3R-C5', 9),\n",
       " ('B2-3', 9),\n",
       " ('EX-L4', 9),\n",
       " ('DI', 9),\n",
       " ('GV-ST', 9),\n",
       " ('1H-OF', 9),\n",
       " ('CU-EL-R0-TR', 9),\n",
       " ('B4-C8', 9),\n",
       " ('8E-BU-DO', 9),\n",
       " ('DB-PN', 9),\n",
       " ('SU-VG', 9),\n",
       " ('XX-WV', 9),\n",
       " ('2B-KG', 9),\n",
       " ('OV-4', 9),\n",
       " ('OC-TR', 9),\n",
       " ('BQ-MT-RV-SU', 9),\n",
       " ('DP-2', 9),\n",
       " ('3L', 9),\n",
       " ('DP-SU', 9),\n",
       " ('3D-DX', 9),\n",
       " ('GV-3', 9),\n",
       " ('QU-TD', 9),\n",
       " ('BL-4', 9),\n",
       " ('45', 8),\n",
       " ('G2-ST', 8),\n",
       " ('XX-B3', 8),\n",
       " ('NM-QB', 8),\n",
       " ('1B-GN-SU', 8),\n",
       " ('LX-RY', 8),\n",
       " ('DX-TC', 8),\n",
       " ('B3-C4', 8),\n",
       " ('DX-PE-RV', 8),\n",
       " ('G2-MT', 8),\n",
       " ('PL-ST', 8),\n",
       " ('M0-SU', 8),\n",
       " ('NP', 8),\n",
       " ('LG-PO-VI', 8),\n",
       " ('LO-PL', 8),\n",
       " ('BL-6', 8),\n",
       " ('B2-TR', 8),\n",
       " ('DI-GT-QU', 8),\n",
       " ('2B-PO-RY-VI', 8),\n",
       " ('CX-QU', 8),\n",
       " ('WD', 8),\n",
       " ('2B-CV', 8),\n",
       " ('AN-FM-ST', 8),\n",
       " ('AS-3', 8),\n",
       " ('MZ', 8),\n",
       " ('2B-5E-CF-OV', 8),\n",
       " ('CU-OV', 8),\n",
       " ('BQ-KG', 8),\n",
       " ('B3-EJ', 8),\n",
       " ('FM-VI', 8),\n",
       " ('GV-PO-VI', 8),\n",
       " ('JA-2', 8),\n",
       " ('QU-SM', 8),\n",
       " ('B5', 8),\n",
       " ('KG-MZ', 7),\n",
       " ('C2-VC', 7),\n",
       " ('4E-DO', 7),\n",
       " ('BS-KG', 7),\n",
       " ('2Q-AS', 7),\n",
       " ('C5-1', 7),\n",
       " ('1S-DB', 7),\n",
       " ('DB-1', 7),\n",
       " ('RF-VW', 7),\n",
       " ('FM-SU', 7),\n",
       " ('AE-NM-QU', 7),\n",
       " ('UB-VI', 7),\n",
       " ('DI-QU', 7),\n",
       " ('XL', 7),\n",
       " ('Q2', 7),\n",
       " ('LX-VP', 7),\n",
       " ('CO-SP', 7),\n",
       " ('OV-PN', 7),\n",
       " ('DX-PM', 7),\n",
       " ('PS-VZ', 7),\n",
       " ('1T', 7),\n",
       " ('SP-VI', 7),\n",
       " ('CV-LX', 7),\n",
       " ('KG-NM-SU', 7),\n",
       " ('BS-1', 7),\n",
       " ('2R-C2', 7),\n",
       " ('2H-OF', 7),\n",
       " ('DX-LG', 7),\n",
       " ('CV-KG-NM', 7),\n",
       " ('HQ-SU', 7),\n",
       " ('2B-GV', 7),\n",
       " ('SU-VL', 7),\n",
       " ('HM-OV', 7),\n",
       " ('2Q-1', 7),\n",
       " ('SP-WN', 7),\n",
       " ('B3-OV', 7),\n",
       " ('B2-LX', 7),\n",
       " ('B2-6', 7),\n",
       " ('PR-2', 6),\n",
       " ('1D', 6),\n",
       " ('B2-C3', 6),\n",
       " ('2B-AE', 6),\n",
       " ('A-PE-SD-TW', 6),\n",
       " ('2D-3', 6),\n",
       " ('KG-PG-R2', 6),\n",
       " ('TR-VI', 6),\n",
       " ('OF-PV', 6),\n",
       " ('PN', 6),\n",
       " ('B3-6', 6),\n",
       " ('RV-SU', 6),\n",
       " ('CW', 6),\n",
       " ('AV-VI', 6),\n",
       " ('BF-SU', 6),\n",
       " ('38-GV', 6),\n",
       " ('PI-TR', 6),\n",
       " ('89-SP', 6),\n",
       " ('C2-ST', 6),\n",
       " ('DX-PN-VI', 6),\n",
       " ('CB-GD', 6),\n",
       " ('XX-LX-VM', 6),\n",
       " ('MO-SU', 6),\n",
       " ('1B-PO-RY-VI', 6),\n",
       " ('GD-4', 6),\n",
       " ('KG-PO', 6),\n",
       " ('TC', 6),\n",
       " ('MV-1', 6),\n",
       " ('KG-3', 6),\n",
       " ('RY', 6),\n",
       " ('JS-RV-SU', 6),\n",
       " ('PO-SP-VI', 6),\n",
       " ('3B-PO-RY', 6),\n",
       " ('EX-RV', 6),\n",
       " ('1B-DP', 6),\n",
       " ('LX-SU-VJ', 6),\n",
       " ('1B-PM', 6),\n",
       " ('HF', 6),\n",
       " ('XX-PR', 6),\n",
       " ('DX-VI', 6),\n",
       " ('BF-1', 6),\n",
       " ('AS-VJ', 5),\n",
       " ('2F', 5),\n",
       " ('BR', 5),\n",
       " ('2B-BE-SU', 5),\n",
       " ('AE-DX-LG', 5),\n",
       " ('HM-1', 5),\n",
       " ('GL-KG', 5),\n",
       " ('CY-RY-VI', 5),\n",
       " ('B2-PE', 5),\n",
       " ('DX-GV-SU', 5),\n",
       " ('AE-NM-QB', 5),\n",
       " ('BQ-EJ-KG', 5),\n",
       " ('1B-OV', 5),\n",
       " ('C4-3', 5),\n",
       " ('R3', 5),\n",
       " ('AE-KG', 5),\n",
       " ('CU-GD', 5),\n",
       " ('FY-OV-SI', 5),\n",
       " ('3H', 5),\n",
       " ('CY-SU', 5),\n",
       " ('TR-2', 5),\n",
       " ('PI-5', 5),\n",
       " ('DX-SM', 5),\n",
       " ('CL-DX-WE', 5),\n",
       " ('KG-PG', 5),\n",
       " ('CY-KG', 5),\n",
       " ('FJ', 5),\n",
       " ('KG-5', 5),\n",
       " ('4R-C8', 5),\n",
       " ('1B-PL', 5),\n",
       " ('CV-JS', 5),\n",
       " ('G2-NF', 5),\n",
       " ('P7-SD', 5),\n",
       " ('1B-RS', 5),\n",
       " ('2B-CV-NM', 5),\n",
       " ('1B-Y0', 4),\n",
       " ('PP-SU', 4),\n",
       " ('1B-N5-VI', 4),\n",
       " ...]"
      ]
     },
     "execution_count": 27,
     "metadata": {},
     "output_type": "execute_result"
    }
   ],
   "source": [
    "# Count the number instances in each factor\n",
    "Counter(df['category_room']).most_common(1319)"
   ]
  },
  {
   "cell_type": "code",
   "execution_count": 28,
   "metadata": {},
   "outputs": [
    {
     "data": {
      "text/plain": [
       "[('ST', 409504),\n",
       " ('DX', 71145),\n",
       " ('SU', 31541),\n",
       " ('SU-1', 30255),\n",
       " ('AS', 22833),\n",
       " ('XX-SU', 22545),\n",
       " ('SP', 18194),\n",
       " ('QN', 11384),\n",
       " ('ST-1', 9679),\n",
       " ('KG', 8336),\n",
       " ('C2', 7593),\n",
       " ('OM', 7481),\n",
       " ('VM', 7174),\n",
       " ('EJ', 6738),\n",
       " ('GD', 6608),\n",
       " ('PE', 5695),\n",
       " ('EY', 5088),\n",
       " ('PI', 4777),\n",
       " ('XX-2B', 4769),\n",
       " ('OV', 4513),\n",
       " ('DX-1', 4450),\n",
       " ('XX-1B', 4113),\n",
       " ('B1', 4077),\n",
       " ('DX-KG', 4047),\n",
       " ('LX', 3722),\n",
       " ('B2', 3544),\n",
       " ('NM', 3529),\n",
       " ('1B-1', 3433),\n",
       " ('DB', 3060),\n",
       " ('C3', 3018),\n",
       " ('Z1', 3006),\n",
       " ('1B', 2885),\n",
       " ('PR', 2694),\n",
       " ('2D', 2676),\n",
       " ('B1-C4', 2603),\n",
       " ('XX-GR', 2562),\n",
       " ('IN', 2561),\n",
       " ('BL', 2522),\n",
       " ('C4', 2473),\n",
       " ('ST-2', 2350),\n",
       " ('GR', 2333),\n",
       " ('B1-1', 2084),\n",
       " ('DX-GV', 2059),\n",
       " ('C1', 2043),\n",
       " ('1E', 2038),\n",
       " ('SU-4', 1664),\n",
       " ('AS-DB', 1653),\n",
       " ('2B-1', 1650),\n",
       " ('DX-GD', 1644),\n",
       " ('RO', 1636),\n",
       " ('ST-3', 1597),\n",
       " ('QN-SU', 1540),\n",
       " ('SU-2', 1492),\n",
       " ('VL', 1439),\n",
       " ('2D-AS', 1423),\n",
       " ('C8', 1419),\n",
       " ('XX-B1', 1396),\n",
       " ('KG-NM', 1371),\n",
       " ('SS', 1321),\n",
       " ('KG-SU', 1314),\n",
       " ('GV', 1271),\n",
       " ('DX-EJ', 1251),\n",
       " ('RV', 1193),\n",
       " ('XX-OM', 1171),\n",
       " ('2D-DX', 1141),\n",
       " ('OV-SU', 1140),\n",
       " ('VP', 1117),\n",
       " ('C6', 1110),\n",
       " ('EJ-1', 1096),\n",
       " ('DX-OV', 1094),\n",
       " ('KG-PE', 1063),\n",
       " ('XX-DX-PI', 1045),\n",
       " ('GD-SU', 1023),\n",
       " ('DX-VP', 1014),\n",
       " ('XX-KG-SU', 984),\n",
       " ('DX-QN', 934),\n",
       " ('NM-QN', 908),\n",
       " ('EX', 905),\n",
       " ('DX-VL', 901),\n",
       " ('QU-SP', 882),\n",
       " ('B2-C6', 880),\n",
       " ('AS-1', 862),\n",
       " ('2D-SU', 862),\n",
       " ('QU-ST', 860),\n",
       " ('AS-KG', 860),\n",
       " ('SD-SP', 824),\n",
       " ('2D-NM', 800),\n",
       " ('MT', 781),\n",
       " ('B1-SU', 781),\n",
       " ('FH', 780),\n",
       " ('CT', 765),\n",
       " ('CS', 761),\n",
       " ('TR', 748),\n",
       " ('B1-DX', 740),\n",
       " ('8E-MJ', 712),\n",
       " ('WV', 695),\n",
       " ('OF', 685),\n",
       " ('2B', 683),\n",
       " ('DX-2', 669),\n",
       " ('0E-DO', 666),\n",
       " ('PP-1', 658),\n",
       " ('CB', 649),\n",
       " ('GL', 645),\n",
       " ('ST-4', 643),\n",
       " ('GV-1', 636),\n",
       " ('LX-OV', 634),\n",
       " ('EJ-KG', 617),\n",
       " ('B1-VP', 603),\n",
       " ('C2-NI', 598),\n",
       " ('BL-DX', 596),\n",
       " ('DX-RV', 595),\n",
       " ('1B-PO-VI', 592),\n",
       " ('QU', 552),\n",
       " ('2Q', 549),\n",
       " ('BK-FH', 528),\n",
       " ('XX-GR-KG', 505),\n",
       " ('DX-6', 481),\n",
       " ('ST-6', 477),\n",
       " ('DX-LV', 473),\n",
       " ('PT', 462),\n",
       " ('DX-VM', 457),\n",
       " ('AC', 457),\n",
       " ('CM-1', 448),\n",
       " ('MD-SP', 447),\n",
       " ('DX-PL', 444),\n",
       " ('SU-VM', 438),\n",
       " ('C2-VM', 435),\n",
       " ('UB', 432),\n",
       " ('KG-1', 421),\n",
       " ('B2-1', 408),\n",
       " ('BK', 404),\n",
       " ('10', 402),\n",
       " ('BL-SU', 401),\n",
       " ('2D-1', 391),\n",
       " ('B3', 386),\n",
       " ('DP', 372),\n",
       " ('JA', 365),\n",
       " ('FA', 355),\n",
       " ('1B-C4', 343),\n",
       " ('GV-2', 342),\n",
       " ('DX-4', 340),\n",
       " ('C5', 338),\n",
       " ('PI-1', 335),\n",
       " ('GR-QN', 331),\n",
       " ('DX-PO', 330),\n",
       " ('FS-PT', 323),\n",
       " ('VN', 317),\n",
       " ('DX-PE', 317),\n",
       " ('KG-SP', 308),\n",
       " ('FM', 306),\n",
       " ('KG-OV', 306),\n",
       " ('CL', 294),\n",
       " ('C2-1', 294),\n",
       " ('PE-1', 293),\n",
       " ('PI-VM', 285),\n",
       " ('B1-VM', 282),\n",
       " ('GV-SU', 278),\n",
       " ('BS', 278),\n",
       " ('SW-VP', 276),\n",
       " ('PP', 275),\n",
       " ('JS', 262),\n",
       " ('GD-1', 261),\n",
       " ('B2-C4', 260),\n",
       " ('B2-2', 260),\n",
       " ('DX-JA', 259),\n",
       " ('CV-QN', 259),\n",
       " ('EY-FH', 253),\n",
       " ('PM', 243),\n",
       " ('BQ-SU', 243),\n",
       " ('B1-2', 233),\n",
       " ('1Z-BU-DO', 233),\n",
       " ('B1-C2', 230),\n",
       " ('SP-SU', 226),\n",
       " ('PI-QN', 224),\n",
       " ('B1-EJ', 222),\n",
       " ('PG', 220),\n",
       " ('PI-2', 217),\n",
       " ('B2-PP', 215),\n",
       " ('CM', 214),\n",
       " ('1B-SU', 212),\n",
       " ('BQ-MT-SU', 212),\n",
       " ('2C', 211),\n",
       " ('1B-PO', 211),\n",
       " ('QN-1', 210),\n",
       " ('GR-1', 207),\n",
       " ('SD', 206),\n",
       " ('FH-1', 206),\n",
       " ('BQ-MT', 205),\n",
       " ('2B-SU', 203),\n",
       " ('OV-PI', 203),\n",
       " ('R', 201),\n",
       " ('2B-PO-VI', 199),\n",
       " ('SU-WV', 199),\n",
       " ('BL-ST', 196),\n",
       " ('NM-1', 192),\n",
       " ('DX-GR', 192),\n",
       " ('AX', 191),\n",
       " ('CV-KG', 189),\n",
       " ('CV-1', 188),\n",
       " ('EX-SU', 188),\n",
       " ('VP-1', 186),\n",
       " ('SU-VP', 185),\n",
       " ('PL-SP', 184),\n",
       " ('QU-SU', 183),\n",
       " ('2B-DX', 183),\n",
       " ('BQ-QU', 181),\n",
       " ('SU-3', 180),\n",
       " ('SB-SP', 179),\n",
       " ('XX-CB', 178),\n",
       " ('SU-5', 177),\n",
       " ('2Q-NM', 175),\n",
       " ('DX-PP', 174),\n",
       " ('GR-KG', 167),\n",
       " ('ST-5', 167),\n",
       " ('BQ-QU-SU', 166),\n",
       " ('1B-C5', 164),\n",
       " ('SX', 162),\n",
       " ('DX-SU', 162),\n",
       " ('AS-DX', 161),\n",
       " ('C4-2', 160),\n",
       " ('1S-MT', 160),\n",
       " ('DX-8', 158),\n",
       " ('1H-OV', 158),\n",
       " ('B1-PE', 158),\n",
       " ('CV-DX', 158),\n",
       " ('B1-3', 157),\n",
       " ('DB-SU', 156),\n",
       " ('MT-SU', 153),\n",
       " ('C2-OV', 152),\n",
       " ('SU-TR', 150),\n",
       " ('DX-SD', 149),\n",
       " ('AS-CV', 147),\n",
       " ('CB-CV', 145),\n",
       " ('EJ-QN', 143),\n",
       " ('2R', 143),\n",
       " ('6E-DO-FA', 142),\n",
       " ('EY-1', 138),\n",
       " ('GN-SU', 138),\n",
       " ('C4-1', 137),\n",
       " ('CY', 137),\n",
       " ('E2', 136),\n",
       " ('2R-C4', 136),\n",
       " ('3B', 134),\n",
       " ('2D-CV', 134),\n",
       " ('VJ', 132),\n",
       " ('PI-4', 131),\n",
       " ('DP-1', 131),\n",
       " ('OV-1', 130),\n",
       " ('BQ', 130),\n",
       " ('SR-ST', 130),\n",
       " ('DX-9', 129),\n",
       " ('C2-EJ', 128),\n",
       " ('DX-GO', 128),\n",
       " ('CV', 127),\n",
       " ('CC-10', 127),\n",
       " ('XX-CV', 120),\n",
       " ('BL-SS', 119),\n",
       " ('BS-DX', 117),\n",
       " ('B2-EJ', 115),\n",
       " ('B2-VP', 114),\n",
       " ('DX-3', 114),\n",
       " ('EJ-4', 113),\n",
       " ('EX-KG', 113),\n",
       " ('AS-QN', 112),\n",
       " ('RY-SU', 110),\n",
       " ('PQ', 110),\n",
       " ('B1-OV', 109),\n",
       " ('TR-1', 108),\n",
       " ('XX-3B', 108),\n",
       " ('B2-DX', 107),\n",
       " ('C4-SU', 106),\n",
       " ('DX-QU', 106),\n",
       " ('CV-SU', 105),\n",
       " ('KG-OF', 104),\n",
       " ('DX-PO-VI', 104),\n",
       " ('C3-VM', 104),\n",
       " ('B1-GV', 104),\n",
       " ('CV-PE', 103),\n",
       " ('B3-1', 103),\n",
       " ('QU-SB-SP', 102),\n",
       " ('BI', 101),\n",
       " ('BQ-EJ-QU', 101),\n",
       " ('OM-1', 101),\n",
       " ('B1-PI', 101),\n",
       " ('AS-RE', 101),\n",
       " ('MS', 100),\n",
       " ('EJ-3', 100),\n",
       " ('M', 100),\n",
       " ('SU-6', 99),\n",
       " ('8E-BU-MJ', 99),\n",
       " ('GU', 99),\n",
       " ('1U', 97),\n",
       " ('1H', 97),\n",
       " ('PO-VI', 96),\n",
       " ('EX-QU', 96),\n",
       " ('FA-PI', 94),\n",
       " ('XX-NM', 93),\n",
       " ('BU', 92),\n",
       " ('VM-1', 92),\n",
       " ('XX-Z1', 92),\n",
       " ('CV-EJ', 92),\n",
       " ('KG-7', 91),\n",
       " ('GV-PI', 90),\n",
       " ('C2-DX', 90),\n",
       " ('2B-FM', 89),\n",
       " ('FS', 87),\n",
       " ('DX-P1', 87),\n",
       " ('2B-PO', 87),\n",
       " ('B1-4', 87),\n",
       " ('PV-2', 87),\n",
       " ('GR-2', 86),\n",
       " ('PO-SU', 86),\n",
       " ('GA-WG', 84),\n",
       " ('DX-Q2', 84),\n",
       " ('CH', 82),\n",
       " ('1Q-SP', 81),\n",
       " ('ST-8', 81),\n",
       " ('LX-VL', 81),\n",
       " ('67-7R', 80),\n",
       " ('B2-C5', 80),\n",
       " ('DX-OF', 80),\n",
       " ('FR-VM', 80),\n",
       " ('OA', 80),\n",
       " ('XX-IN', 80),\n",
       " ('CS-QU', 80),\n",
       " ('CB-1', 79),\n",
       " ('C3-SU', 79),\n",
       " ('GV-KG', 78),\n",
       " ('2B-SP', 78),\n",
       " ('CV-PI', 78),\n",
       " ('2D-EJ', 77),\n",
       " ('PV', 77),\n",
       " ('C4-DX', 77),\n",
       " ('B2-SU', 77),\n",
       " ('CB-OV', 76),\n",
       " ('DX-PU', 76),\n",
       " ('2H', 76),\n",
       " ('KN-TD', 76),\n",
       " ('XX-CV-DX', 75),\n",
       " ('DX-PI', 74),\n",
       " ('PR-1', 73),\n",
       " ('3B-PO-VI', 73),\n",
       " ('BF', 73),\n",
       " ('2R-C6', 73),\n",
       " ('AS-CY', 73),\n",
       " ('ES', 73),\n",
       " ('CB-PE', 72),\n",
       " ('AN-FB', 71),\n",
       " ('C9', 71),\n",
       " ('1S-MT-SU', 71),\n",
       " ('2D-5', 71),\n",
       " ('EJ-2', 71),\n",
       " ('2Q-DX', 71),\n",
       " ('B3-C8', 71),\n",
       " ('SQ', 69),\n",
       " ('B1-C3', 69),\n",
       " ('J6-SD', 69),\n",
       " ('B4', 69),\n",
       " ('PS-1', 69),\n",
       " ('1R', 68),\n",
       " ('1Z-DO', 67),\n",
       " ('FH-2', 67),\n",
       " ('B3-PP', 66),\n",
       " ('KT', 66),\n",
       " ('E-SP', 66),\n",
       " ('EJ-LU', 65),\n",
       " ('SM', 65),\n",
       " ('C3-1', 64),\n",
       " ('DX-RE', 64),\n",
       " ('KG-PI', 64),\n",
       " ('XX-GV', 64),\n",
       " ('PE-2', 63),\n",
       " ('DR', 62),\n",
       " ('DX-TR', 62),\n",
       " ('CU', 62),\n",
       " ('1B-C2', 61),\n",
       " ('CO', 60),\n",
       " ('DX-MD', 60),\n",
       " ('DX-KN', 60),\n",
       " ('1B-EX', 59),\n",
       " ('CB-DX', 59),\n",
       " ('3M', 59),\n",
       " ('EJ-SU', 59),\n",
       " ('CS-SP', 59),\n",
       " ('XX-GD', 57),\n",
       " ('DB-SL', 56),\n",
       " ('I7', 56),\n",
       " ('PI-3', 56),\n",
       " ('CV-GR', 56),\n",
       " ('SP-SQ', 55),\n",
       " ('2D-OV', 55),\n",
       " ('AS-QU', 55),\n",
       " ('DU-PO', 55),\n",
       " ('PL-PU', 55),\n",
       " ('GA-VI', 54),\n",
       " ('1W-B1', 54),\n",
       " ('GA-SU', 54),\n",
       " ('DX-SS', 53),\n",
       " ('BL-OV', 53),\n",
       " ('4B-PO', 53),\n",
       " ('B1-KG', 53),\n",
       " ('DX-WV', 52),\n",
       " ('QU-SB', 52),\n",
       " ('B3-C7', 52),\n",
       " ('C3-2', 51),\n",
       " ('GV-4', 51),\n",
       " ('2D-VP', 51),\n",
       " ('DX-GA', 51),\n",
       " ('1B-DX', 51),\n",
       " ('RV-1', 50),\n",
       " ('C2-4', 49),\n",
       " ('8E-FA', 49),\n",
       " ('SD-SU', 49),\n",
       " ('KG-RE-V', 49),\n",
       " ('CB-2', 48),\n",
       " ('SC', 48),\n",
       " ('CS-RR', 47),\n",
       " ('XX-AS', 47),\n",
       " ('XX-2B-CV', 46),\n",
       " ('FV-SP', 46),\n",
       " ('BU-DL', 46),\n",
       " ('2B-NM', 46),\n",
       " ('C4-VM', 46),\n",
       " ('OF-4', 45),\n",
       " ('CV-2', 45),\n",
       " ('LX-RE-V', 45),\n",
       " ('PE-RV', 45),\n",
       " ('B2-C2', 45),\n",
       " ('EX-KG-SB', 45),\n",
       " ('HM', 45),\n",
       " ('SL', 44),\n",
       " ('DX-ZZ', 44),\n",
       " ('L4', 44),\n",
       " ('EX-SD', 44),\n",
       " ('C2-2', 44),\n",
       " ('VP-2', 43),\n",
       " ('B1-CV', 42),\n",
       " ('BN', 42),\n",
       " ('OM-2', 42),\n",
       " ('ST-10', 42),\n",
       " ('2B-3R', 42),\n",
       " ('TB', 42),\n",
       " ('CV-DX-KG', 42),\n",
       " ('SI', 42),\n",
       " ('XX-2B-DX', 42),\n",
       " ('DX-5', 42),\n",
       " ('C2-GV', 41),\n",
       " ('CL-PC', 41),\n",
       " ('DU', 41),\n",
       " ('KG-SB', 41),\n",
       " ('C2-VJ', 41),\n",
       " ('MT-ST', 41),\n",
       " ('2S', 41),\n",
       " ('LX-OV-SU', 41),\n",
       " ('XX-CB-DX', 41),\n",
       " ('CL-WE', 41),\n",
       " ('1B-BL', 40),\n",
       " ('C8-FH', 40),\n",
       " ('FH-3', 40),\n",
       " ('1B-GA-VI', 40),\n",
       " ('1B-DX-SU', 40),\n",
       " ('C8-FA', 40),\n",
       " ('BG-ST', 40),\n",
       " ('BL-VM', 40),\n",
       " ('PO-VA-VI', 40),\n",
       " ('B2-GV', 39),\n",
       " ('CU-EL-OF', 39),\n",
       " ('XA', 39),\n",
       " ('P7', 38),\n",
       " ('B3-C5', 38),\n",
       " ('TR-VM', 38),\n",
       " ('PL', 38),\n",
       " ('G2', 38),\n",
       " ('DX-SV', 38),\n",
       " ('LX-6', 38),\n",
       " ('G2-MT-SU', 38),\n",
       " ('XX-PI', 38),\n",
       " ('CG', 37),\n",
       " ('B3-C6', 37),\n",
       " ('AV', 37),\n",
       " ('1B-JA', 37),\n",
       " ('8C-ON-RY', 37),\n",
       " ('2D-2', 37),\n",
       " ('E-PM', 37),\n",
       " ('JA-KG', 37),\n",
       " ('C4-ST', 37),\n",
       " ('DX-OV-SU', 37),\n",
       " ('8C-DX-ON', 36),\n",
       " ('2H-MS', 36),\n",
       " ('SA-VI', 36),\n",
       " ('DX-WE', 36),\n",
       " ('V0-VI', 36),\n",
       " ('XX-2D', 35),\n",
       " ('E3', 35),\n",
       " ('DP-4', 35),\n",
       " ('2Q-ST', 35),\n",
       " ('PE-3', 35),\n",
       " ('SP-WE', 35),\n",
       " ('62', 35),\n",
       " ('KG-NM-SP', 35),\n",
       " ('SU-UU', 35),\n",
       " ('EJ-QU', 35),\n",
       " ('DX-VN', 34),\n",
       " ('CB-EJ', 34),\n",
       " ('E+', 34),\n",
       " ('VM-2', 34),\n",
       " ('OF-PI', 34),\n",
       " ('C2-PU', 34),\n",
       " ('C7', 34),\n",
       " ('BE-CB', 33),\n",
       " ('JC-SU', 33),\n",
       " ('QB', 33),\n",
       " ('XX-KG-PI', 33),\n",
       " ('DB-3', 33),\n",
       " ('JC', 33),\n",
       " ('AS-2', 33),\n",
       " ('LK', 32),\n",
       " ('VM-3', 32),\n",
       " ('BA-SU', 32),\n",
       " ('AS-VP', 32),\n",
       " ('1B-C6', 32),\n",
       " ('OF-SU', 32),\n",
       " ('3R-C6', 32),\n",
       " ('PE-SD', 32),\n",
       " ('ST-9', 32),\n",
       " ('2Y-DX', 31),\n",
       " ('NM-2', 31),\n",
       " ('KC-SP', 31),\n",
       " ('PN-SG-VI', 31),\n",
       " ('1B-VI', 31),\n",
       " ('1T-2R-ST', 30),\n",
       " ('C6-FH', 30),\n",
       " ('YN', 30),\n",
       " ('XX-DX-GR', 30),\n",
       " ('IR', 30),\n",
       " ('PV-SU', 30),\n",
       " ('KG-LL', 30),\n",
       " ('B3-DX', 29),\n",
       " ('PE-QN', 29),\n",
       " ('2R-C3', 29),\n",
       " ('SU-VN', 29),\n",
       " ('EX-QU-SB', 29),\n",
       " ('KG-NF-SU', 28),\n",
       " ('PP-2', 28),\n",
       " ('BU-DX', 28),\n",
       " ('CL-YB', 28),\n",
       " ('PG-PO-VI', 28),\n",
       " ('DX-ON', 28),\n",
       " ('PM-WE', 28),\n",
       " ('C2-JC-VM', 28),\n",
       " ('B1-7', 28),\n",
       " ('DB-SB', 27),\n",
       " ('LA-VM', 27),\n",
       " ('CL-DX', 27),\n",
       " ('TD', 27),\n",
       " ('WM', 27),\n",
       " ('DB-SB-SP', 27),\n",
       " ('ST-7', 26),\n",
       " ('GD-2', 26),\n",
       " ('KG-2', 26),\n",
       " ('OV-2', 26),\n",
       " ('NF-QU', 26),\n",
       " ('1B-GV', 26),\n",
       " ('AM', 26),\n",
       " ('DE', 26),\n",
       " ('B2-4', 26),\n",
       " ('C2-SU', 25),\n",
       " ('BR-SP', 25),\n",
       " ('PX', 25),\n",
       " ('3I', 25),\n",
       " ('1B-SV', 25),\n",
       " ('CB-KG', 25),\n",
       " ('NS', 25),\n",
       " ('2C-SU', 25),\n",
       " ('1B-P3-PO-VI', 25),\n",
       " ('ST-WM', 25),\n",
       " ('1B-PE', 25),\n",
       " ('1-R9-VI', 25),\n",
       " ('B1-5', 24),\n",
       " ('DX-7', 24),\n",
       " ('AS-BL', 24),\n",
       " ('C8-MQ', 24),\n",
       " ('2Q-GV', 24),\n",
       " ('2Q-CV', 24),\n",
       " ('2R-C5', 24),\n",
       " ('OB', 24),\n",
       " ('DX-GN', 24),\n",
       " ('GM', 24),\n",
       " ('8E-MQ', 24),\n",
       " ('CB-OF', 24),\n",
       " ('BU-SU', 24),\n",
       " ('AE-KG-NM', 23),\n",
       " ('PZ-VB', 23),\n",
       " ('3B-PO', 23),\n",
       " ('NF-ST', 23),\n",
       " ('1B-O0', 23),\n",
       " ('C5-ST', 23),\n",
       " ('XD', 23),\n",
       " ('BQ-ST', 23),\n",
       " ('GF', 23),\n",
       " ('1B-5E-CF-OV', 22),\n",
       " ('2B-SV', 22),\n",
       " ('BK-1', 22),\n",
       " ('1T-2R', 22),\n",
       " ('Z1-1', 22),\n",
       " ('B1-8', 22),\n",
       " ('VM-4', 22),\n",
       " ('CY-DX', 22),\n",
       " ('VN-1', 22),\n",
       " ('2Q-B1', 22),\n",
       " ('SS-SU', 22),\n",
       " ('XX-PV', 21),\n",
       " ('GD-7', 21),\n",
       " ('KG-VP', 21),\n",
       " ('WV-1', 21),\n",
       " ('PO-VA-VI-YN', 21),\n",
       " ('RE-V', 21),\n",
       " ('QC', 21),\n",
       " ('B2-OV', 21),\n",
       " ('KG-VJ', 21),\n",
       " ('DX-10', 21),\n",
       " ('GA', 21),\n",
       " ('DU-XT', 21),\n",
       " ('QN-2', 21),\n",
       " ('XX-C2', 21),\n",
       " ('CV-KG-SP', 20),\n",
       " ('KG-8', 20),\n",
       " ('GV-SP', 20),\n",
       " ('2Q-EJ', 20),\n",
       " ('OF-3', 20),\n",
       " ('6E-DO-MJ', 19),\n",
       " ('2B-EX', 19),\n",
       " ('SS-1', 19),\n",
       " ('SP-TW-WG', 19),\n",
       " ('2W-B2', 19),\n",
       " ('DX-VJ', 19),\n",
       " ('JN-OV', 19),\n",
       " ('L', 19),\n",
       " ('2R-DX', 19),\n",
       " ('DI-DX', 19),\n",
       " ('XX-SU-TR', 19),\n",
       " ('CB-VM', 19),\n",
       " ('AE-LG', 19),\n",
       " ('MT-PQ', 19),\n",
       " ('B4-PP', 19),\n",
       " ('KG-VM', 19),\n",
       " ('B1-C5', 19),\n",
       " ('B1-10', 19),\n",
       " ('BQ-EJ-MT', 19),\n",
       " ('DX-VV', 18),\n",
       " ('2H-MZ', 18),\n",
       " ('1S', 18),\n",
       " ('VP-5', 18),\n",
       " ('PW', 18),\n",
       " ('2H-FL', 18),\n",
       " ('SU-VJ', 18),\n",
       " ('HF-TW', 18),\n",
       " ('1B-LX-PO-VI', 18),\n",
       " ('B3-2', 18),\n",
       " ('4E-BU-DO', 18),\n",
       " ('VL-2', 18),\n",
       " ('PE-PL', 18),\n",
       " ('BD', 18),\n",
       " ('CU-KG', 18),\n",
       " ('PE-SU', 18),\n",
       " ('2H-BF', 17),\n",
       " ('AE', 17),\n",
       " ('1S-QU-SU', 17),\n",
       " ('P0', 17),\n",
       " ('VM-5', 17),\n",
       " ('HF-OF', 17),\n",
       " ('AS-B1', 17),\n",
       " ('FL-P3', 17),\n",
       " ('FN', 17),\n",
       " ('2R-TR', 17),\n",
       " ('VP-3', 17),\n",
       " ('BW', 17),\n",
       " ('NF-SU', 17),\n",
       " ('GR-GV', 17),\n",
       " ('OF-2', 17),\n",
       " ('PK', 17),\n",
       " ('Z4', 17),\n",
       " ('CR', 17),\n",
       " ('2R-BL', 17),\n",
       " ('FC', 16),\n",
       " ('PL-PR', 16),\n",
       " ('DX-SV-TW', 16),\n",
       " ('C4-MT', 16),\n",
       " ('DX-PV', 16),\n",
       " ('1B-TR', 16),\n",
       " ('GN-PE', 16),\n",
       " ('B1-OF', 16),\n",
       " ('2D-4', 16),\n",
       " ('S4', 16),\n",
       " ('CT-QU', 16),\n",
       " ('2B-GA-VI', 16),\n",
       " ('SP-ZZ', 15),\n",
       " ('BL-1', 15),\n",
       " ('VM-6', 15),\n",
       " ('LX-VJ', 15),\n",
       " ('P1', 15),\n",
       " ('SS-2', 15),\n",
       " ('C', 15),\n",
       " ('WB', 15),\n",
       " ('DX-VH', 15),\n",
       " ('1B-ST', 15),\n",
       " ('PS-SP', 15),\n",
       " ('BF-DX', 15),\n",
       " ('IN-1', 15),\n",
       " ('LG-VI', 15),\n",
       " ('Y1', 15),\n",
       " ('ST-ZZ', 15),\n",
       " ('3B-SU', 15),\n",
       " ('B1-6', 14),\n",
       " ('2H-OV', 14),\n",
       " ('2D-OF', 14),\n",
       " ('KG-ST', 14),\n",
       " ('DX-EX', 14),\n",
       " ('LX-VM', 14),\n",
       " ('ST-11', 14),\n",
       " ('TC-TR', 14),\n",
       " ('BL-SU-VM', 14),\n",
       " ('G2-SU', 14),\n",
       " ('12', 14),\n",
       " ('CL-PE', 14),\n",
       " ('XX-RE', 14),\n",
       " ('2B-OV', 13),\n",
       " ('KG-4', 13),\n",
       " ('2W-B3', 13),\n",
       " ('B1-LX', 13),\n",
       " ('LX-3', 13),\n",
       " ('KC', 13),\n",
       " ('1B-PI', 13),\n",
       " ('CZ', 13),\n",
       " ('MT-NF', 13),\n",
       " ('BL-KG-SU', 13),\n",
       " ('2F-QU-SU', 13),\n",
       " ('B1-TR', 13),\n",
       " ('M1', 13),\n",
       " ('1D-P7', 13),\n",
       " ('CU-P7-PF', 13),\n",
       " ('1B-SP', 13),\n",
       " ('OV-VI', 12),\n",
       " ('BV', 12),\n",
       " ('41-SU', 12),\n",
       " ('PO-1', 12),\n",
       " ('2B-C6', 12),\n",
       " ('XX-PO', 12),\n",
       " ('LN', 12),\n",
       " ('XX-DP', 12),\n",
       " ('2N', 12),\n",
       " ('DX-OF-TR', 12),\n",
       " ('JC-VM', 12),\n",
       " ('1B-U9', 12),\n",
       " ('LK-SU', 12),\n",
       " ('ON', 12),\n",
       " ('OV-PO-VI', 12),\n",
       " ('AS-MT', 12),\n",
       " ('EX-KC-SP', 12),\n",
       " ('VC', 12),\n",
       " ('OF-1', 12),\n",
       " ('XX-PS', 12),\n",
       " ('B1-C1', 12),\n",
       " ('FM-QD', 12),\n",
       " ('PT-1', 12),\n",
       " ('CL-RV-TW', 11),\n",
       " ('PI-SU', 11),\n",
       " ('1W-B2', 11),\n",
       " ('BQ-EJ', 11),\n",
       " ('JV', 11),\n",
       " ('SF', 11),\n",
       " ('2B-VI', 11),\n",
       " ('OF-PE', 11),\n",
       " ('AS-TR', 11),\n",
       " ('CL-QB', 11),\n",
       " ('2B-C5', 11),\n",
       " ('6E-BU-DO', 11),\n",
       " ('VB', 11),\n",
       " ('1B-OV-VI', 11),\n",
       " ('RE', 11),\n",
       " ('2B-DU-SU', 11),\n",
       " ('B1-C6', 11),\n",
       " ('DB-ST', 11),\n",
       " ('1N', 11),\n",
       " ('B2-CV', 11),\n",
       " ('45-QU', 11),\n",
       " ('2R-IR', 11),\n",
       " ('1S-2C-ST', 11),\n",
       " ('AS-GV', 11),\n",
       " ('BE-VI', 11),\n",
       " ('P-SI', 10),\n",
       " ('OV-PE', 10),\n",
       " ('OF-Q2', 10),\n",
       " ('2T-SP', 10),\n",
       " ('DU-SU', 10),\n",
       " ('AN', 10),\n",
       " ('LA-RF-TR', 10),\n",
       " ('C3-NI', 10),\n",
       " ('NM-QU', 10),\n",
       " ('AC-DX', 10),\n",
       " ('KN-ST', 10),\n",
       " ('B2-KG', 10),\n",
       " ('VP-4', 10),\n",
       " ('DX-LA-VM', 10),\n",
       " ('SP-QU', 10),\n",
       " ('KG-LX', 10),\n",
       " ('RY-VI', 10),\n",
       " ('QB-SP', 10),\n",
       " ('CO-EX', 10),\n",
       " ('33-SU', 10),\n",
       " ('MD', 10),\n",
       " ('IO-PO-VI', 10),\n",
       " ('IT', 10),\n",
       " ('E5-ST', 10),\n",
       " ('CB-PI', 9),\n",
       " ('2B-GN-SU', 9),\n",
       " ('XX-1B-DX', 9),\n",
       " ('CL-SP', 9),\n",
       " ('+A', 9),\n",
       " ('CU-KY', 9),\n",
       " ('CT-G2', 9),\n",
       " ('C3-ST', 9),\n",
       " ('HM-OF-RY', 9),\n",
       " ('XX-GR-VM', 9),\n",
       " ('C1-1', 9),\n",
       " ('BS-SU', 9),\n",
       " ('3R-C5', 9),\n",
       " ('B2-3', 9),\n",
       " ('EX-L4', 9),\n",
       " ('DI', 9),\n",
       " ('GV-ST', 9),\n",
       " ('1H-OF', 9),\n",
       " ('CU-EL-R0-TR', 9),\n",
       " ('B4-C8', 9),\n",
       " ('8E-BU-DO', 9),\n",
       " ('DB-PN', 9),\n",
       " ('SU-VG', 9),\n",
       " ('XX-WV', 9),\n",
       " ('2B-KG', 9),\n",
       " ('OV-4', 9),\n",
       " ('OC-TR', 9),\n",
       " ('BQ-MT-RV-SU', 9),\n",
       " ('DP-2', 9),\n",
       " ('3L', 9),\n",
       " ('DP-SU', 9),\n",
       " ('3D-DX', 9),\n",
       " ('GV-3', 9),\n",
       " ('QU-TD', 9),\n",
       " ('BL-4', 9),\n",
       " ('45', 8),\n",
       " ('G2-ST', 8),\n",
       " ('XX-B3', 8),\n",
       " ('NM-QB', 8),\n",
       " ('1B-GN-SU', 8),\n",
       " ('LX-RY', 8),\n",
       " ('DX-TC', 8),\n",
       " ('B3-C4', 8),\n",
       " ('DX-PE-RV', 8),\n",
       " ('G2-MT', 8),\n",
       " ('PL-ST', 8),\n",
       " ('M0-SU', 8),\n",
       " ('NP', 8),\n",
       " ('LG-PO-VI', 8),\n",
       " ('LO-PL', 8),\n",
       " ('BL-6', 8),\n",
       " ('B2-TR', 8),\n",
       " ('DI-GT-QU', 8),\n",
       " ('2B-PO-RY-VI', 8),\n",
       " ('CX-QU', 8),\n",
       " ('WD', 8),\n",
       " ('2B-CV', 8),\n",
       " ('AN-FM-ST', 8),\n",
       " ('AS-3', 8),\n",
       " ('MZ', 8),\n",
       " ('2B-5E-CF-OV', 8),\n",
       " ('CU-OV', 8),\n",
       " ('BQ-KG', 8),\n",
       " ('B3-EJ', 8),\n",
       " ('FM-VI', 8),\n",
       " ('GV-PO-VI', 8),\n",
       " ('JA-2', 8),\n",
       " ('QU-SM', 8),\n",
       " ('B5', 8),\n",
       " ('KG-MZ', 7),\n",
       " ('C2-VC', 7),\n",
       " ('4E-DO', 7),\n",
       " ('BS-KG', 7),\n",
       " ('2Q-AS', 7),\n",
       " ('C5-1', 7),\n",
       " ('1S-DB', 7),\n",
       " ('DB-1', 7),\n",
       " ('RF-VW', 7),\n",
       " ('FM-SU', 7),\n",
       " ('AE-NM-QU', 7),\n",
       " ('UB-VI', 7),\n",
       " ('DI-QU', 7),\n",
       " ('XL', 7),\n",
       " ('Q2', 7),\n",
       " ('LX-VP', 7),\n",
       " ('CO-SP', 7),\n",
       " ('OV-PN', 7),\n",
       " ('DX-PM', 7),\n",
       " ('PS-VZ', 7),\n",
       " ('1T', 7),\n",
       " ('SP-VI', 7),\n",
       " ('CV-LX', 7),\n",
       " ('KG-NM-SU', 7),\n",
       " ('BS-1', 7),\n",
       " ('2R-C2', 7),\n",
       " ('2H-OF', 7),\n",
       " ('DX-LG', 7),\n",
       " ('CV-KG-NM', 7),\n",
       " ('HQ-SU', 7),\n",
       " ('2B-GV', 7),\n",
       " ('SU-VL', 7),\n",
       " ('HM-OV', 7),\n",
       " ('2Q-1', 7),\n",
       " ('SP-WN', 7),\n",
       " ('B3-OV', 7),\n",
       " ('B2-LX', 7),\n",
       " ('B2-6', 7),\n",
       " ('PR-2', 6),\n",
       " ('1D', 6),\n",
       " ('B2-C3', 6),\n",
       " ('2B-AE', 6),\n",
       " ('A-PE-SD-TW', 6),\n",
       " ('2D-3', 6),\n",
       " ('KG-PG-R2', 6),\n",
       " ('TR-VI', 6),\n",
       " ('OF-PV', 6),\n",
       " ('PN', 6),\n",
       " ('B3-6', 6),\n",
       " ('RV-SU', 6),\n",
       " ('CW', 6),\n",
       " ('AV-VI', 6),\n",
       " ('BF-SU', 6),\n",
       " ('38-GV', 6),\n",
       " ('PI-TR', 6),\n",
       " ('89-SP', 6),\n",
       " ('C2-ST', 6),\n",
       " ('DX-PN-VI', 6),\n",
       " ('CB-GD', 6),\n",
       " ('XX-LX-VM', 6),\n",
       " ('MO-SU', 6),\n",
       " ('1B-PO-RY-VI', 6),\n",
       " ('GD-4', 6),\n",
       " ('KG-PO', 6),\n",
       " ('TC', 6),\n",
       " ('MV-1', 6),\n",
       " ('KG-3', 6),\n",
       " ('RY', 6),\n",
       " ('JS-RV-SU', 6),\n",
       " ('PO-SP-VI', 6),\n",
       " ('3B-PO-RY', 6),\n",
       " ('EX-RV', 6),\n",
       " ('1B-DP', 6),\n",
       " ('LX-SU-VJ', 6),\n",
       " ('1B-PM', 6),\n",
       " ('HF', 6),\n",
       " ('XX-PR', 6),\n",
       " ('DX-VI', 6),\n",
       " ('BF-1', 6),\n",
       " ('AS-VJ', 5),\n",
       " ('2F', 5),\n",
       " ('BR', 5),\n",
       " ('2B-BE-SU', 5),\n",
       " ('AE-DX-LG', 5),\n",
       " ('HM-1', 5),\n",
       " ('GL-KG', 5),\n",
       " ('CY-RY-VI', 5),\n",
       " ('B2-PE', 5),\n",
       " ('DX-GV-SU', 5),\n",
       " ('AE-NM-QB', 5),\n",
       " ('BQ-EJ-KG', 5),\n",
       " ('1B-OV', 5),\n",
       " ('C4-3', 5),\n",
       " ('R3', 5),\n",
       " ('AE-KG', 5),\n",
       " ('CU-GD', 5),\n",
       " ('FY-OV-SI', 5),\n",
       " ('3H', 5),\n",
       " ('CY-SU', 5),\n",
       " ('TR-2', 5),\n",
       " ('PI-5', 5),\n",
       " ('DX-SM', 5),\n",
       " ('CL-DX-WE', 5),\n",
       " ('KG-PG', 5),\n",
       " ('CY-KG', 5),\n",
       " ('FJ', 5),\n",
       " ('KG-5', 5),\n",
       " ('4R-C8', 5),\n",
       " ('1B-PL', 5),\n",
       " ('CV-JS', 5),\n",
       " ('G2-NF', 5),\n",
       " ('P7-SD', 5),\n",
       " ('1B-RS', 5),\n",
       " ('2B-CV-NM', 5),\n",
       " ('1B-Y0', 4),\n",
       " ('PP-SU', 4),\n",
       " ('1B-N5-VI', 4),\n",
       " ...]"
      ]
     },
     "execution_count": 28,
     "metadata": {},
     "output_type": "execute_result"
    }
   ],
   "source": [
    "# Count the number instances in each factor\n",
    "Counter(df['category_room']).most_common(1319)"
   ]
  },
  {
   "cell_type": "code",
   "execution_count": 30,
   "metadata": {},
   "outputs": [],
   "source": [
    "# New Data Frame containing the median 'PricePerNight' be 'category_room'\n",
    "categoryRoomPriceRank = df.groupby([\"category_room\"])['PricePerNight'].median().sort_values(ascending = False)\n",
    "# Creating rank for records based on 'room_category'\n",
    "categoryRoomPriceRank = categoryRoomPriceRank.fillna(0)\n",
    "maxi = max(categoryRoomPriceRank)\n",
    "categoryRoomPriceRank = (categoryRoomPriceRank/maxi) * 100\n",
    "categoryRoomPriceRank = categoryRoomPriceRank.astype(int)"
   ]
  },
  {
   "cell_type": "code",
   "execution_count": 31,
   "metadata": {},
   "outputs": [],
   "source": [
    "# Adding this feature to the main Data Frame\n",
    "df['categoryRoomPriceRank'] = 0\n",
    "for i in categoryRoomPriceRank.index:\n",
    "    df.loc[df.category_room == i,'categoryRoomPriceRank'] = categoryRoomPriceRank[i]"
   ]
  },
  {
   "cell_type": "code",
   "execution_count": 32,
   "metadata": {},
   "outputs": [
    {
     "data": {
      "text/plain": [
       "count     895809\n",
       "unique        18\n",
       "top        HOTEL\n",
       "freq      857657\n",
       "Name: star_rating, dtype: object"
      ]
     },
     "execution_count": 32,
     "metadata": {},
     "output_type": "execute_result"
    }
   ],
   "source": [
    "df.star_rating.describe()"
   ]
  },
  {
   "cell_type": "markdown",
   "metadata": {},
   "source": [
    "#### Meal Basis <a name=\"meal\"></a>\n",
    "Meal basis will obviously have an influence on the price of the bookings. We can explore which meal categories are higher priced in general. Using this information we can create a score to force a postive correlation between meal basis and price per night"
   ]
  },
  {
   "cell_type": "code",
   "execution_count": 33,
   "metadata": {},
   "outputs": [
    {
     "data": {
      "image/png": "[encoded data removed]",
      "text/plain": [
       "<Figure size 720x432 with 2 Axes>"
      ]
     },
     "metadata": {},
     "output_type": "display_data"
    }
   ],
   "source": [
    "plt.figure(figsize=(10,6))\n",
    "sns.heatmap(df.groupby([\"city_code\",\"meal_basis\"])['PricePerNight'].median().sort_values(ascending= False).unstack()\n",
    "            ,linewidths=.5, cmap=\"YlGnBu\");"
   ]
  },
  {
   "cell_type": "code",
   "execution_count": 34,
   "metadata": {},
   "outputs": [
    {
     "data": {
      "image/png": "[encoded data removed]",
      "text/plain": [
       "<Figure size 432x288 with 2 Axes>"
      ]
     },
     "metadata": {},
     "output_type": "display_data"
    }
   ],
   "source": [
    "sns.heatmap(df.groupby([\"meal_basis\", \"HotelStarRating\"])['PricePerNight'].median().unstack()\n",
    "            ,linewidths=.5, cmap=\"YlGnBu\");"
   ]
  },
  {
   "cell_type": "code",
   "execution_count": 35,
   "metadata": {},
   "outputs": [
    {
     "data": {
      "image/png": "[encoded data removed]",
      "text/plain": [
       "<Figure size 720x432 with 2 Axes>"
      ]
     },
     "metadata": {},
     "output_type": "display_data"
    }
   ],
   "source": [
    "plt.figure(figsize=(10,6))\n",
    "sns.heatmap(df.groupby([\"city_code\",\"meal_basis\"])['PricePerNight'].std().sort_values(ascending= False).unstack()\n",
    "            ,linewidths=.5, cmap=\"YlGnBu\");"
   ]
  },
  {
   "cell_type": "code",
   "execution_count": 36,
   "metadata": {},
   "outputs": [
    {
     "data": {
      "image/png": "[encoded data removed]",
      "text/plain": [
       "<Figure size 432x288 with 2 Axes>"
      ]
     },
     "metadata": {},
     "output_type": "display_data"
    }
   ],
   "source": [
    "sns.heatmap(df.groupby([ \"HotelStarRating\",\"meal_basis\"])['PricePerNight'].std().unstack()\n",
    "            ,linewidths=.5, cmap=\"YlGnBu\");"
   ]
  },
  {
   "cell_type": "code",
   "execution_count": 38,
   "metadata": {},
   "outputs": [
    {
     "data": {
      "text/plain": [
       "meal_basis\n",
       "AB    2218\n",
       "SA    1929\n",
       "AS    1844\n",
       "PB    1702\n",
       "AI    1503\n",
       "MB    1171\n",
       "FB    1151\n",
       "HB    1078\n",
       "DB    1064\n",
       "GB     995\n",
       "CB     873\n",
       "BB     870\n",
       "RO     774\n",
       "SC     741\n",
       "EB     607\n",
       "MP     478\n",
       "BH     434\n",
       "Name: PricePerNight, dtype: int64"
      ]
     },
     "execution_count": 38,
     "metadata": {},
     "output_type": "execute_result"
    },
    {
     "data": {
      "text/plain": [
       "meal_basis\n",
       "BB    418592\n",
       "RO    320241\n",
       "AI     57327\n",
       "CB     24141\n",
       "HB     23101\n",
       "GB     20704\n",
       "SC     17914\n",
       "DB     10510\n",
       "AB      1742\n",
       "FB      1128\n",
       "MB       231\n",
       "AS       111\n",
       "PB        30\n",
       "BH        27\n",
       "EB         6\n",
       "SA         3\n",
       "MP         1\n",
       "Name: PricePerNight, dtype: int64"
      ]
     },
     "execution_count": 38,
     "metadata": {},
     "output_type": "execute_result"
    }
   ],
   "source": [
    "# New feature for scoring based on the deviation of price from median grouped by 'mealBasis'\n",
    "df['mealBasisDeviation'] = 1\n",
    "df.loc[df.meal_basis.isin(['CB','FB','DB']),'mealBasisDeviation'] = 5\n",
    "df.loc[df.meal_basis.isin(['HB','SC']),'mealBasisDeviation'] = 2\n",
    "\n",
    "df.groupby([\"meal_basis\"])['PricePerNight'].median().sort_values(ascending = False)\n",
    "\n",
    "df.groupby([\"meal_basis\"])['PricePerNight'].count().sort_values(ascending = False)"
   ]
  },
  {
   "cell_type": "code",
   "execution_count": 39,
   "metadata": {},
   "outputs": [
    {
     "data": {
      "text/plain": [
       "meal_basis\n",
       "AB    100\n",
       "SA     86\n",
       "AS     83\n",
       "PB     76\n",
       "AI     67\n",
       "MB     52\n",
       "FB     51\n",
       "HB     48\n",
       "DB     47\n",
       "GB     44\n",
       "CB     39\n",
       "BB     39\n",
       "RO     34\n",
       "SC     33\n",
       "EB     27\n",
       "MP     21\n",
       "BH     19\n",
       "Name: PricePerNight, dtype: int64"
      ]
     },
     "execution_count": 39,
     "metadata": {},
     "output_type": "execute_result"
    }
   ],
   "source": [
    "# Create rank variable for 'meal_basis'\n",
    "mealBasisRank = df.groupby([\"meal_basis\"])['PricePerNight'].median().sort_values(ascending = False)\n",
    "mealBasisRank = mealBasisRank.fillna(0)\n",
    "maxi = max(mealBasisRank)\n",
    "mealBasisRank = (mealBasisRank/maxi) * 100\n",
    "mealBasisRank = mealBasisRank.astype(int)\n",
    "mealBasisRank"
   ]
  },
  {
   "cell_type": "code",
   "execution_count": 40,
   "metadata": {},
   "outputs": [],
   "source": [
    "# Adding this variable to the main Data Frame\n",
    "df['mealBasisRank'] = 0\n",
    "for i in mealBasisRank.index:\n",
    "    df.loc[df.meal_basis == i,'mealBasisRank'] = mealBasisRank[i]"
   ]
  },
  {
   "cell_type": "markdown",
   "metadata": {},
   "source": [
    "#### Contract Type <a name=\"contract\"></a>\n",
    "ContractID is already storing information of contract details of each booking. However we will dummify and re-group the contract type variable to reduce the number of levels"
   ]
  },
  {
   "cell_type": "code",
   "execution_count": 41,
   "metadata": {},
   "outputs": [
    {
     "name": "stderr",
     "output_type": "stream",
     "text": [
      "/Users/miketondu/anaconda3/lib/python3.6/site-packages/scipy/stats/stats.py:1713: FutureWarning: Using a non-tuple sequence for multidimensional indexing is deprecated; use `arr[tuple(seq)]` instead of `arr[seq]`. In the future this will be interpreted as an array index, `arr[np.array(seq)]`, which will result either in an error or a different result.\n",
      "  return np.add.reduce(sorted[indexer] * weights, axis=axis) / sumval\n"
     ]
    },
    {
     "data": {
      "image/png": "[encoded data removed]",
      "text/plain": [
       "<Figure size 1080x576 with 1 Axes>"
      ]
     },
     "metadata": {},
     "output_type": "display_data"
    }
   ],
   "source": [
    "# Violin plot describing the distribution of price per type of contract\n",
    "plt.figure(figsize=(15,8))\n",
    "sns.violinplot(x='contract_type', y='PricePerNight', data=df);"
   ]
  },
  {
   "cell_type": "markdown",
   "metadata": {},
   "source": [
    "**NOR** - Normal\n",
    "\n",
    "**NRF** - Non-Refundable\n",
    "\n",
    "**NONE** - No Contract\n",
    "\n",
    "**OPQ** - Opaque (Selling unsold travel inventory at a discounted price)\n",
    "\n",
    "**NRF/OPQ** - Non-Refundable and Opaque\n",
    "\n",
    "**SPE** - Special\n",
    "\n",
    "**OTH** - Other"
   ]
  },
  {
   "cell_type": "code",
   "execution_count": 42,
   "metadata": {},
   "outputs": [
    {
     "data": {
      "text/html": [
       "<div>\n",
       "<style scoped>\n",
       "    .dataframe tbody tr th:only-of-type {\n",
       "        vertical-align: middle;\n",
       "    }\n",
       "\n",
       "    .dataframe tbody tr th {\n",
       "        vertical-align: top;\n",
       "    }\n",
       "\n",
       "    .dataframe thead th {\n",
       "        text-align: right;\n",
       "    }\n",
       "</style>\n",
       "<table border=\"1\" class=\"dataframe\">\n",
       "  <thead>\n",
       "    <tr style=\"text-align: right;\">\n",
       "      <th>HotelStarRating</th>\n",
       "      <th>1</th>\n",
       "      <th>2</th>\n",
       "      <th>3</th>\n",
       "      <th>4</th>\n",
       "      <th>5</th>\n",
       "    </tr>\n",
       "    <tr>\n",
       "      <th>contract_type</th>\n",
       "      <th></th>\n",
       "      <th></th>\n",
       "      <th></th>\n",
       "      <th></th>\n",
       "      <th></th>\n",
       "    </tr>\n",
       "  </thead>\n",
       "  <tbody>\n",
       "    <tr>\n",
       "      <th>NONE</th>\n",
       "      <td>438.5</td>\n",
       "      <td>900.0</td>\n",
       "      <td>893.0</td>\n",
       "      <td>1271.0</td>\n",
       "      <td>2159.0</td>\n",
       "    </tr>\n",
       "    <tr>\n",
       "      <th>NOR</th>\n",
       "      <td>402.0</td>\n",
       "      <td>659.0</td>\n",
       "      <td>766.0</td>\n",
       "      <td>1032.0</td>\n",
       "      <td>1539.0</td>\n",
       "    </tr>\n",
       "    <tr>\n",
       "      <th>NRF</th>\n",
       "      <td>295.0</td>\n",
       "      <td>471.0</td>\n",
       "      <td>677.0</td>\n",
       "      <td>859.0</td>\n",
       "      <td>1096.0</td>\n",
       "    </tr>\n",
       "    <tr>\n",
       "      <th>NRF/OPQ</th>\n",
       "      <td>180.0</td>\n",
       "      <td>398.0</td>\n",
       "      <td>346.0</td>\n",
       "      <td>739.0</td>\n",
       "      <td>1076.0</td>\n",
       "    </tr>\n",
       "    <tr>\n",
       "      <th>OPQ</th>\n",
       "      <td>170.0</td>\n",
       "      <td>513.0</td>\n",
       "      <td>636.0</td>\n",
       "      <td>778.0</td>\n",
       "      <td>1755.0</td>\n",
       "    </tr>\n",
       "    <tr>\n",
       "      <th>OTH</th>\n",
       "      <td>NaN</td>\n",
       "      <td>1196.5</td>\n",
       "      <td>865.0</td>\n",
       "      <td>657.0</td>\n",
       "      <td>1614.0</td>\n",
       "    </tr>\n",
       "    <tr>\n",
       "      <th>SPE</th>\n",
       "      <td>NaN</td>\n",
       "      <td>NaN</td>\n",
       "      <td>NaN</td>\n",
       "      <td>833.0</td>\n",
       "      <td>2495.5</td>\n",
       "    </tr>\n",
       "  </tbody>\n",
       "</table>\n",
       "</div>"
      ],
      "text/plain": [
       "HotelStarRating      1       2      3       4       5\n",
       "contract_type                                        \n",
       "NONE             438.5   900.0  893.0  1271.0  2159.0\n",
       "NOR              402.0   659.0  766.0  1032.0  1539.0\n",
       "NRF              295.0   471.0  677.0   859.0  1096.0\n",
       "NRF/OPQ          180.0   398.0  346.0   739.0  1076.0\n",
       "OPQ              170.0   513.0  636.0   778.0  1755.0\n",
       "OTH                NaN  1196.5  865.0   657.0  1614.0\n",
       "SPE                NaN     NaN    NaN   833.0  2495.5"
      ]
     },
     "execution_count": 42,
     "metadata": {},
     "output_type": "execute_result"
    }
   ],
   "source": [
    "df.groupby([\"contract_type\", \"HotelStarRating\"])['PricePerNight'].median().unstack()"
   ]
  },
  {
   "cell_type": "code",
   "execution_count": 43,
   "metadata": {},
   "outputs": [
    {
     "data": {
      "text/plain": [
       "contract_type\n",
       "SPE        1917.194706\n",
       "OTH        1676.728725\n",
       "NONE       1518.284895\n",
       "NOR        1077.064501\n",
       "OPQ        1053.783327\n",
       "NRF/OPQ     829.259629\n",
       "NRF         779.939128\n",
       "Name: PricePerNight, dtype: float64"
      ]
     },
     "execution_count": 43,
     "metadata": {},
     "output_type": "execute_result"
    }
   ],
   "source": [
    "df.groupby([\"contract_type\"])['PricePerNight'].std().sort_values(ascending = False)"
   ]
  },
  {
   "cell_type": "code",
   "execution_count": 44,
   "metadata": {},
   "outputs": [
    {
     "data": {
      "text/plain": [
       "contract_type\n",
       "NOR        497528\n",
       "NRF        129500\n",
       "OPQ        124176\n",
       "NONE       113724\n",
       "NRF/OPQ     27242\n",
       "OTH          2566\n",
       "SPE          1073\n",
       "Name: PricePerNight, dtype: int64"
      ]
     },
     "execution_count": 44,
     "metadata": {},
     "output_type": "execute_result"
    }
   ],
   "source": [
    "df.groupby([\"contract_type\"])['PricePerNight'].count().sort_values(ascending = False)"
   ]
  },
  {
   "cell_type": "code",
   "execution_count": 45,
   "metadata": {},
   "outputs": [
    {
     "data": {
      "text/plain": [
       "contract_type\n",
       "NRF        26469\n",
       "NOR        26422\n",
       "NONE       26245\n",
       "SPE        24930\n",
       "OTH        24247\n",
       "OPQ        22929\n",
       "NRF/OPQ    20782\n",
       "Name: PricePerNight, dtype: int64"
      ]
     },
     "execution_count": 45,
     "metadata": {},
     "output_type": "execute_result"
    }
   ],
   "source": [
    "df.groupby([\"contract_type\"])['PricePerNight'].max().sort_values(ascending = False)"
   ]
  },
  {
   "cell_type": "code",
   "execution_count": 46,
   "metadata": {},
   "outputs": [],
   "source": [
    "# Regrouping and dummifying the contract type\n",
    "df['contract_NOR'] = 0\n",
    "df.loc[df.contract_type == 'NOR', 'contract_NOR'] = 1\n",
    "\n",
    "df['contract_OPQ'] = 0\n",
    "df.loc[(df.contract_type == 'OPQ')  | (df.contract_type == 'NRF/OPQ') , 'contract_OPQ'] = 1\n",
    "\n",
    "df['contract_NRF'] = 0\n",
    "df.loc[(df.contract_type == 'NRF')  | (df.contract_type == 'NRF/OPQ') , 'contract_NRF'] = 1\n",
    "\n",
    "df['contract_UND'] = 0\n",
    "df.loc[(df.contract_type == 'OTH')  | (df.contract_type == 'NONE') , 'contract_UND'] = 1\n",
    "\n",
    "df['contract_SPE'] = 0\n",
    "df.loc[(df.contract_type == 'SPE'), 'contract_SPE'] = 1"
   ]
  },
  {
   "cell_type": "code",
   "execution_count": 47,
   "metadata": {},
   "outputs": [],
   "source": [
    "# New feature for storing the contract deviation\n",
    "df['contractDeviation'] = 1\n",
    "df.loc[df.contract_type.isin(['OTH','NONE','SPE']),'contractDeviation'] = 5"
   ]
  },
  {
   "cell_type": "markdown",
   "metadata": {},
   "source": [
    "#### Other Date Variables <a name=\"date\"></a>"
   ]
  },
  {
   "cell_type": "code",
   "execution_count": 49,
   "metadata": {},
   "outputs": [
    {
     "data": {
      "text/plain": [
       "<Figure size 720x360 with 0 Axes>"
      ]
     },
     "execution_count": 49,
     "metadata": {},
     "output_type": "execute_result"
    },
    {
     "data": {
      "text/plain": [
       "<matplotlib.axes._subplots.AxesSubplot at 0x1a161d39e8>"
      ]
     },
     "execution_count": 49,
     "metadata": {},
     "output_type": "execute_result"
    },
    {
     "data": {
      "text/plain": [
       "<Figure size 720x360 with 0 Axes>"
      ]
     },
     "execution_count": 49,
     "metadata": {},
     "output_type": "execute_result"
    },
    {
     "data": {
      "text/plain": [
       "<matplotlib.axes._subplots.AxesSubplot at 0x1a15ca8e80>"
      ]
     },
     "execution_count": 49,
     "metadata": {},
     "output_type": "execute_result"
    },
    {
     "data": {
      "text/plain": [
       "<Figure size 720x360 with 0 Axes>"
      ]
     },
     "execution_count": 49,
     "metadata": {},
     "output_type": "execute_result"
    },
    {
     "data": {
      "text/plain": [
       "<matplotlib.axes._subplots.AxesSubplot at 0x1a1599c6d8>"
      ]
     },
     "execution_count": 49,
     "metadata": {},
     "output_type": "execute_result"
    },
    {
     "data": {
      "text/plain": [
       "<Figure size 720x360 with 0 Axes>"
      ]
     },
     "execution_count": 49,
     "metadata": {},
     "output_type": "execute_result"
    },
    {
     "data": {
      "text/plain": [
       "<matplotlib.axes._subplots.AxesSubplot at 0x1a16b2a3c8>"
      ]
     },
     "execution_count": 49,
     "metadata": {},
     "output_type": "execute_result"
    },
    {
     "data": {
      "text/plain": [
       "<Figure size 720x360 with 0 Axes>"
      ]
     },
     "execution_count": 49,
     "metadata": {},
     "output_type": "execute_result"
    },
    {
     "data": {
      "text/plain": [
       "<matplotlib.axes._subplots.AxesSubplot at 0x109afeb00>"
      ]
     },
     "execution_count": 49,
     "metadata": {},
     "output_type": "execute_result"
    },
    {
     "data": {
      "image/png": "[encoded data removed]",
      "text/plain": [
       "<Figure size 720x360 with 2 Axes>"
      ]
     },
     "metadata": {},
     "output_type": "display_data"
    },
    {
     "data": {
      "image/png": "[encoded data removed]",
      "text/plain": [
       "<Figure size 720x360 with 2 Axes>"
      ]
     },
     "metadata": {},
     "output_type": "display_data"
    },
    {
     "data": {
      "image/png": "[encoded data removed]",
      "text/plain": [
       "<Figure size 720x360 with 2 Axes>"
      ]
     },
     "metadata": {},
     "output_type": "display_data"
    },
    {
     "data": {
      "image/png": "[encoded data removed]",
      "text/plain": [
       "<Figure size 720x360 with 2 Axes>"
      ]
     },
     "metadata": {},
     "output_type": "display_data"
    },
    {
     "data": {
      "image/png": "[encoded data removed]",
      "text/plain": [
       "<Figure size 720x360 with 2 Axes>"
      ]
     },
     "metadata": {},
     "output_type": "display_data"
    }
   ],
   "source": [
    "dateVar = ['creation_date_month', 'creation_date_day', 'creation_date_weekday',\n",
    "           'arrival_date_day', 'arrival_date_weekday']\n",
    "\n",
    "for i, var in enumerate(dateVar):\n",
    "    plt.figure(i,figsize=(10,5))\n",
    "    sns.heatmap(df.groupby([\"HotelStarRating\",var])['PricePerNight'].median().unstack()\n",
    "            ,linewidths=.5, cmap=\"YlGnBu\")"
   ]
  },
  {
   "cell_type": "code",
   "execution_count": 50,
   "metadata": {},
   "outputs": [
    {
     "data": {
      "text/plain": [
       "<Figure size 720x360 with 0 Axes>"
      ]
     },
     "execution_count": 50,
     "metadata": {},
     "output_type": "execute_result"
    },
    {
     "data": {
      "text/plain": [
       "<matplotlib.axes._subplots.AxesSubplot at 0x1a16b2a908>"
      ]
     },
     "execution_count": 50,
     "metadata": {},
     "output_type": "execute_result"
    },
    {
     "data": {
      "text/plain": [
       "<Figure size 720x360 with 0 Axes>"
      ]
     },
     "execution_count": 50,
     "metadata": {},
     "output_type": "execute_result"
    },
    {
     "data": {
      "text/plain": [
       "<matplotlib.axes._subplots.AxesSubplot at 0x1a1598a550>"
      ]
     },
     "execution_count": 50,
     "metadata": {},
     "output_type": "execute_result"
    },
    {
     "data": {
      "text/plain": [
       "<Figure size 720x360 with 0 Axes>"
      ]
     },
     "execution_count": 50,
     "metadata": {},
     "output_type": "execute_result"
    },
    {
     "data": {
      "text/plain": [
       "<matplotlib.axes._subplots.AxesSubplot at 0x1a33ce0748>"
      ]
     },
     "execution_count": 50,
     "metadata": {},
     "output_type": "execute_result"
    },
    {
     "data": {
      "text/plain": [
       "<Figure size 720x360 with 0 Axes>"
      ]
     },
     "execution_count": 50,
     "metadata": {},
     "output_type": "execute_result"
    },
    {
     "data": {
      "text/plain": [
       "<matplotlib.axes._subplots.AxesSubplot at 0x1a16b8ff28>"
      ]
     },
     "execution_count": 50,
     "metadata": {},
     "output_type": "execute_result"
    },
    {
     "data": {
      "text/plain": [
       "<Figure size 720x360 with 0 Axes>"
      ]
     },
     "execution_count": 50,
     "metadata": {},
     "output_type": "execute_result"
    },
    {
     "data": {
      "text/plain": [
       "<matplotlib.axes._subplots.AxesSubplot at 0x1a16a94438>"
      ]
     },
     "execution_count": 50,
     "metadata": {},
     "output_type": "execute_result"
    },
    {
     "data": {
      "image/png": "[encoded data removed]",
      "text/plain": [
       "<Figure size 720x360 with 2 Axes>"
      ]
     },
     "metadata": {},
     "output_type": "display_data"
    },
    {
     "data": {
      "image/png": "[encoded data removed]",
      "text/plain": [
       "<Figure size 720x360 with 2 Axes>"
      ]
     },
     "metadata": {},
     "output_type": "display_data"
    },
    {
     "data": {
      "image/png": "[encoded data removed]",
      "text/plain": [
       "<Figure size 720x360 with 2 Axes>"
      ]
     },
     "metadata": {},
     "output_type": "display_data"
    },
    {
     "data": {
      "image/png": "[encoded data removed]",
      "text/plain": [
       "<Figure size 720x360 with 2 Axes>"
      ]
     },
     "metadata": {},
     "output_type": "display_data"
    },
    {
     "data": {
      "image/png": "[encoded data removed]",
      "text/plain": [
       "<Figure size 720x360 with 2 Axes>"
      ]
     },
     "metadata": {},
     "output_type": "display_data"
    }
   ],
   "source": [
    "for i, var in enumerate(dateVar):\n",
    "    plt.figure(i,figsize=(10,5))\n",
    "    sns.heatmap(df.groupby([\"HotelStarRating\",var])['PricePerNight'].std().unstack()\n",
    "            ,linewidths=.5, cmap=\"YlGnBu\")"
   ]
  },
  {
   "cell_type": "markdown",
   "metadata": {},
   "source": [
    "Apart from month (analysed before) date Variables are not adding much value is not adding any additional Value to understand the median prices"
   ]
  },
  {
   "cell_type": "markdown",
   "metadata": {},
   "source": [
    "#### Time Variables <a name=\"time\"></a>"
   ]
  },
  {
   "cell_type": "code",
   "execution_count": 51,
   "metadata": {},
   "outputs": [
    {
     "data": {
      "image/png": "[encoded data removed]",
      "text/plain": [
       "<Figure size 360x360 with 1 Axes>"
      ]
     },
     "metadata": {},
     "output_type": "display_data"
    }
   ],
   "source": [
    "# Scatter plot of price by 'BookingLeadTime'\n",
    "sns.lmplot(x= 'BookingLeadTime', # Horizontal axis\n",
    "           y= 'PricePerNight',   # Vertical axis\n",
    "           data=df,              # Data source\n",
    "           fit_reg=False,        # Don't fix a regression line\n",
    "           );"
   ]
  },
  {
   "cell_type": "code",
   "execution_count": 52,
   "metadata": {},
   "outputs": [
    {
     "data": {
      "image/png": "[encoded data removed]",
      "text/plain": [
       "<Figure size 360x360 with 1 Axes>"
      ]
     },
     "metadata": {},
     "output_type": "display_data"
    }
   ],
   "source": [
    "# By Trip Days\n",
    "sns.lmplot(x= 'TripNoOfDays',  # Horizontal axis\n",
    "           y= 'PricePerNight', # Vertical axis\n",
    "           data=df,            # Data source\n",
    "           fit_reg=False,      # Don't fix a regression line\n",
    "           );"
   ]
  },
  {
   "cell_type": "code",
   "execution_count": 53,
   "metadata": {},
   "outputs": [
    {
     "data": {
      "image/png": "[encoded data removed]",
      "text/plain": [
       "<Figure size 432x288 with 2 Axes>"
      ]
     },
     "metadata": {},
     "output_type": "display_data"
    }
   ],
   "source": [
    "sns.heatmap(df.groupby([\"HotelStarRating\",'TripNoOfDays'])['PricePerNight'].median().unstack()\n",
    "            ,linewidths=.5, cmap=\"YlGnBu\");"
   ]
  },
  {
   "cell_type": "code",
   "execution_count": 54,
   "metadata": {},
   "outputs": [
    {
     "data": {
      "text/plain": [
       "TripNoOfDays\n",
       "2      227007\n",
       "3      166470\n",
       "4      171447\n",
       "5      120649\n",
       "6       65153\n",
       "7       35309\n",
       "8       58475\n",
       "9       11761\n",
       "10       9565\n",
       "11      11252\n",
       "12       3796\n",
       "13       2471\n",
       "14       2392\n",
       "15       7754\n",
       "25       1962\n",
       "40        334\n",
       "50          6\n",
       "80          3\n",
       "100         3\n",
       "Name: PricePerNight, dtype: int64"
      ]
     },
     "execution_count": 54,
     "metadata": {},
     "output_type": "execute_result"
    }
   ],
   "source": [
    "# Binning the higher values of the variables 'TripNoOfDays'\n",
    "df.loc[df.TripNoOfDays.isin(range(15,20)), 'TripNoOfDays'] = 15\n",
    "df.loc[df.TripNoOfDays.isin(range(20,31)), 'TripNoOfDays'] = 25\n",
    "df.loc[df.TripNoOfDays.isin(range(31,45)), 'TripNoOfDays'] = 40\n",
    "df.loc[df.TripNoOfDays.isin(range(45,60)), 'TripNoOfDays'] = 50\n",
    "df.loc[df.TripNoOfDays.isin(range(60,90)), 'TripNoOfDays'] = 80\n",
    "df.loc[df.TripNoOfDays >= 90 , 'TripNoOfDays'] = 100\n",
    "\n",
    "df.groupby(['TripNoOfDays'])['PricePerNight'].count()"
   ]
  },
  {
   "cell_type": "code",
   "execution_count": 55,
   "metadata": {},
   "outputs": [
    {
     "data": {
      "image/png": "[encoded data removed]",
      "text/plain": [
       "<Figure size 432x288 with 2 Axes>"
      ]
     },
     "metadata": {},
     "output_type": "display_data"
    }
   ],
   "source": [
    "sns.heatmap(df.groupby([\"HotelStarRating\",'TripNoOfDays'])['PricePerNight'].median().unstack()\n",
    "            ,linewidths=.5, cmap=\"YlGnBu\");"
   ]
  },
  {
   "cell_type": "code",
   "execution_count": 56,
   "metadata": {},
   "outputs": [
    {
     "data": {
      "image/png": "[encoded data removed]",
      "text/plain": [
       "<Figure size 432x288 with 2 Axes>"
      ]
     },
     "metadata": {},
     "output_type": "display_data"
    }
   ],
   "source": [
    "sns.heatmap(df.groupby([\"HotelStarRating\",'TripNoOfDays'])['PricePerNight'].std().unstack()\n",
    "            ,linewidths=.5, cmap=\"YlGnBu\");"
   ]
  },
  {
   "cell_type": "markdown",
   "metadata": {},
   "source": [
    "We can clearly see that time of the trip has an influence on the per night price. Specially the extreme high duration trips. Thus it would be good to bin the higher values of trip duration. Also provide added information on top of the trip duration by creating new variables that store a score based on the trip duration. The standard deviation reveals information on the propensity of a trip to have anomalous pricing. Thus we create new feature to score this propoensity as well."
   ]
  },
  {
   "cell_type": "code",
   "execution_count": 57,
   "metadata": {},
   "outputs": [],
   "source": [
    "# New feature for deviation of price by duration \n",
    "df['DurationDeviation'] = 1\n",
    "df.loc[df.TripNoOfDays.isin(range(7,15)),'DurationDeviation'] = 5\n",
    "df.loc[df.TripNoOfDays.isin(range(15,50)),'DurationDeviation'] = 25\n",
    "df.loc[df.TripNoOfDays > 50 ,'DurationDeviation'] = 125"
   ]
  },
  {
   "cell_type": "code",
   "execution_count": 58,
   "metadata": {},
   "outputs": [],
   "source": [
    "# Ranking trip duration\n",
    "df['durationType'] = 1\n",
    "df.loc[df.TripNoOfDays.isin(range(7,12)), 'durationType'] = 20\n",
    "df.loc[df.TripNoOfDays.isin(range(12,50)), 'durationType'] = 5\n",
    "df.loc[df.TripNoOfDays > 50, 'durationType'] = 10"
   ]
  },
  {
   "cell_type": "code",
   "execution_count": 59,
   "metadata": {},
   "outputs": [
    {
     "data": {
      "text/plain": [
       "TripWeekends\n",
       "0     268631\n",
       "1     187861\n",
       "2     385078\n",
       "3      29463\n",
       "4      19314\n",
       "5       2538\n",
       "6       1710\n",
       "7        271\n",
       "8        602\n",
       "9        208\n",
       "10       118\n",
       "11         1\n",
       "12         3\n",
       "14         1\n",
       "15         1\n",
       "16         2\n",
       "18         4\n",
       "25         1\n",
       "26         2\n",
       "Name: PricePerNight, dtype: int64"
      ]
     },
     "execution_count": 59,
     "metadata": {},
     "output_type": "execute_result"
    }
   ],
   "source": [
    "df.groupby(['TripWeekends'])['PricePerNight'].count()"
   ]
  },
  {
   "cell_type": "code",
   "execution_count": 60,
   "metadata": {},
   "outputs": [
    {
     "data": {
      "image/png": "[encoded data removed]",
      "text/plain": [
       "<Figure size 432x288 with 2 Axes>"
      ]
     },
     "metadata": {},
     "output_type": "display_data"
    }
   ],
   "source": [
    "sns.heatmap(df.groupby([\"HotelStarRating\",'TripWeekends'])['PricePerNight'].median().unstack()\n",
    "            ,linewidths=.5, cmap=\"YlGnBu\");"
   ]
  },
  {
   "cell_type": "code",
   "execution_count": 61,
   "metadata": {},
   "outputs": [
    {
     "data": {
      "image/png": "[encoded data removed]",
      "text/plain": [
       "<Figure size 432x288 with 2 Axes>"
      ]
     },
     "metadata": {},
     "output_type": "display_data"
    }
   ],
   "source": [
    "sns.heatmap(df.groupby([\"HotelStarRating\",'TripWeekends'])['PricePerNight'].std().unstack()\n",
    "            ,linewidths=.5, cmap=\"YlGnBu\");"
   ]
  },
  {
   "cell_type": "markdown",
   "metadata": {},
   "source": [
    "Similar approach can be taken for the trip duration as well"
   ]
  },
  {
   "cell_type": "code",
   "execution_count": 62,
   "metadata": {},
   "outputs": [],
   "source": [
    "# Treating trip weekends just like trip duration\n",
    "df.loc[df.TripWeekends.isin(range(5,11)), 'TripWeekends'] = 5\n",
    "df.loc[df.TripWeekends >= 11 , 'TripWeekends'] = 11"
   ]
  },
  {
   "cell_type": "code",
   "execution_count": 63,
   "metadata": {},
   "outputs": [],
   "source": [
    "df['WeekendIncluded'] = 0\n",
    "df.loc[(df.TripWeekends > 0), 'WeekendIncluded' ] = 1"
   ]
  },
  {
   "cell_type": "code",
   "execution_count": 64,
   "metadata": {},
   "outputs": [
    {
     "data": {
      "image/png": "[encoded data removed]",
      "text/plain": [
       "<Figure size 432x288 with 2 Axes>"
      ]
     },
     "metadata": {},
     "output_type": "display_data"
    }
   ],
   "source": [
    "sns.heatmap(df.groupby([\"HotelStarRating\",'WeekendIncluded'])['PricePerNight'].median().unstack()\n",
    "            ,linewidths=.5, cmap=\"YlGnBu\");"
   ]
  },
  {
   "cell_type": "markdown",
   "metadata": {},
   "source": [
    "#### City <a name=\"city\"></a>"
   ]
  },
  {
   "cell_type": "code",
   "execution_count": 65,
   "metadata": {},
   "outputs": [
    {
     "data": {
      "image/png": "[encoded data removed]",
      "text/plain": [
       "<Figure size 432x288 with 2 Axes>"
      ]
     },
     "metadata": {},
     "output_type": "display_data"
    }
   ],
   "source": [
    "sns.heatmap(df.groupby(['HotelStarRating',\"city_code\"])['PricePerNight'].count().unstack()\n",
    "            ,linewidths=.5, cmap=\"YlGnBu\");"
   ]
  },
  {
   "cell_type": "code",
   "execution_count": 66,
   "metadata": {},
   "outputs": [
    {
     "data": {
      "image/png": "[encoded data removed]",
      "text/plain": [
       "<Figure size 432x288 with 2 Axes>"
      ]
     },
     "metadata": {},
     "output_type": "display_data"
    }
   ],
   "source": [
    "sns.heatmap(df.groupby(['HotelStarRating',\"city_code\"])['PricePerNight'].median().unstack()\n",
    "            ,linewidths=.5, cmap=\"YlGnBu\");"
   ]
  },
  {
   "cell_type": "code",
   "execution_count": 67,
   "metadata": {},
   "outputs": [
    {
     "data": {
      "image/png": "[encoded data removed]",
      "text/plain": [
       "<Figure size 432x288 with 2 Axes>"
      ]
     },
     "metadata": {},
     "output_type": "display_data"
    }
   ],
   "source": [
    "sns.heatmap(df.groupby(['HotelStarRating',\"city_code\"])['PricePerNight'].min().unstack()\n",
    "            ,linewidths=.5, cmap=\"YlGnBu\");"
   ]
  },
  {
   "cell_type": "code",
   "execution_count": 68,
   "metadata": {},
   "outputs": [
    {
     "data": {
      "image/png": "[encoded data removed]",
      "text/plain": [
       "<Figure size 432x288 with 2 Axes>"
      ]
     },
     "metadata": {},
     "output_type": "display_data"
    }
   ],
   "source": [
    "sns.heatmap(df.groupby(['HotelStarRating',\"city_code\"])['PricePerNight'].std().unstack()\n",
    "            ,linewidths=.5, cmap=\"YlGnBu\");"
   ]
  },
  {
   "cell_type": "markdown",
   "metadata": {},
   "source": [
    "From the heat map we can clearly identfy cities that have relatively higher prices. We can hence group the cities and rank them based on the 'cost of living' that can be deduced from the exploration"
   ]
  },
  {
   "cell_type": "code",
   "execution_count": 77,
   "metadata": {},
   "outputs": [],
   "source": [
    "# Rank the cities based on median prices\n",
    "df['cityRank'] = 1\n",
    "df.loc[df.city_code.isin([5,6]), 'cityRank'] = 9\n",
    "df.loc[df.city_code.isin([1,4,7,8]), 'cityRank'] = 3\n",
    "\n",
    "df['cityDeviation'] = 1\n",
    "df.loc[df.city_code.isin([8,5,1]), 'cityDeviation'] = 9\n",
    "df.loc[df.city_code.isin([7,6,1]), 'cityDeviation'] = 3"
   ]
  },
  {
   "cell_type": "code",
   "execution_count": 78,
   "metadata": {},
   "outputs": [
    {
     "data": {
      "text/plain": [
       "<Figure size 432x288 with 0 Axes>"
      ]
     },
     "execution_count": 78,
     "metadata": {},
     "output_type": "execute_result"
    },
    {
     "name": "stderr",
     "output_type": "stream",
     "text": [
      "/Users/miketondu/anaconda3/lib/python3.6/site-packages/scipy/stats/stats.py:1713: FutureWarning: Using a non-tuple sequence for multidimensional indexing is deprecated; use `arr[tuple(seq)]` instead of `arr[seq]`. In the future this will be interpreted as an array index, `arr[np.array(seq)]`, which will result either in an error or a different result.\n",
      "  return np.add.reduce(sorted[indexer] * weights, axis=axis) / sumval\n"
     ]
    },
    {
     "data": {
      "text/plain": [
       "<matplotlib.axes._subplots.AxesSubplot at 0x109b28d68>"
      ]
     },
     "execution_count": 78,
     "metadata": {},
     "output_type": "execute_result"
    },
    {
     "data": {
      "text/plain": [
       "Text(0.5,0,'0')"
      ]
     },
     "execution_count": 78,
     "metadata": {},
     "output_type": "execute_result"
    },
    {
     "data": {
      "text/plain": [
       "<Figure size 432x288 with 0 Axes>"
      ]
     },
     "execution_count": 78,
     "metadata": {},
     "output_type": "execute_result"
    },
    {
     "data": {
      "text/plain": [
       "<matplotlib.axes._subplots.AxesSubplot at 0x1a16727400>"
      ]
     },
     "execution_count": 78,
     "metadata": {},
     "output_type": "execute_result"
    },
    {
     "data": {
      "text/plain": [
       "Text(0.5,0,'1')"
      ]
     },
     "execution_count": 78,
     "metadata": {},
     "output_type": "execute_result"
    },
    {
     "data": {
      "text/plain": [
       "<Figure size 432x288 with 0 Axes>"
      ]
     },
     "execution_count": 78,
     "metadata": {},
     "output_type": "execute_result"
    },
    {
     "data": {
      "text/plain": [
       "<matplotlib.axes._subplots.AxesSubplot at 0x1a15cb0160>"
      ]
     },
     "execution_count": 78,
     "metadata": {},
     "output_type": "execute_result"
    },
    {
     "data": {
      "text/plain": [
       "Text(0.5,0,'2')"
      ]
     },
     "execution_count": 78,
     "metadata": {},
     "output_type": "execute_result"
    },
    {
     "data": {
      "text/plain": [
       "<Figure size 432x288 with 0 Axes>"
      ]
     },
     "execution_count": 78,
     "metadata": {},
     "output_type": "execute_result"
    },
    {
     "data": {
      "text/plain": [
       "<matplotlib.axes._subplots.AxesSubplot at 0x1a1614e6a0>"
      ]
     },
     "execution_count": 78,
     "metadata": {},
     "output_type": "execute_result"
    },
    {
     "data": {
      "text/plain": [
       "Text(0.5,0,'3')"
      ]
     },
     "execution_count": 78,
     "metadata": {},
     "output_type": "execute_result"
    },
    {
     "data": {
      "text/plain": [
       "<Figure size 432x288 with 0 Axes>"
      ]
     },
     "execution_count": 78,
     "metadata": {},
     "output_type": "execute_result"
    },
    {
     "data": {
      "text/plain": [
       "<matplotlib.axes._subplots.AxesSubplot at 0x1a16b1cba8>"
      ]
     },
     "execution_count": 78,
     "metadata": {},
     "output_type": "execute_result"
    },
    {
     "data": {
      "text/plain": [
       "Text(0.5,0,'4')"
      ]
     },
     "execution_count": 78,
     "metadata": {},
     "output_type": "execute_result"
    },
    {
     "data": {
      "text/plain": [
       "<Figure size 432x288 with 0 Axes>"
      ]
     },
     "execution_count": 78,
     "metadata": {},
     "output_type": "execute_result"
    },
    {
     "data": {
      "text/plain": [
       "<matplotlib.axes._subplots.AxesSubplot at 0x1a16f8e2e8>"
      ]
     },
     "execution_count": 78,
     "metadata": {},
     "output_type": "execute_result"
    },
    {
     "data": {
      "text/plain": [
       "Text(0.5,0,'5')"
      ]
     },
     "execution_count": 78,
     "metadata": {},
     "output_type": "execute_result"
    },
    {
     "data": {
      "text/plain": [
       "<Figure size 432x288 with 0 Axes>"
      ]
     },
     "execution_count": 78,
     "metadata": {},
     "output_type": "execute_result"
    },
    {
     "data": {
      "text/plain": [
       "<matplotlib.axes._subplots.AxesSubplot at 0x1a170aef98>"
      ]
     },
     "execution_count": 78,
     "metadata": {},
     "output_type": "execute_result"
    },
    {
     "data": {
      "text/plain": [
       "Text(0.5,0,'6')"
      ]
     },
     "execution_count": 78,
     "metadata": {},
     "output_type": "execute_result"
    },
    {
     "data": {
      "text/plain": [
       "<Figure size 432x288 with 0 Axes>"
      ]
     },
     "execution_count": 78,
     "metadata": {},
     "output_type": "execute_result"
    },
    {
     "data": {
      "text/plain": [
       "<matplotlib.axes._subplots.AxesSubplot at 0x1a15cd6c50>"
      ]
     },
     "execution_count": 78,
     "metadata": {},
     "output_type": "execute_result"
    },
    {
     "data": {
      "text/plain": [
       "Text(0.5,0,'7')"
      ]
     },
     "execution_count": 78,
     "metadata": {},
     "output_type": "execute_result"
    },
    {
     "data": {
      "text/plain": [
       "<Figure size 432x288 with 0 Axes>"
      ]
     },
     "execution_count": 78,
     "metadata": {},
     "output_type": "execute_result"
    },
    {
     "data": {
      "text/plain": [
       "<matplotlib.axes._subplots.AxesSubplot at 0x1a165719e8>"
      ]
     },
     "execution_count": 78,
     "metadata": {},
     "output_type": "execute_result"
    },
    {
     "data": {
      "text/plain": [
       "Text(0.5,0,'8')"
      ]
     },
     "execution_count": 78,
     "metadata": {},
     "output_type": "execute_result"
    },
    {
     "data": {
      "image/png": "[encoded data removed]",
      "text/plain": [
       "<Figure size 432x288 with 1 Axes>"
      ]
     },
     "metadata": {},
     "output_type": "display_data"
    },
    {
     "data": {
      "image/png": "[encoded data removed]",
      "text/plain": [
       "<Figure size 432x288 with 1 Axes>"
      ]
     },
     "metadata": {},
     "output_type": "display_data"
    },
    {
     "data": {
      "image/png": "[encoded data removed]",
      "text/plain": [
       "<Figure size 432x288 with 1 Axes>"
      ]
     },
     "metadata": {},
     "output_type": "display_data"
    },
    {
     "data": {
      "image/png": "[encoded data removed]",
      "text/plain": [
       "<Figure size 432x288 with 1 Axes>"
      ]
     },
     "metadata": {},
     "output_type": "display_data"
    },
    {
     "data": {
      "image/png": "[encoded data removed]",
      "text/plain": [
       "<Figure size 432x288 with 1 Axes>"
      ]
     },
     "metadata": {},
     "output_type": "display_data"
    },
    {
     "data": {
      "image/png": "[encoded data removed]",
      "text/plain": [
       "<Figure size 432x288 with 1 Axes>"
      ]
     },
     "metadata": {},
     "output_type": "display_data"
    },
    {
     "data": {
      "image/png": "[encoded data removed]",
      "text/plain": [
       "<Figure size 432x288 with 1 Axes>"
      ]
     },
     "metadata": {},
     "output_type": "display_data"
    },
    {
     "data": {
      "image/png": "[encoded data removed]",
      "text/plain": [
       "<Figure size 432x288 with 1 Axes>"
      ]
     },
     "metadata": {},
     "output_type": "display_data"
    },
    {
     "data": {
      "image/png": "[encoded data removed]",
      "text/plain": [
       "<Figure size 432x288 with 1 Axes>"
      ]
     },
     "metadata": {},
     "output_type": "display_data"
    }
   ],
   "source": [
    "# Plotting the distribution of the price per city\n",
    "for i, city in enumerate(df.city_code.cat.categories):\n",
    "    plt.figure(i)\n",
    "    #sns.distplot(train_data.loc[:,col], bins= 2)\n",
    "    sns.distplot(df.loc[(df.city_code == city),'PricePerNight'])\n",
    "    plt.xlabel(city, fontsize=12)"
   ]
  },
  {
   "cell_type": "code",
   "execution_count": 79,
   "metadata": {},
   "outputs": [],
   "source": [
    "# New variable that takes into account the kurtosis for the previously plotted distributions\n",
    "df['CityKurtosis'] = 0\n",
    "for i, city in enumerate(df.city_code.cat.categories):\n",
    "    df.loc[(df.city_code == city),'CityKurtosis'] = df.loc[(df.city_code == city),'PricePerNight'].kurtosis()"
   ]
  },
  {
   "cell_type": "code",
   "execution_count": 75,
   "metadata": {},
   "outputs": [],
   "source": [
    "df.CityKurtosis = df.CityKurtosis.astype('int')"
   ]
  },
  {
   "cell_type": "markdown",
   "metadata": {},
   "source": [
    "#### Hotel Key <a name=\"hotel\"></a>\n",
    "Though it makes sense to treat it just like contract, the information is already captured in the contractID and other hotel features. Thus it will not add any additional values"
   ]
  },
  {
   "cell_type": "markdown",
   "metadata": {
    "collapsed": true
   },
   "source": [
    "### Preparation and Transformation of Data Set <a name=\"transformation\"></a>"
   ]
  },
  {
   "cell_type": "code",
   "execution_count": 82,
   "metadata": {},
   "outputs": [
    {
     "data": {
      "text/plain": [
       "Index(['hotel_hkey', 'contract_id_hkey', 'city_code', 'category_room',\n",
       "       'contract_type', 'room_type', 'meal_basis', 'star_rating',\n",
       "       'creation_date_month', 'creation_date_day', 'creation_date_weekday',\n",
       "       'arrival_date_month', 'arrival_date_day', 'arrival_date_weekday',\n",
       "       'departure_date_month', 'departure_date_day', 'departure_date_weekday',\n",
       "       'TripNoOfDays', 'TripWorkingDays', 'TripWeekends', 'BookingLeadTime',\n",
       "       'PricePerNight', 'priceDifbyContractMean', 'HotelStarRating',\n",
       "       'MedianPriceByRoomType', 'monthRating', 'categoryRoomPriceRank',\n",
       "       'mealBasisDeviation', 'mealBasisRank', 'contract_NOR', 'contract_OPQ',\n",
       "       'contract_NRF', 'contract_UND', 'contract_SPE', 'contractDeviation',\n",
       "       'DurationDeviation', 'durationType', 'WeekendIncluded', 'cityRank',\n",
       "       'cityDeviation', 'CityKurtosis'],\n",
       "      dtype='object')"
      ]
     },
     "execution_count": 82,
     "metadata": {},
     "output_type": "execute_result"
    },
    {
     "data": {
      "text/plain": [
       "hotel_hkey                   int64\n",
       "contract_id_hkey             int64\n",
       "city_code                 category\n",
       "category_room             category\n",
       "contract_type             category\n",
       "room_type                 category\n",
       "meal_basis                category\n",
       "star_rating               category\n",
       "creation_date_month       category\n",
       "creation_date_day         category\n",
       "creation_date_weekday     category\n",
       "arrival_date_month        category\n",
       "arrival_date_day          category\n",
       "arrival_date_weekday      category\n",
       "departure_date_month      category\n",
       "departure_date_day        category\n",
       "departure_date_weekday    category\n",
       "TripNoOfDays                 int64\n",
       "TripWorkingDays              int64\n",
       "TripWeekends                 int64\n",
       "BookingLeadTime              int64\n",
       "PricePerNight                int64\n",
       "priceDifbyContractMean       int64\n",
       "HotelStarRating              int64\n",
       "MedianPriceByRoomType      float64\n",
       "monthRating                  int64\n",
       "categoryRoomPriceRank        int64\n",
       "mealBasisDeviation           int64\n",
       "mealBasisRank                int64\n",
       "contract_NOR                 int64\n",
       "contract_OPQ                 int64\n",
       "contract_NRF                 int64\n",
       "contract_UND                 int64\n",
       "contract_SPE                 int64\n",
       "contractDeviation            int64\n",
       "DurationDeviation            int64\n",
       "durationType                 int64\n",
       "WeekendIncluded              int64\n",
       "cityRank                     int64\n",
       "cityDeviation                int64\n",
       "CityKurtosis               float64\n",
       "dtype: object"
      ]
     },
     "execution_count": 82,
     "metadata": {},
     "output_type": "execute_result"
    }
   ],
   "source": [
    "df = df.set_index('row_id')\n",
    "df.columns\n",
    "df.dtypes"
   ]
  },
  {
   "cell_type": "code",
   "execution_count": 86,
   "metadata": {},
   "outputs": [],
   "source": [
    "df.MedianPriceByRoomType = df.MedianPriceByRoomType.astype('int')\n",
    "df.ContractIdMean = df.ContractIdMean.astype('int')\n",
    "df.priceDifbyContractMean = df.priceDifbyContractMean.astype('int')"
   ]
  },
  {
   "cell_type": "code",
   "execution_count": 87,
   "metadata": {},
   "outputs": [
    {
     "data": {
      "text/plain": [
       "(895809, 42)"
      ]
     },
     "execution_count": 87,
     "metadata": {},
     "output_type": "execute_result"
    }
   ],
   "source": [
    "df.shape"
   ]
  },
  {
   "cell_type": "code",
   "execution_count": 88,
   "metadata": {},
   "outputs": [],
   "source": [
    "# Dropping variables that are no longer needed\n",
    "df = df.drop(['hotel_hkey', 'contract_id_hkey', 'city_code', 'category_room',\n",
    "       'contract_type', 'room_type', 'meal_basis', 'star_rating',\n",
    "       'creation_date_month', 'creation_date_day', 'creation_date_weekday',\n",
    "       'arrival_date_month', 'arrival_date_day', 'arrival_date_weekday',\n",
    "       'departure_date_month', 'departure_date_day', 'departure_date_weekday',\n",
    "       ],axis =1)"
   ]
  },
  {
   "cell_type": "code",
   "execution_count": 91,
   "metadata": {},
   "outputs": [],
   "source": [
    "# Saving the transformed dataset before diving into outlier detection\n",
    "df.to_csv('TransformedData.csv', sep=',', header=True)"
   ]
  },
  {
   "cell_type": "code",
   "execution_count": null,
   "metadata": {},
   "outputs": [],
   "source": []
  }
 ],
 "metadata": {
  "kernelspec": {
   "display_name": "Python 3",
   "language": "python",
   "name": "python3"
  },
  "language_info": {
   "codemirror_mode": {
    "name": "ipython",
    "version": 3
   },
   "file_extension": ".py",
   "mimetype": "text/x-python",
   "name": "python",
   "nbconvert_exporter": "python",
   "pygments_lexer": "ipython3",
   "version": "3.6.5"
  }
 },
 "nbformat": 4,
 "nbformat_minor": 2
}
