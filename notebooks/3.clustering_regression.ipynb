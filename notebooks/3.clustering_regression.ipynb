{
 "cells": [
  {
   "cell_type": "markdown",
   "metadata": {},
   "source": [
    "![title](hotelbed.jpg)"
   ]
  },
  {
   "cell_type": "markdown",
   "metadata": {},
   "source": [
    "## Table of contents\n",
    "1. [Initialization](#initialization)\n",
    "2. [Basic Data Exploration,Feature Creation and Transformation](#bda)\n",
    "3. [Feature Analysis](#fa)\n",
    "    1. [ContractID](#contID)\n",
    "    2. [Star Rating](#star)\n",
    "    3. [Room Type](#room)\n",
    "    4. [Arrival Month](#month)\n",
    "    5. [Category](#cat)\n",
    "    6. [Meal Basis](#meal)\n",
    "    7. [Contract Type](#contract)\n",
    "    8. [Other Date Variables](#date)\n",
    "    9. [Time Variables](#time)\n",
    "    10. [City](#city)\n",
    "    11. [Hotel Key](#hotel)\n",
    "4. [Data Set Transformation](#transformation)\n",
    "5. [Outlier/Anomaly Detection](#outlierDetection)    \n",
    "    1. [Statistical and Visual Approach](#stat)\n",
    "    2. [Clustering and Regression Approach](#cluster)\n",
    "5. [Anomaly Labeling and Submission](#submit)"
   ]
  },
  {
   "cell_type": "code",
   "execution_count": 2,
   "metadata": {},
   "outputs": [],
   "source": [
    "# importing primary libraries\n",
    "import numpy as np\n",
    "import pandas as pd\n",
    "from collections import Counter\n",
    "import datetime as dt\n",
    "import workdays\n",
    "import glob\n",
    "import datetime\n",
    "import calendar\n",
    "import matplotlib.pyplot as plt\n",
    "import seaborn as sns\n",
    "import sklearn.feature_selection\n",
    "from sklearn import linear_model\n",
    "from sklearn import metrics\n",
    "from sklearn import preprocessing\n",
    "from sklearn.decomposition import PCA\n",
    "from sklearn.cluster import KMeans\n",
    "from IPython.core.interactiveshell import InteractiveShell\n",
    "InteractiveShell.ast_node_interactivity = \"all\"\n",
    "pd.set_option('display.max_columns', None)\n",
    "\n",
    "\n",
    "%matplotlib inline"
   ]
  },
  {
   "cell_type": "code",
   "execution_count": 1,
   "metadata": {},
   "outputs": [
    {
     "ename": "NameError",
     "evalue": "name 'df' is not defined",
     "output_type": "error",
     "traceback": [
      "\u001b[0;31m---------------------------------------------------------------------------\u001b[0m",
      "\u001b[0;31mNameError\u001b[0m                                 Traceback (most recent call last)",
      "\u001b[0;32m<ipython-input-1-35c2c1a2ffe2>\u001b[0m in \u001b[0;36m<module>\u001b[0;34m()\u001b[0m\n\u001b[1;32m      1\u001b[0m \u001b[0;31m# Saving the transformed dataset before diving into outlier detection\u001b[0m\u001b[0;34m\u001b[0m\u001b[0;34m\u001b[0m\u001b[0m\n\u001b[0;32m----> 2\u001b[0;31m \u001b[0mdf\u001b[0m\u001b[0;34m.\u001b[0m\u001b[0mto_csv\u001b[0m\u001b[0;34m(\u001b[0m\u001b[0;34m'TransformedData.csv'\u001b[0m\u001b[0;34m,\u001b[0m \u001b[0msep\u001b[0m\u001b[0;34m=\u001b[0m\u001b[0;34m','\u001b[0m\u001b[0;34m,\u001b[0m \u001b[0mheader\u001b[0m\u001b[0;34m=\u001b[0m\u001b[0;32mTrue\u001b[0m\u001b[0;34m)\u001b[0m\u001b[0;34m\u001b[0m\u001b[0m\n\u001b[0m",
      "\u001b[0;31mNameError\u001b[0m: name 'df' is not defined"
     ]
    }
   ],
   "source": [
    "# Loading cleaned df\n",
    "df = pd.read_csv('TransformedData.csv', index_col= 0)\n",
    "df.head()"
   ]
  },
  {
   "cell_type": "markdown",
   "metadata": {},
   "source": [
    "### OUTLIER/ANOMALY DETECTION <a name=\"outlierDetection\"></a>"
   ]
  },
  {
   "cell_type": "code",
   "execution_count": 1,
   "metadata": {},
   "outputs": [
    {
     "ename": "NameError",
     "evalue": "name 'df' is not defined",
     "output_type": "error",
     "traceback": [
      "\u001b[0;31m---------------------------------------------------------------------------\u001b[0m",
      "\u001b[0;31mNameError\u001b[0m                                 Traceback (most recent call last)",
      "\u001b[0;32m<ipython-input-1-c42a15b2c7cf>\u001b[0m in \u001b[0;36m<module>\u001b[0;34m()\u001b[0m\n\u001b[0;32m----> 1\u001b[0;31m \u001b[0mdf\u001b[0m\u001b[0;34m.\u001b[0m\u001b[0mhead\u001b[0m\u001b[0;34m(\u001b[0m\u001b[0;34m)\u001b[0m\u001b[0;34m\u001b[0m\u001b[0m\n\u001b[0m",
      "\u001b[0;31mNameError\u001b[0m: name 'df' is not defined"
     ]
    }
   ],
   "source": [
    "df.head()"
   ]
  },
  {
   "cell_type": "code",
   "execution_count": 106,
   "metadata": {},
   "outputs": [
    {
     "data": {
      "text/plain": [
       "Index(['TripNoOfDays', 'TripWorkingDays', 'TripWeekends', 'BookingLeadTime',\n",
       "       'PricePerNight', 'ContractIdMean', 'priceDifbyContractMean',\n",
       "       'HotelStarRating', 'MedianPriceByRoomType', 'monthRating',\n",
       "       'categoryRoomPriceRank', 'mealBasisDeviation', 'mealBasisRank',\n",
       "       'contract_NOR', 'contract_OPQ', 'contract_NRF', 'contract_UND',\n",
       "       'contract_SPE', 'contractDeviation', 'DurationDeviation',\n",
       "       'durationType', 'WeekendIncluded', 'cityRank', 'cityDeviation',\n",
       "       'CityKurtosis'],\n",
       "      dtype='object')"
      ]
     },
     "execution_count": 106,
     "metadata": {},
     "output_type": "execute_result"
    }
   ],
   "source": [
    "df.columns"
   ]
  },
  {
   "cell_type": "markdown",
   "metadata": {},
   "source": [
    "As mentioned earlier we will proceed with a 2 fold process here. First we will create outlier score based on the features that explain the deviation of the price from the expected mean or median. This will be used to detect price points which have a high probability of being anomalouos. The actual price recorded will also be taken into consideration while making this criteria.\n",
    "The second approach will use clustering and regression to group similar bookings together and define outliers based on regression scores and residuals for each of fthe clusters"
   ]
  },
  {
   "cell_type": "code",
   "execution_count": 107,
   "metadata": {},
   "outputs": [],
   "source": [
    "# Scaling dataset\n",
    "standard_scaler = preprocessing.StandardScaler()\n",
    "np_scaled = standard_scaler.fit_transform(df)\n",
    "df_scaled = pd.DataFrame(np_scaled, index=df.index, columns=df.columns)"
   ]
  },
  {
   "cell_type": "code",
   "execution_count": 108,
   "metadata": {},
   "outputs": [
    {
     "data": {
      "text/html": [
       "<div>\n",
       "<style scoped>\n",
       "    .dataframe tbody tr th:only-of-type {\n",
       "        vertical-align: middle;\n",
       "    }\n",
       "\n",
       "    .dataframe tbody tr th {\n",
       "        vertical-align: top;\n",
       "    }\n",
       "\n",
       "    .dataframe thead th {\n",
       "        text-align: right;\n",
       "    }\n",
       "</style>\n",
       "<table border=\"1\" class=\"dataframe\">\n",
       "  <thead>\n",
       "    <tr style=\"text-align: right;\">\n",
       "      <th></th>\n",
       "      <th>TripNoOfDays</th>\n",
       "      <th>TripWorkingDays</th>\n",
       "      <th>TripWeekends</th>\n",
       "      <th>BookingLeadTime</th>\n",
       "      <th>PricePerNight</th>\n",
       "      <th>ContractIdMean</th>\n",
       "      <th>priceDifbyContractMean</th>\n",
       "      <th>HotelStarRating</th>\n",
       "      <th>MedianPriceByRoomType</th>\n",
       "      <th>monthRating</th>\n",
       "      <th>categoryRoomPriceRank</th>\n",
       "      <th>mealBasisDeviation</th>\n",
       "      <th>mealBasisRank</th>\n",
       "      <th>contract_NOR</th>\n",
       "      <th>contract_OPQ</th>\n",
       "      <th>contract_NRF</th>\n",
       "      <th>contract_UND</th>\n",
       "      <th>contract_SPE</th>\n",
       "      <th>contractDeviation</th>\n",
       "      <th>DurationDeviation</th>\n",
       "      <th>durationType</th>\n",
       "      <th>WeekendIncluded</th>\n",
       "      <th>cityRank</th>\n",
       "      <th>cityDeviation</th>\n",
       "      <th>CityKurtosis</th>\n",
       "    </tr>\n",
       "    <tr>\n",
       "      <th>row_id</th>\n",
       "      <th></th>\n",
       "      <th></th>\n",
       "      <th></th>\n",
       "      <th></th>\n",
       "      <th></th>\n",
       "      <th></th>\n",
       "      <th></th>\n",
       "      <th></th>\n",
       "      <th></th>\n",
       "      <th></th>\n",
       "      <th></th>\n",
       "      <th></th>\n",
       "      <th></th>\n",
       "      <th></th>\n",
       "      <th></th>\n",
       "      <th></th>\n",
       "      <th></th>\n",
       "      <th></th>\n",
       "      <th></th>\n",
       "      <th></th>\n",
       "      <th></th>\n",
       "      <th></th>\n",
       "      <th></th>\n",
       "      <th></th>\n",
       "      <th></th>\n",
       "    </tr>\n",
       "  </thead>\n",
       "  <tbody>\n",
       "    <tr>\n",
       "      <th>0</th>\n",
       "      <td>0.575838</td>\n",
       "      <td>0.413620</td>\n",
       "      <td>0.690505</td>\n",
       "      <td>-0.317700</td>\n",
       "      <td>1.063062</td>\n",
       "      <td>0.350324</td>\n",
       "      <td>1.104157</td>\n",
       "      <td>0.473183</td>\n",
       "      <td>1.049980</td>\n",
       "      <td>0.0</td>\n",
       "      <td>1.708964</td>\n",
       "      <td>-0.256506</td>\n",
       "      <td>-0.649972</td>\n",
       "      <td>-1.117465</td>\n",
       "      <td>2.216884</td>\n",
       "      <td>-0.460596</td>\n",
       "      <td>-0.386265</td>\n",
       "      <td>-0.034652</td>\n",
       "      <td>-0.388313</td>\n",
       "      <td>-0.304524</td>\n",
       "      <td>-0.418327</td>\n",
       "      <td>0.654486</td>\n",
       "      <td>-0.087514</td>\n",
       "      <td>-0.045363</td>\n",
       "      <td>0.607779</td>\n",
       "    </tr>\n",
       "    <tr>\n",
       "      <th>1</th>\n",
       "      <td>0.210293</td>\n",
       "      <td>-0.063525</td>\n",
       "      <td>0.690505</td>\n",
       "      <td>-0.029443</td>\n",
       "      <td>-0.417529</td>\n",
       "      <td>-0.659671</td>\n",
       "      <td>0.020082</td>\n",
       "      <td>-3.017766</td>\n",
       "      <td>-1.111124</td>\n",
       "      <td>0.0</td>\n",
       "      <td>-0.277772</td>\n",
       "      <td>-0.256506</td>\n",
       "      <td>-0.055805</td>\n",
       "      <td>0.894882</td>\n",
       "      <td>-0.451084</td>\n",
       "      <td>-0.460596</td>\n",
       "      <td>-0.386265</td>\n",
       "      <td>-0.034652</td>\n",
       "      <td>-0.388313</td>\n",
       "      <td>-0.304524</td>\n",
       "      <td>-0.418327</td>\n",
       "      <td>0.654486</td>\n",
       "      <td>-0.087514</td>\n",
       "      <td>2.139355</td>\n",
       "      <td>-1.627399</td>\n",
       "    </tr>\n",
       "    <tr>\n",
       "      <th>2</th>\n",
       "      <td>0.575838</td>\n",
       "      <td>0.413620</td>\n",
       "      <td>0.690505</td>\n",
       "      <td>-0.850975</td>\n",
       "      <td>1.529439</td>\n",
       "      <td>2.926425</td>\n",
       "      <td>-0.520175</td>\n",
       "      <td>1.636832</td>\n",
       "      <td>0.396359</td>\n",
       "      <td>0.0</td>\n",
       "      <td>0.218912</td>\n",
       "      <td>-0.256506</td>\n",
       "      <td>-0.649972</td>\n",
       "      <td>0.894882</td>\n",
       "      <td>-0.451084</td>\n",
       "      <td>-0.460596</td>\n",
       "      <td>-0.386265</td>\n",
       "      <td>-0.034652</td>\n",
       "      <td>-0.388313</td>\n",
       "      <td>-0.304524</td>\n",
       "      <td>-0.418327</td>\n",
       "      <td>0.654486</td>\n",
       "      <td>2.311026</td>\n",
       "      <td>-0.045363</td>\n",
       "      <td>-1.119404</td>\n",
       "    </tr>\n",
       "    <tr>\n",
       "      <th>3</th>\n",
       "      <td>-0.155253</td>\n",
       "      <td>-0.540669</td>\n",
       "      <td>0.690505</td>\n",
       "      <td>-0.634782</td>\n",
       "      <td>-0.311005</td>\n",
       "      <td>0.552051</td>\n",
       "      <td>-0.893011</td>\n",
       "      <td>-0.690467</td>\n",
       "      <td>-0.536844</td>\n",
       "      <td>0.0</td>\n",
       "      <td>-0.277772</td>\n",
       "      <td>-0.256506</td>\n",
       "      <td>-0.055805</td>\n",
       "      <td>-1.117465</td>\n",
       "      <td>-0.451084</td>\n",
       "      <td>-0.460596</td>\n",
       "      <td>2.588894</td>\n",
       "      <td>-0.034652</td>\n",
       "      <td>2.575243</td>\n",
       "      <td>-0.304524</td>\n",
       "      <td>-0.418327</td>\n",
       "      <td>0.654486</td>\n",
       "      <td>-0.887027</td>\n",
       "      <td>-0.773602</td>\n",
       "      <td>1.217373</td>\n",
       "    </tr>\n",
       "    <tr>\n",
       "      <th>4</th>\n",
       "      <td>-0.155253</td>\n",
       "      <td>0.413620</td>\n",
       "      <td>-1.240497</td>\n",
       "      <td>-0.591544</td>\n",
       "      <td>-0.475714</td>\n",
       "      <td>-0.898199</td>\n",
       "      <td>0.150693</td>\n",
       "      <td>-0.690467</td>\n",
       "      <td>-1.111124</td>\n",
       "      <td>0.0</td>\n",
       "      <td>-0.277772</td>\n",
       "      <td>-0.256506</td>\n",
       "      <td>-0.649972</td>\n",
       "      <td>0.894882</td>\n",
       "      <td>-0.451084</td>\n",
       "      <td>-0.460596</td>\n",
       "      <td>-0.386265</td>\n",
       "      <td>-0.034652</td>\n",
       "      <td>-0.388313</td>\n",
       "      <td>-0.304524</td>\n",
       "      <td>-0.418327</td>\n",
       "      <td>-1.527917</td>\n",
       "      <td>-0.087514</td>\n",
       "      <td>-0.045363</td>\n",
       "      <td>0.506180</td>\n",
       "    </tr>\n",
       "  </tbody>\n",
       "</table>\n",
       "</div>"
      ],
      "text/plain": [
       "        TripNoOfDays  TripWorkingDays  TripWeekends  BookingLeadTime  \\\n",
       "row_id                                                                 \n",
       "0           0.575838         0.413620      0.690505        -0.317700   \n",
       "1           0.210293        -0.063525      0.690505        -0.029443   \n",
       "2           0.575838         0.413620      0.690505        -0.850975   \n",
       "3          -0.155253        -0.540669      0.690505        -0.634782   \n",
       "4          -0.155253         0.413620     -1.240497        -0.591544   \n",
       "\n",
       "        PricePerNight  ContractIdMean  priceDifbyContractMean  \\\n",
       "row_id                                                          \n",
       "0            1.063062        0.350324                1.104157   \n",
       "1           -0.417529       -0.659671                0.020082   \n",
       "2            1.529439        2.926425               -0.520175   \n",
       "3           -0.311005        0.552051               -0.893011   \n",
       "4           -0.475714       -0.898199                0.150693   \n",
       "\n",
       "        HotelStarRating  MedianPriceByRoomType  monthRating  \\\n",
       "row_id                                                        \n",
       "0              0.473183               1.049980          0.0   \n",
       "1             -3.017766              -1.111124          0.0   \n",
       "2              1.636832               0.396359          0.0   \n",
       "3             -0.690467              -0.536844          0.0   \n",
       "4             -0.690467              -1.111124          0.0   \n",
       "\n",
       "        categoryRoomPriceRank  mealBasisDeviation  mealBasisRank  \\\n",
       "row_id                                                             \n",
       "0                    1.708964           -0.256506      -0.649972   \n",
       "1                   -0.277772           -0.256506      -0.055805   \n",
       "2                    0.218912           -0.256506      -0.649972   \n",
       "3                   -0.277772           -0.256506      -0.055805   \n",
       "4                   -0.277772           -0.256506      -0.649972   \n",
       "\n",
       "        contract_NOR  contract_OPQ  contract_NRF  contract_UND  contract_SPE  \\\n",
       "row_id                                                                         \n",
       "0          -1.117465      2.216884     -0.460596     -0.386265     -0.034652   \n",
       "1           0.894882     -0.451084     -0.460596     -0.386265     -0.034652   \n",
       "2           0.894882     -0.451084     -0.460596     -0.386265     -0.034652   \n",
       "3          -1.117465     -0.451084     -0.460596      2.588894     -0.034652   \n",
       "4           0.894882     -0.451084     -0.460596     -0.386265     -0.034652   \n",
       "\n",
       "        contractDeviation  DurationDeviation  durationType  WeekendIncluded  \\\n",
       "row_id                                                                        \n",
       "0               -0.388313          -0.304524     -0.418327         0.654486   \n",
       "1               -0.388313          -0.304524     -0.418327         0.654486   \n",
       "2               -0.388313          -0.304524     -0.418327         0.654486   \n",
       "3                2.575243          -0.304524     -0.418327         0.654486   \n",
       "4               -0.388313          -0.304524     -0.418327        -1.527917   \n",
       "\n",
       "        cityRank  cityDeviation  CityKurtosis  \n",
       "row_id                                         \n",
       "0      -0.087514      -0.045363      0.607779  \n",
       "1      -0.087514       2.139355     -1.627399  \n",
       "2       2.311026      -0.045363     -1.119404  \n",
       "3      -0.887027      -0.773602      1.217373  \n",
       "4      -0.087514      -0.045363      0.506180  "
      ]
     },
     "execution_count": 108,
     "metadata": {},
     "output_type": "execute_result"
    }
   ],
   "source": [
    "df_scaled.head()"
   ]
  },
  {
   "cell_type": "markdown",
   "metadata": {},
   "source": [
    "#### Statistical and Visualization Approach <a name=\"stat\"></a>"
   ]
  },
  {
   "cell_type": "code",
   "execution_count": 109,
   "metadata": {},
   "outputs": [],
   "source": [
    "# Take the deviation columns and create an outlier score\n",
    "df_scaled['outlierScore'] = ((df_scaled.priceDifbyContractMean*100) *\n",
    "                            ((df_scaled.mealBasisDeviation + df_scaled.contractDeviation + \n",
    "                            df_scaled.DurationDeviation + df_scaled.cityDeviation + df_scaled.CityKurtosis) * 10 ))\n",
    "df_scaled['outlierScore'] = preprocessing.scale(df_scaled['outlierScore'])"
   ]
  },
  {
   "cell_type": "code",
   "execution_count": 110,
   "metadata": {},
   "outputs": [
    {
     "data": {
      "image/png": "[encoded data removed]",
      "text/plain": [
       "<Figure size 720x432 with 1 Axes>"
      ]
     },
     "metadata": {},
     "output_type": "display_data"
    }
   ],
   "source": [
    "# Scatter Plot of the outlier score over price\n",
    "plt.figure(figsize=(10,6))\n",
    "plt.scatter(df_scaled.outlierScore,df_scaled.PricePerNight)\n",
    "plt.ylabel('Price')\n",
    "plt.xlabel('Outlier Score');"
   ]
  },
  {
   "cell_type": "markdown",
   "metadata": {},
   "source": [
    "The dispersion of the data points shows clearly that extremely high outlier scores on either side can be treated as anomalies. Thus high outlier score and high prices on the extreme ends of the distribution (including the negetive side of outlier score) can be tagged as anomalies."
   ]
  },
  {
   "cell_type": "code",
   "execution_count": 111,
   "metadata": {},
   "outputs": [
    {
     "name": "stdout",
     "output_type": "stream",
     "text": [
      "58\n",
      "41\n",
      "2\n",
      "22\n"
     ]
    }
   ],
   "source": [
    "## Returning the outliers from both sides of the distribution\n",
    "\n",
    "# On the positive side\n",
    "print(df_scaled.loc[(df_scaled.outlierScore > 30), 'PricePerNight'].size) # 10\n",
    "print(df_scaled.loc[((df_scaled.outlierScore > 20) & (df_scaled.outlierScore < 30)) & (df_scaled.PricePerNight > 12), 'PricePerNight'].size) # 10\n",
    "\n",
    "# On the negative side\n",
    "print(df_scaled.loc[(df_scaled.outlierScore < -15) & (df_scaled.PricePerNight < 5), 'PricePerNight'].size)\n",
    "print(df_scaled.loc[(df_scaled.outlierScore < -15) & (df_scaled.PricePerNight > 15), 'PricePerNight'].size)"
   ]
  },
  {
   "cell_type": "markdown",
   "metadata": {},
   "source": [
    "The boundary conditions are set based on the distribution observed in the scatter plot above and also keeping tight rules to allow for lower probability of False positives"
   ]
  },
  {
   "cell_type": "code",
   "execution_count": 112,
   "metadata": {},
   "outputs": [],
   "source": [
    "# New Data Frame containing the previously spotted anomalies\n",
    "df_anomaly3 = pd.DataFrame( df_scaled.loc[ \n",
    "                   (df_scaled.outlierScore > 30)\n",
    "                 | (((df_scaled.outlierScore > 20) & (df_scaled.outlierScore < 30)) & (df_scaled.PricePerNight > 12))\n",
    "                 | ((df_scaled.outlierScore < -15) & (df_scaled.PricePerNight < 5))\n",
    "                 | ((df_scaled.outlierScore < -15) & (df_scaled.PricePerNight > 15))\n",
    "                  , 'PricePerNight'])   "
   ]
  },
  {
   "cell_type": "code",
   "execution_count": 113,
   "metadata": {},
   "outputs": [
    {
     "data": {
      "text/plain": [
       "(123, 1)"
      ]
     },
     "execution_count": 113,
     "metadata": {},
     "output_type": "execute_result"
    }
   ],
   "source": [
    "df_anomaly3.shape"
   ]
  },
  {
   "cell_type": "code",
   "execution_count": 114,
   "metadata": {},
   "outputs": [],
   "source": [
    "df_scaled = df_scaled.loc[df_scaled.index.isin(df_anomaly3.index) == False , :]"
   ]
  },
  {
   "cell_type": "code",
   "execution_count": 115,
   "metadata": {},
   "outputs": [
    {
     "data": {
      "text/plain": [
       "Index(['TripNoOfDays', 'TripWorkingDays', 'TripWeekends', 'BookingLeadTime',\n",
       "       'PricePerNight', 'ContractIdMean', 'priceDifbyContractMean',\n",
       "       'HotelStarRating', 'MedianPriceByRoomType', 'monthRating',\n",
       "       'categoryRoomPriceRank', 'mealBasisDeviation', 'mealBasisRank',\n",
       "       'contract_NOR', 'contract_OPQ', 'contract_NRF', 'contract_UND',\n",
       "       'contract_SPE', 'contractDeviation', 'DurationDeviation',\n",
       "       'durationType', 'WeekendIncluded', 'cityRank', 'cityDeviation',\n",
       "       'CityKurtosis', 'outlierScore'],\n",
       "      dtype='object')"
      ]
     },
     "execution_count": 115,
     "metadata": {},
     "output_type": "execute_result"
    }
   ],
   "source": [
    "df_scaled.columns"
   ]
  },
  {
   "cell_type": "code",
   "execution_count": 116,
   "metadata": {},
   "outputs": [],
   "source": [
    "# Removing the variables that we will not use anymore\n",
    "df_scaled = df_scaled.drop(['priceDifbyContractMean' , 'mealBasisDeviation', \n",
    "                            'contractDeviation', 'DurationDeviation', 'cityDeviation', \n",
    "                            'CityKurtosis', 'outlierScore'], axis = 1)"
   ]
  },
  {
   "cell_type": "markdown",
   "metadata": {},
   "source": [
    "#### Cluster and Regression Approach <a name=\"cluster\"></a>"
   ]
  },
  {
   "cell_type": "code",
   "execution_count": 117,
   "metadata": {},
   "outputs": [
    {
     "data": {
      "text/html": [
       "<div>\n",
       "<style scoped>\n",
       "    .dataframe tbody tr th:only-of-type {\n",
       "        vertical-align: middle;\n",
       "    }\n",
       "\n",
       "    .dataframe tbody tr th {\n",
       "        vertical-align: top;\n",
       "    }\n",
       "\n",
       "    .dataframe thead th {\n",
       "        text-align: right;\n",
       "    }\n",
       "</style>\n",
       "<table border=\"1\" class=\"dataframe\">\n",
       "  <thead>\n",
       "    <tr style=\"text-align: right;\">\n",
       "      <th></th>\n",
       "      <th>TripNoOfDays</th>\n",
       "      <th>TripWorkingDays</th>\n",
       "      <th>TripWeekends</th>\n",
       "      <th>BookingLeadTime</th>\n",
       "      <th>PricePerNight</th>\n",
       "      <th>ContractIdMean</th>\n",
       "      <th>HotelStarRating</th>\n",
       "      <th>MedianPriceByRoomType</th>\n",
       "      <th>monthRating</th>\n",
       "      <th>categoryRoomPriceRank</th>\n",
       "      <th>mealBasisRank</th>\n",
       "      <th>contract_NOR</th>\n",
       "      <th>contract_OPQ</th>\n",
       "      <th>contract_NRF</th>\n",
       "      <th>contract_UND</th>\n",
       "      <th>contract_SPE</th>\n",
       "      <th>durationType</th>\n",
       "      <th>WeekendIncluded</th>\n",
       "      <th>cityRank</th>\n",
       "    </tr>\n",
       "    <tr>\n",
       "      <th>row_id</th>\n",
       "      <th></th>\n",
       "      <th></th>\n",
       "      <th></th>\n",
       "      <th></th>\n",
       "      <th></th>\n",
       "      <th></th>\n",
       "      <th></th>\n",
       "      <th></th>\n",
       "      <th></th>\n",
       "      <th></th>\n",
       "      <th></th>\n",
       "      <th></th>\n",
       "      <th></th>\n",
       "      <th></th>\n",
       "      <th></th>\n",
       "      <th></th>\n",
       "      <th></th>\n",
       "      <th></th>\n",
       "      <th></th>\n",
       "    </tr>\n",
       "  </thead>\n",
       "  <tbody>\n",
       "    <tr>\n",
       "      <th>0</th>\n",
       "      <td>0.575838</td>\n",
       "      <td>0.413620</td>\n",
       "      <td>0.690505</td>\n",
       "      <td>-0.317700</td>\n",
       "      <td>1.063062</td>\n",
       "      <td>0.350324</td>\n",
       "      <td>0.473183</td>\n",
       "      <td>1.049980</td>\n",
       "      <td>0.0</td>\n",
       "      <td>1.708964</td>\n",
       "      <td>-0.649972</td>\n",
       "      <td>-1.117465</td>\n",
       "      <td>2.216884</td>\n",
       "      <td>-0.460596</td>\n",
       "      <td>-0.386265</td>\n",
       "      <td>-0.034652</td>\n",
       "      <td>-0.418327</td>\n",
       "      <td>0.654486</td>\n",
       "      <td>-0.087514</td>\n",
       "    </tr>\n",
       "    <tr>\n",
       "      <th>1</th>\n",
       "      <td>0.210293</td>\n",
       "      <td>-0.063525</td>\n",
       "      <td>0.690505</td>\n",
       "      <td>-0.029443</td>\n",
       "      <td>-0.417529</td>\n",
       "      <td>-0.659671</td>\n",
       "      <td>-3.017766</td>\n",
       "      <td>-1.111124</td>\n",
       "      <td>0.0</td>\n",
       "      <td>-0.277772</td>\n",
       "      <td>-0.055805</td>\n",
       "      <td>0.894882</td>\n",
       "      <td>-0.451084</td>\n",
       "      <td>-0.460596</td>\n",
       "      <td>-0.386265</td>\n",
       "      <td>-0.034652</td>\n",
       "      <td>-0.418327</td>\n",
       "      <td>0.654486</td>\n",
       "      <td>-0.087514</td>\n",
       "    </tr>\n",
       "    <tr>\n",
       "      <th>2</th>\n",
       "      <td>0.575838</td>\n",
       "      <td>0.413620</td>\n",
       "      <td>0.690505</td>\n",
       "      <td>-0.850975</td>\n",
       "      <td>1.529439</td>\n",
       "      <td>2.926425</td>\n",
       "      <td>1.636832</td>\n",
       "      <td>0.396359</td>\n",
       "      <td>0.0</td>\n",
       "      <td>0.218912</td>\n",
       "      <td>-0.649972</td>\n",
       "      <td>0.894882</td>\n",
       "      <td>-0.451084</td>\n",
       "      <td>-0.460596</td>\n",
       "      <td>-0.386265</td>\n",
       "      <td>-0.034652</td>\n",
       "      <td>-0.418327</td>\n",
       "      <td>0.654486</td>\n",
       "      <td>2.311026</td>\n",
       "    </tr>\n",
       "    <tr>\n",
       "      <th>3</th>\n",
       "      <td>-0.155253</td>\n",
       "      <td>-0.540669</td>\n",
       "      <td>0.690505</td>\n",
       "      <td>-0.634782</td>\n",
       "      <td>-0.311005</td>\n",
       "      <td>0.552051</td>\n",
       "      <td>-0.690467</td>\n",
       "      <td>-0.536844</td>\n",
       "      <td>0.0</td>\n",
       "      <td>-0.277772</td>\n",
       "      <td>-0.055805</td>\n",
       "      <td>-1.117465</td>\n",
       "      <td>-0.451084</td>\n",
       "      <td>-0.460596</td>\n",
       "      <td>2.588894</td>\n",
       "      <td>-0.034652</td>\n",
       "      <td>-0.418327</td>\n",
       "      <td>0.654486</td>\n",
       "      <td>-0.887027</td>\n",
       "    </tr>\n",
       "    <tr>\n",
       "      <th>4</th>\n",
       "      <td>-0.155253</td>\n",
       "      <td>0.413620</td>\n",
       "      <td>-1.240497</td>\n",
       "      <td>-0.591544</td>\n",
       "      <td>-0.475714</td>\n",
       "      <td>-0.898199</td>\n",
       "      <td>-0.690467</td>\n",
       "      <td>-1.111124</td>\n",
       "      <td>0.0</td>\n",
       "      <td>-0.277772</td>\n",
       "      <td>-0.649972</td>\n",
       "      <td>0.894882</td>\n",
       "      <td>-0.451084</td>\n",
       "      <td>-0.460596</td>\n",
       "      <td>-0.386265</td>\n",
       "      <td>-0.034652</td>\n",
       "      <td>-0.418327</td>\n",
       "      <td>-1.527917</td>\n",
       "      <td>-0.087514</td>\n",
       "    </tr>\n",
       "  </tbody>\n",
       "</table>\n",
       "</div>"
      ],
      "text/plain": [
       "        TripNoOfDays  TripWorkingDays  TripWeekends  BookingLeadTime  \\\n",
       "row_id                                                                 \n",
       "0           0.575838         0.413620      0.690505        -0.317700   \n",
       "1           0.210293        -0.063525      0.690505        -0.029443   \n",
       "2           0.575838         0.413620      0.690505        -0.850975   \n",
       "3          -0.155253        -0.540669      0.690505        -0.634782   \n",
       "4          -0.155253         0.413620     -1.240497        -0.591544   \n",
       "\n",
       "        PricePerNight  ContractIdMean  HotelStarRating  MedianPriceByRoomType  \\\n",
       "row_id                                                                          \n",
       "0            1.063062        0.350324         0.473183               1.049980   \n",
       "1           -0.417529       -0.659671        -3.017766              -1.111124   \n",
       "2            1.529439        2.926425         1.636832               0.396359   \n",
       "3           -0.311005        0.552051        -0.690467              -0.536844   \n",
       "4           -0.475714       -0.898199        -0.690467              -1.111124   \n",
       "\n",
       "        monthRating  categoryRoomPriceRank  mealBasisRank  contract_NOR  \\\n",
       "row_id                                                                    \n",
       "0               0.0               1.708964      -0.649972     -1.117465   \n",
       "1               0.0              -0.277772      -0.055805      0.894882   \n",
       "2               0.0               0.218912      -0.649972      0.894882   \n",
       "3               0.0              -0.277772      -0.055805     -1.117465   \n",
       "4               0.0              -0.277772      -0.649972      0.894882   \n",
       "\n",
       "        contract_OPQ  contract_NRF  contract_UND  contract_SPE  durationType  \\\n",
       "row_id                                                                         \n",
       "0           2.216884     -0.460596     -0.386265     -0.034652     -0.418327   \n",
       "1          -0.451084     -0.460596     -0.386265     -0.034652     -0.418327   \n",
       "2          -0.451084     -0.460596     -0.386265     -0.034652     -0.418327   \n",
       "3          -0.451084     -0.460596      2.588894     -0.034652     -0.418327   \n",
       "4          -0.451084     -0.460596     -0.386265     -0.034652     -0.418327   \n",
       "\n",
       "        WeekendIncluded  cityRank  \n",
       "row_id                             \n",
       "0              0.654486 -0.087514  \n",
       "1              0.654486 -0.087514  \n",
       "2              0.654486  2.311026  \n",
       "3              0.654486 -0.887027  \n",
       "4             -1.527917 -0.087514  "
      ]
     },
     "execution_count": 117,
     "metadata": {},
     "output_type": "execute_result"
    }
   ],
   "source": [
    "data = df_scaled\n",
    "\n",
    "data.head()"
   ]
  },
  {
   "cell_type": "code",
   "execution_count": 118,
   "metadata": {},
   "outputs": [],
   "source": [
    "PricePerNight = data.PricePerNight"
   ]
  },
  {
   "cell_type": "code",
   "execution_count": 119,
   "metadata": {},
   "outputs": [],
   "source": [
    "data = data.drop(['PricePerNight'], axis =1 )"
   ]
  },
  {
   "cell_type": "code",
   "execution_count": 120,
   "metadata": {},
   "outputs": [],
   "source": [
    "# Take useful features and standardize them\n",
    "standard_scaler = preprocessing.StandardScaler()\n",
    "np_scaled = standard_scaler.fit_transform(data)\n",
    "data = pd.DataFrame(np_scaled, index=data.index)"
   ]
  },
  {
   "cell_type": "code",
   "execution_count": 121,
   "metadata": {},
   "outputs": [],
   "source": [
    "columNames = df_scaled.columns.drop(['PricePerNight'])\n",
    "data.columns = columNames"
   ]
  },
  {
   "cell_type": "code",
   "execution_count": 122,
   "metadata": {},
   "outputs": [
    {
     "name": "stdout",
     "output_type": "stream",
     "text": [
      "(890387, 18)\n"
     ]
    },
    {
     "data": {
      "text/html": [
       "<div>\n",
       "<style scoped>\n",
       "    .dataframe tbody tr th:only-of-type {\n",
       "        vertical-align: middle;\n",
       "    }\n",
       "\n",
       "    .dataframe tbody tr th {\n",
       "        vertical-align: top;\n",
       "    }\n",
       "\n",
       "    .dataframe thead th {\n",
       "        text-align: right;\n",
       "    }\n",
       "</style>\n",
       "<table border=\"1\" class=\"dataframe\">\n",
       "  <thead>\n",
       "    <tr style=\"text-align: right;\">\n",
       "      <th></th>\n",
       "      <th>TripNoOfDays</th>\n",
       "      <th>TripWorkingDays</th>\n",
       "      <th>TripWeekends</th>\n",
       "      <th>BookingLeadTime</th>\n",
       "      <th>ContractIdMean</th>\n",
       "      <th>HotelStarRating</th>\n",
       "      <th>MedianPriceByRoomType</th>\n",
       "      <th>monthRating</th>\n",
       "      <th>categoryRoomPriceRank</th>\n",
       "      <th>mealBasisRank</th>\n",
       "      <th>contract_NOR</th>\n",
       "      <th>contract_OPQ</th>\n",
       "      <th>contract_NRF</th>\n",
       "      <th>contract_UND</th>\n",
       "      <th>contract_SPE</th>\n",
       "      <th>durationType</th>\n",
       "      <th>WeekendIncluded</th>\n",
       "      <th>cityRank</th>\n",
       "    </tr>\n",
       "    <tr>\n",
       "      <th>row_id</th>\n",
       "      <th></th>\n",
       "      <th></th>\n",
       "      <th></th>\n",
       "      <th></th>\n",
       "      <th></th>\n",
       "      <th></th>\n",
       "      <th></th>\n",
       "      <th></th>\n",
       "      <th></th>\n",
       "      <th></th>\n",
       "      <th></th>\n",
       "      <th></th>\n",
       "      <th></th>\n",
       "      <th></th>\n",
       "      <th></th>\n",
       "      <th></th>\n",
       "      <th></th>\n",
       "      <th></th>\n",
       "    </tr>\n",
       "  </thead>\n",
       "  <tbody>\n",
       "    <tr>\n",
       "      <th>0</th>\n",
       "      <td>0.577039</td>\n",
       "      <td>0.414300</td>\n",
       "      <td>0.690784</td>\n",
       "      <td>-0.317656</td>\n",
       "      <td>0.350566</td>\n",
       "      <td>0.473360</td>\n",
       "      <td>1.050173</td>\n",
       "      <td>0.0</td>\n",
       "      <td>1.711563</td>\n",
       "      <td>-0.649944</td>\n",
       "      <td>-1.117573</td>\n",
       "      <td>2.216770</td>\n",
       "      <td>-0.460626</td>\n",
       "      <td>-0.386133</td>\n",
       "      <td>-0.034654</td>\n",
       "      <td>-0.418282</td>\n",
       "      <td>0.654527</td>\n",
       "      <td>-0.087458</td>\n",
       "    </tr>\n",
       "    <tr>\n",
       "      <th>1</th>\n",
       "      <td>0.210898</td>\n",
       "      <td>-0.063366</td>\n",
       "      <td>0.690784</td>\n",
       "      <td>-0.029379</td>\n",
       "      <td>-0.659638</td>\n",
       "      <td>-3.017772</td>\n",
       "      <td>-1.111077</td>\n",
       "      <td>0.0</td>\n",
       "      <td>-0.277998</td>\n",
       "      <td>-0.055756</td>\n",
       "      <td>0.894796</td>\n",
       "      <td>-0.451107</td>\n",
       "      <td>-0.460626</td>\n",
       "      <td>-0.386133</td>\n",
       "      <td>-0.034654</td>\n",
       "      <td>-0.418282</td>\n",
       "      <td>0.654527</td>\n",
       "      <td>-0.087458</td>\n",
       "    </tr>\n",
       "    <tr>\n",
       "      <th>2</th>\n",
       "      <td>0.577039</td>\n",
       "      <td>0.414300</td>\n",
       "      <td>0.690784</td>\n",
       "      <td>-0.850969</td>\n",
       "      <td>2.927198</td>\n",
       "      <td>1.637071</td>\n",
       "      <td>0.396508</td>\n",
       "      <td>0.0</td>\n",
       "      <td>0.219392</td>\n",
       "      <td>-0.649944</td>\n",
       "      <td>0.894796</td>\n",
       "      <td>-0.451107</td>\n",
       "      <td>-0.460626</td>\n",
       "      <td>-0.386133</td>\n",
       "      <td>-0.034654</td>\n",
       "      <td>-0.418282</td>\n",
       "      <td>0.654527</td>\n",
       "      <td>2.311175</td>\n",
       "    </tr>\n",
       "    <tr>\n",
       "      <th>3</th>\n",
       "      <td>-0.155242</td>\n",
       "      <td>-0.541032</td>\n",
       "      <td>0.690784</td>\n",
       "      <td>-0.634761</td>\n",
       "      <td>0.552334</td>\n",
       "      <td>-0.690350</td>\n",
       "      <td>-0.536759</td>\n",
       "      <td>0.0</td>\n",
       "      <td>-0.277998</td>\n",
       "      <td>-0.055756</td>\n",
       "      <td>-1.117573</td>\n",
       "      <td>-0.451107</td>\n",
       "      <td>-0.460626</td>\n",
       "      <td>2.589783</td>\n",
       "      <td>-0.034654</td>\n",
       "      <td>-0.418282</td>\n",
       "      <td>0.654527</td>\n",
       "      <td>-0.887003</td>\n",
       "    </tr>\n",
       "    <tr>\n",
       "      <th>4</th>\n",
       "      <td>-0.155242</td>\n",
       "      <td>0.414300</td>\n",
       "      <td>-1.240616</td>\n",
       "      <td>-0.591519</td>\n",
       "      <td>-0.898215</td>\n",
       "      <td>-0.690350</td>\n",
       "      <td>-1.111077</td>\n",
       "      <td>0.0</td>\n",
       "      <td>-0.277998</td>\n",
       "      <td>-0.649944</td>\n",
       "      <td>0.894796</td>\n",
       "      <td>-0.451107</td>\n",
       "      <td>-0.460626</td>\n",
       "      <td>-0.386133</td>\n",
       "      <td>-0.034654</td>\n",
       "      <td>-0.418282</td>\n",
       "      <td>-1.527820</td>\n",
       "      <td>-0.087458</td>\n",
       "    </tr>\n",
       "  </tbody>\n",
       "</table>\n",
       "</div>"
      ],
      "text/plain": [
       "        TripNoOfDays  TripWorkingDays  TripWeekends  BookingLeadTime  \\\n",
       "row_id                                                                 \n",
       "0           0.577039         0.414300      0.690784        -0.317656   \n",
       "1           0.210898        -0.063366      0.690784        -0.029379   \n",
       "2           0.577039         0.414300      0.690784        -0.850969   \n",
       "3          -0.155242        -0.541032      0.690784        -0.634761   \n",
       "4          -0.155242         0.414300     -1.240616        -0.591519   \n",
       "\n",
       "        ContractIdMean  HotelStarRating  MedianPriceByRoomType  monthRating  \\\n",
       "row_id                                                                        \n",
       "0             0.350566         0.473360               1.050173          0.0   \n",
       "1            -0.659638        -3.017772              -1.111077          0.0   \n",
       "2             2.927198         1.637071               0.396508          0.0   \n",
       "3             0.552334        -0.690350              -0.536759          0.0   \n",
       "4            -0.898215        -0.690350              -1.111077          0.0   \n",
       "\n",
       "        categoryRoomPriceRank  mealBasisRank  contract_NOR  contract_OPQ  \\\n",
       "row_id                                                                     \n",
       "0                    1.711563      -0.649944     -1.117573      2.216770   \n",
       "1                   -0.277998      -0.055756      0.894796     -0.451107   \n",
       "2                    0.219392      -0.649944      0.894796     -0.451107   \n",
       "3                   -0.277998      -0.055756     -1.117573     -0.451107   \n",
       "4                   -0.277998      -0.649944      0.894796     -0.451107   \n",
       "\n",
       "        contract_NRF  contract_UND  contract_SPE  durationType  \\\n",
       "row_id                                                           \n",
       "0          -0.460626     -0.386133     -0.034654     -0.418282   \n",
       "1          -0.460626     -0.386133     -0.034654     -0.418282   \n",
       "2          -0.460626     -0.386133     -0.034654     -0.418282   \n",
       "3          -0.460626      2.589783     -0.034654     -0.418282   \n",
       "4          -0.460626     -0.386133     -0.034654     -0.418282   \n",
       "\n",
       "        WeekendIncluded  cityRank  \n",
       "row_id                             \n",
       "0              0.654527 -0.087458  \n",
       "1              0.654527 -0.087458  \n",
       "2              0.654527  2.311175  \n",
       "3              0.654527 -0.887003  \n",
       "4             -1.527820 -0.087458  "
      ]
     },
     "execution_count": 122,
     "metadata": {},
     "output_type": "execute_result"
    }
   ],
   "source": [
    "print(data.shape)\n",
    "data.head()"
   ]
  },
  {
   "cell_type": "markdown",
   "metadata": {},
   "source": [
    " We begin with PCA to capture the variations as much as possible without having to perform arbitrary feature selection. We have a total of 18 featuers (hence 18 PC) of which we will retain enough to capture atleas 80% of the variance in the data"
   ]
  },
  {
   "cell_type": "code",
   "execution_count": 123,
   "metadata": {},
   "outputs": [],
   "source": [
    "## PCA\n",
    "# reduce to 10 importants features\n",
    "pca = PCA(n_components=10)\n",
    "data_PCA = pca.fit_transform(data)\n",
    "data_PCA = pd.DataFrame(data_PCA, index=data.index)"
   ]
  },
  {
   "cell_type": "code",
   "execution_count": 124,
   "metadata": {},
   "outputs": [],
   "source": [
    "# standardize these 10 new features\n",
    "standard_scaler = preprocessing.StandardScaler()\n",
    "np_scaled = standard_scaler.fit_transform(data_PCA)\n",
    "data_PCA = pd.DataFrame(np_scaled, index=data_PCA.index)"
   ]
  },
  {
   "cell_type": "code",
   "execution_count": 125,
   "metadata": {},
   "outputs": [
    {
     "data": {
      "text/html": [
       "<div>\n",
       "<style scoped>\n",
       "    .dataframe tbody tr th:only-of-type {\n",
       "        vertical-align: middle;\n",
       "    }\n",
       "\n",
       "    .dataframe tbody tr th {\n",
       "        vertical-align: top;\n",
       "    }\n",
       "\n",
       "    .dataframe thead th {\n",
       "        text-align: right;\n",
       "    }\n",
       "</style>\n",
       "<table border=\"1\" class=\"dataframe\">\n",
       "  <thead>\n",
       "    <tr style=\"text-align: right;\">\n",
       "      <th></th>\n",
       "      <th>0</th>\n",
       "      <th>1</th>\n",
       "      <th>2</th>\n",
       "      <th>3</th>\n",
       "      <th>4</th>\n",
       "      <th>5</th>\n",
       "      <th>6</th>\n",
       "      <th>7</th>\n",
       "      <th>8</th>\n",
       "      <th>9</th>\n",
       "    </tr>\n",
       "    <tr>\n",
       "      <th>row_id</th>\n",
       "      <th></th>\n",
       "      <th></th>\n",
       "      <th></th>\n",
       "      <th></th>\n",
       "      <th></th>\n",
       "      <th></th>\n",
       "      <th></th>\n",
       "      <th></th>\n",
       "      <th></th>\n",
       "      <th></th>\n",
       "    </tr>\n",
       "  </thead>\n",
       "  <tbody>\n",
       "    <tr>\n",
       "      <th>0</th>\n",
       "      <td>0.491802</td>\n",
       "      <td>0.719884</td>\n",
       "      <td>1.398681</td>\n",
       "      <td>0.677925</td>\n",
       "      <td>-0.272618</td>\n",
       "      <td>0.583344</td>\n",
       "      <td>-1.115041</td>\n",
       "      <td>0.663648</td>\n",
       "      <td>1.858719</td>\n",
       "      <td>-0.645262</td>\n",
       "    </tr>\n",
       "    <tr>\n",
       "      <th>1</th>\n",
       "      <td>0.102431</td>\n",
       "      <td>-1.514426</td>\n",
       "      <td>-0.756506</td>\n",
       "      <td>-1.094823</td>\n",
       "      <td>-0.797879</td>\n",
       "      <td>-0.073948</td>\n",
       "      <td>-0.107497</td>\n",
       "      <td>0.860155</td>\n",
       "      <td>-0.181617</td>\n",
       "      <td>1.271963</td>\n",
       "    </tr>\n",
       "    <tr>\n",
       "      <th>2</th>\n",
       "      <td>0.809931</td>\n",
       "      <td>1.544296</td>\n",
       "      <td>-0.713020</td>\n",
       "      <td>-0.506455</td>\n",
       "      <td>-0.656511</td>\n",
       "      <td>0.835293</td>\n",
       "      <td>0.325136</td>\n",
       "      <td>-0.988246</td>\n",
       "      <td>2.175869</td>\n",
       "      <td>-0.143698</td>\n",
       "    </tr>\n",
       "    <tr>\n",
       "      <th>3</th>\n",
       "      <td>-0.120843</td>\n",
       "      <td>0.320266</td>\n",
       "      <td>0.698902</td>\n",
       "      <td>-0.480831</td>\n",
       "      <td>-0.793651</td>\n",
       "      <td>-2.692508</td>\n",
       "      <td>0.593068</td>\n",
       "      <td>0.158248</td>\n",
       "      <td>-0.258116</td>\n",
       "      <td>0.775438</td>\n",
       "    </tr>\n",
       "    <tr>\n",
       "      <th>4</th>\n",
       "      <td>-0.803798</td>\n",
       "      <td>-0.821269</td>\n",
       "      <td>-1.044769</td>\n",
       "      <td>-0.647941</td>\n",
       "      <td>1.340156</td>\n",
       "      <td>0.084317</td>\n",
       "      <td>0.139098</td>\n",
       "      <td>0.168494</td>\n",
       "      <td>0.474288</td>\n",
       "      <td>0.108188</td>\n",
       "    </tr>\n",
       "  </tbody>\n",
       "</table>\n",
       "</div>"
      ],
      "text/plain": [
       "               0         1         2         3         4         5         6  \\\n",
       "row_id                                                                         \n",
       "0       0.491802  0.719884  1.398681  0.677925 -0.272618  0.583344 -1.115041   \n",
       "1       0.102431 -1.514426 -0.756506 -1.094823 -0.797879 -0.073948 -0.107497   \n",
       "2       0.809931  1.544296 -0.713020 -0.506455 -0.656511  0.835293  0.325136   \n",
       "3      -0.120843  0.320266  0.698902 -0.480831 -0.793651 -2.692508  0.593068   \n",
       "4      -0.803798 -0.821269 -1.044769 -0.647941  1.340156  0.084317  0.139098   \n",
       "\n",
       "               7         8         9  \n",
       "row_id                                \n",
       "0       0.663648  1.858719 -0.645262  \n",
       "1       0.860155 -0.181617  1.271963  \n",
       "2      -0.988246  2.175869 -0.143698  \n",
       "3       0.158248 -0.258116  0.775438  \n",
       "4       0.168494  0.474288  0.108188  "
      ]
     },
     "execution_count": 125,
     "metadata": {},
     "output_type": "execute_result"
    }
   ],
   "source": [
    "data_PCA.head()"
   ]
  },
  {
   "cell_type": "code",
   "execution_count": 126,
   "metadata": {},
   "outputs": [
    {
     "data": {
      "text/plain": [
       "0.857827090094656"
      ]
     },
     "execution_count": 126,
     "metadata": {},
     "output_type": "execute_result"
    }
   ],
   "source": [
    "pca.explained_variance_ratio_.sum()"
   ]
  },
  {
   "cell_type": "code",
   "execution_count": 127,
   "metadata": {},
   "outputs": [
    {
     "data": {
      "text/plain": [
       "(890387, 10)"
      ]
     },
     "execution_count": 127,
     "metadata": {},
     "output_type": "execute_result"
    }
   ],
   "source": [
    "data_PCA.shape"
   ]
  },
  {
   "cell_type": "markdown",
   "metadata": {},
   "source": [
    "To decide on the clustering we will go by the standard elbow curve approach. However, we need to ensure that we chose < 10 clusters (since PC = 10)"
   ]
  },
  {
   "cell_type": "code",
   "execution_count": 128,
   "metadata": {},
   "outputs": [
    {
     "data": {
      "text/plain": [
       "[<matplotlib.lines.Line2D at 0x1a27358a58>]"
      ]
     },
     "execution_count": 128,
     "metadata": {},
     "output_type": "execute_result"
    },
    {
     "data": {
      "image/png": "[encoded data removed]",
      "text/plain": [
       "<Figure size 432x288 with 1 Axes>"
      ]
     },
     "metadata": {},
     "output_type": "display_data"
    }
   ],
   "source": [
    "# Calculate with different number of centroids to see the loss-plot (elbow method)\n",
    "n_cluster = range(3, 11)\n",
    "kmeans = [KMeans(n_clusters=i).fit(data_PCA) for i in n_cluster]\n",
    "scores = [kmeans[i].score(data_PCA) for i in range(len(kmeans))]\n",
    "fig, ax = plt.subplots()\n",
    "ax.plot(n_cluster, scores)\n",
    "plt.show()"
   ]
  },
  {
   "cell_type": "code",
   "execution_count": 129,
   "metadata": {},
   "outputs": [],
   "source": [
    "# 8 clusters (start at 3)\n",
    "km = kmeans[5]"
   ]
  },
  {
   "cell_type": "code",
   "execution_count": 130,
   "metadata": {},
   "outputs": [
    {
     "data": {
      "text/plain": [
       "KMeans(algorithm='auto', copy_x=True, init='k-means++', max_iter=300,\n",
       "       n_clusters=8, n_init=10, n_jobs=None, precompute_distances='auto',\n",
       "       random_state=None, tol=0.0001, verbose=0)"
      ]
     },
     "execution_count": 130,
     "metadata": {},
     "output_type": "execute_result"
    }
   ],
   "source": [
    "km"
   ]
  },
  {
   "cell_type": "code",
   "execution_count": 131,
   "metadata": {},
   "outputs": [],
   "source": [
    "data_PCA['BookingCluster'] = km.predict(data_PCA)\n",
    "#df['principal_feature1'] = data[0]\n",
    "#df['principal_feature2'] = data[1]\n",
    "#df['cluster'].value_counts()"
   ]
  },
  {
   "cell_type": "code",
   "execution_count": 132,
   "metadata": {},
   "outputs": [
    {
     "data": {
      "text/html": [
       "<div>\n",
       "<style scoped>\n",
       "    .dataframe tbody tr th:only-of-type {\n",
       "        vertical-align: middle;\n",
       "    }\n",
       "\n",
       "    .dataframe tbody tr th {\n",
       "        vertical-align: top;\n",
       "    }\n",
       "\n",
       "    .dataframe thead th {\n",
       "        text-align: right;\n",
       "    }\n",
       "</style>\n",
       "<table border=\"1\" class=\"dataframe\">\n",
       "  <thead>\n",
       "    <tr style=\"text-align: right;\">\n",
       "      <th></th>\n",
       "      <th>0</th>\n",
       "      <th>1</th>\n",
       "      <th>2</th>\n",
       "      <th>3</th>\n",
       "      <th>4</th>\n",
       "      <th>5</th>\n",
       "      <th>6</th>\n",
       "      <th>7</th>\n",
       "      <th>8</th>\n",
       "      <th>9</th>\n",
       "      <th>BookingCluster</th>\n",
       "    </tr>\n",
       "    <tr>\n",
       "      <th>row_id</th>\n",
       "      <th></th>\n",
       "      <th></th>\n",
       "      <th></th>\n",
       "      <th></th>\n",
       "      <th></th>\n",
       "      <th></th>\n",
       "      <th></th>\n",
       "      <th></th>\n",
       "      <th></th>\n",
       "      <th></th>\n",
       "      <th></th>\n",
       "    </tr>\n",
       "  </thead>\n",
       "  <tbody>\n",
       "    <tr>\n",
       "      <th>0</th>\n",
       "      <td>0.491802</td>\n",
       "      <td>0.719884</td>\n",
       "      <td>1.398681</td>\n",
       "      <td>0.677925</td>\n",
       "      <td>-0.272618</td>\n",
       "      <td>0.583344</td>\n",
       "      <td>-1.115041</td>\n",
       "      <td>0.663648</td>\n",
       "      <td>1.858719</td>\n",
       "      <td>-0.645262</td>\n",
       "      <td>4</td>\n",
       "    </tr>\n",
       "    <tr>\n",
       "      <th>1</th>\n",
       "      <td>0.102431</td>\n",
       "      <td>-1.514426</td>\n",
       "      <td>-0.756506</td>\n",
       "      <td>-1.094823</td>\n",
       "      <td>-0.797879</td>\n",
       "      <td>-0.073948</td>\n",
       "      <td>-0.107497</td>\n",
       "      <td>0.860155</td>\n",
       "      <td>-0.181617</td>\n",
       "      <td>1.271963</td>\n",
       "      <td>2</td>\n",
       "    </tr>\n",
       "    <tr>\n",
       "      <th>2</th>\n",
       "      <td>0.809931</td>\n",
       "      <td>1.544296</td>\n",
       "      <td>-0.713020</td>\n",
       "      <td>-0.506455</td>\n",
       "      <td>-0.656511</td>\n",
       "      <td>0.835293</td>\n",
       "      <td>0.325136</td>\n",
       "      <td>-0.988246</td>\n",
       "      <td>2.175869</td>\n",
       "      <td>-0.143698</td>\n",
       "      <td>2</td>\n",
       "    </tr>\n",
       "    <tr>\n",
       "      <th>3</th>\n",
       "      <td>-0.120843</td>\n",
       "      <td>0.320266</td>\n",
       "      <td>0.698902</td>\n",
       "      <td>-0.480831</td>\n",
       "      <td>-0.793651</td>\n",
       "      <td>-2.692508</td>\n",
       "      <td>0.593068</td>\n",
       "      <td>0.158248</td>\n",
       "      <td>-0.258116</td>\n",
       "      <td>0.775438</td>\n",
       "      <td>0</td>\n",
       "    </tr>\n",
       "    <tr>\n",
       "      <th>4</th>\n",
       "      <td>-0.803798</td>\n",
       "      <td>-0.821269</td>\n",
       "      <td>-1.044769</td>\n",
       "      <td>-0.647941</td>\n",
       "      <td>1.340156</td>\n",
       "      <td>0.084317</td>\n",
       "      <td>0.139098</td>\n",
       "      <td>0.168494</td>\n",
       "      <td>0.474288</td>\n",
       "      <td>0.108188</td>\n",
       "      <td>1</td>\n",
       "    </tr>\n",
       "  </tbody>\n",
       "</table>\n",
       "</div>"
      ],
      "text/plain": [
       "               0         1         2         3         4         5         6  \\\n",
       "row_id                                                                         \n",
       "0       0.491802  0.719884  1.398681  0.677925 -0.272618  0.583344 -1.115041   \n",
       "1       0.102431 -1.514426 -0.756506 -1.094823 -0.797879 -0.073948 -0.107497   \n",
       "2       0.809931  1.544296 -0.713020 -0.506455 -0.656511  0.835293  0.325136   \n",
       "3      -0.120843  0.320266  0.698902 -0.480831 -0.793651 -2.692508  0.593068   \n",
       "4      -0.803798 -0.821269 -1.044769 -0.647941  1.340156  0.084317  0.139098   \n",
       "\n",
       "               7         8         9  BookingCluster  \n",
       "row_id                                                \n",
       "0       0.663648  1.858719 -0.645262               4  \n",
       "1       0.860155 -0.181617  1.271963               2  \n",
       "2      -0.988246  2.175869 -0.143698               2  \n",
       "3       0.158248 -0.258116  0.775438               0  \n",
       "4       0.168494  0.474288  0.108188               1  "
      ]
     },
     "execution_count": 132,
     "metadata": {},
     "output_type": "execute_result"
    }
   ],
   "source": [
    "data_PCA.head()"
   ]
  },
  {
   "cell_type": "code",
   "execution_count": 133,
   "metadata": {},
   "outputs": [
    {
     "data": {
      "text/plain": [
       "BookingCluster\n",
       "0    110887\n",
       "1    134416\n",
       "2    243225\n",
       "3    124599\n",
       "4    134422\n",
       "5     84531\n",
       "6     57239\n",
       "7      1068\n",
       "dtype: int64"
      ]
     },
     "execution_count": 133,
     "metadata": {},
     "output_type": "execute_result"
    }
   ],
   "source": [
    "data_PCA.groupby(['BookingCluster']).size()"
   ]
  },
  {
   "cell_type": "code",
   "execution_count": 134,
   "metadata": {},
   "outputs": [],
   "source": [
    "data_PCA['PricePerNight'] = PricePerNight"
   ]
  },
  {
   "cell_type": "code",
   "execution_count": 135,
   "metadata": {
    "scrolled": true
   },
   "outputs": [
    {
     "data": {
      "text/plain": [
       "<Figure size 1080x576 with 0 Axes>"
      ]
     },
     "execution_count": 135,
     "metadata": {},
     "output_type": "execute_result"
    },
    {
     "name": "stderr",
     "output_type": "stream",
     "text": [
      "/Users/miketondu/anaconda3/lib/python3.6/site-packages/scipy/stats/stats.py:1713: FutureWarning: Using a non-tuple sequence for multidimensional indexing is deprecated; use `arr[tuple(seq)]` instead of `arr[seq]`. In the future this will be interpreted as an array index, `arr[np.array(seq)]`, which will result either in an error or a different result.\n",
      "  return np.add.reduce(sorted[indexer] * weights, axis=axis) / sumval\n"
     ]
    },
    {
     "data": {
      "text/plain": [
       "<matplotlib.axes._subplots.AxesSubplot at 0x1a1e6fc048>"
      ]
     },
     "execution_count": 135,
     "metadata": {},
     "output_type": "execute_result"
    },
    {
     "data": {
      "text/plain": [
       "Text(0.5,0,'4')"
      ]
     },
     "execution_count": 135,
     "metadata": {},
     "output_type": "execute_result"
    },
    {
     "data": {
      "text/plain": [
       "<Figure size 1080x576 with 0 Axes>"
      ]
     },
     "execution_count": 135,
     "metadata": {},
     "output_type": "execute_result"
    },
    {
     "data": {
      "text/plain": [
       "<matplotlib.axes._subplots.AxesSubplot at 0x1a272c3ef0>"
      ]
     },
     "execution_count": 135,
     "metadata": {},
     "output_type": "execute_result"
    },
    {
     "data": {
      "text/plain": [
       "Text(0.5,0,'2')"
      ]
     },
     "execution_count": 135,
     "metadata": {},
     "output_type": "execute_result"
    },
    {
     "data": {
      "text/plain": [
       "<Figure size 1080x576 with 0 Axes>"
      ]
     },
     "execution_count": 135,
     "metadata": {},
     "output_type": "execute_result"
    },
    {
     "data": {
      "text/plain": [
       "<matplotlib.axes._subplots.AxesSubplot at 0x1a25643ba8>"
      ]
     },
     "execution_count": 135,
     "metadata": {},
     "output_type": "execute_result"
    },
    {
     "data": {
      "text/plain": [
       "Text(0.5,0,'0')"
      ]
     },
     "execution_count": 135,
     "metadata": {},
     "output_type": "execute_result"
    },
    {
     "data": {
      "text/plain": [
       "<Figure size 1080x576 with 0 Axes>"
      ]
     },
     "execution_count": 135,
     "metadata": {},
     "output_type": "execute_result"
    },
    {
     "data": {
      "text/plain": [
       "<matplotlib.axes._subplots.AxesSubplot at 0x1a1df2fb00>"
      ]
     },
     "execution_count": 135,
     "metadata": {},
     "output_type": "execute_result"
    },
    {
     "data": {
      "text/plain": [
       "Text(0.5,0,'1')"
      ]
     },
     "execution_count": 135,
     "metadata": {},
     "output_type": "execute_result"
    },
    {
     "data": {
      "text/plain": [
       "<Figure size 1080x576 with 0 Axes>"
      ]
     },
     "execution_count": 135,
     "metadata": {},
     "output_type": "execute_result"
    },
    {
     "data": {
      "text/plain": [
       "<matplotlib.axes._subplots.AxesSubplot at 0x1a1dfa95c0>"
      ]
     },
     "execution_count": 135,
     "metadata": {},
     "output_type": "execute_result"
    },
    {
     "data": {
      "text/plain": [
       "Text(0.5,0,'7')"
      ]
     },
     "execution_count": 135,
     "metadata": {},
     "output_type": "execute_result"
    },
    {
     "data": {
      "text/plain": [
       "<Figure size 1080x576 with 0 Axes>"
      ]
     },
     "execution_count": 135,
     "metadata": {},
     "output_type": "execute_result"
    },
    {
     "data": {
      "text/plain": [
       "<matplotlib.axes._subplots.AxesSubplot at 0x1a27183240>"
      ]
     },
     "execution_count": 135,
     "metadata": {},
     "output_type": "execute_result"
    },
    {
     "data": {
      "text/plain": [
       "Text(0.5,0,'3')"
      ]
     },
     "execution_count": 135,
     "metadata": {},
     "output_type": "execute_result"
    },
    {
     "data": {
      "text/plain": [
       "<Figure size 1080x576 with 0 Axes>"
      ]
     },
     "execution_count": 135,
     "metadata": {},
     "output_type": "execute_result"
    },
    {
     "data": {
      "text/plain": [
       "<matplotlib.axes._subplots.AxesSubplot at 0x1a1e384940>"
      ]
     },
     "execution_count": 135,
     "metadata": {},
     "output_type": "execute_result"
    },
    {
     "data": {
      "text/plain": [
       "Text(0.5,0,'6')"
      ]
     },
     "execution_count": 135,
     "metadata": {},
     "output_type": "execute_result"
    },
    {
     "data": {
      "text/plain": [
       "<Figure size 1080x576 with 0 Axes>"
      ]
     },
     "execution_count": 135,
     "metadata": {},
     "output_type": "execute_result"
    },
    {
     "data": {
      "text/plain": [
       "<matplotlib.axes._subplots.AxesSubplot at 0x1a1e5cafd0>"
      ]
     },
     "execution_count": 135,
     "metadata": {},
     "output_type": "execute_result"
    },
    {
     "data": {
      "text/plain": [
       "Text(0.5,0,'5')"
      ]
     },
     "execution_count": 135,
     "metadata": {},
     "output_type": "execute_result"
    },
    {
     "data": {
      "image/png": "[encoded data removed]",
      "text/plain": [
       "<Figure size 1080x576 with 1 Axes>"
      ]
     },
     "metadata": {},
     "output_type": "display_data"
    },
    {
     "data": {
      "image/png": "[encoded data removed]",
      "text/plain": [
       "<Figure size 1080x576 with 1 Axes>"
      ]
     },
     "metadata": {},
     "output_type": "display_data"
    },
    {
     "data": {
      "image/png": "[encoded data removed]",
      "text/plain": [
       "<Figure size 1080x576 with 1 Axes>"
      ]
     },
     "metadata": {},
     "output_type": "display_data"
    },
    {
     "data": {
      "image/png": "[encoded data removed]",
      "text/plain": [
       "<Figure size 1080x576 with 1 Axes>"
      ]
     },
     "metadata": {},
     "output_type": "display_data"
    },
    {
     "data": {
      "image/png": "[encoded data removed]",
      "text/plain": [
       "<Figure size 1080x576 with 1 Axes>"
      ]
     },
     "metadata": {},
     "output_type": "display_data"
    },
    {
     "data": {
      "image/png": "[encoded data removed]",
      "text/plain": [
       "<Figure size 1080x576 with 1 Axes>"
      ]
     },
     "metadata": {},
     "output_type": "display_data"
    },
    {
     "data": {
      "image/png": "[encoded data removed]",
      "text/plain": [
       "<Figure size 1080x576 with 1 Axes>"
      ]
     },
     "metadata": {},
     "output_type": "display_data"
    },
    {
     "data": {
      "image/png": "[encoded data removed]",
      "text/plain": [
       "<Figure size 1080x576 with 1 Axes>"
      ]
     },
     "metadata": {},
     "output_type": "display_data"
    }
   ],
   "source": [
    "for i, cls in enumerate(data_PCA.BookingCluster.unique()):\n",
    "    plt.figure(i,figsize=(15,8))\n",
    "    sns.distplot(data_PCA.loc[(data_PCA.BookingCluster == cls),'PricePerNight'])\n",
    "    plt.xlabel(cls, fontsize=12)"
   ]
  },
  {
   "cell_type": "markdown",
   "metadata": {},
   "source": [
    "We can see similar distributions of prices in each. A fair assumption would be that clusters are dense around the centroids representing similar bookings. Outlier prices would be on the tails of the distribution. By running a regression line on the clusters for the prices, we can identify the outliers in each clusters. These would represent price points which do not make much sense as per the cluster centroids. \n",
    "##### (The logic is similar to that of Local Outlier Model, except that we are building statistical rules for an external variable - PricePerNight here)"
   ]
  },
  {
   "cell_type": "markdown",
   "metadata": {},
   "source": [
    "##### Regression Modeling for each Cluster"
   ]
  },
  {
   "cell_type": "code",
   "execution_count": 136,
   "metadata": {},
   "outputs": [],
   "source": [
    "df_cluster = [None] * 8"
   ]
  },
  {
   "cell_type": "code",
   "execution_count": 137,
   "metadata": {},
   "outputs": [],
   "source": [
    "# Create new Data Frames for each of the 8 clusters\n",
    "for i in range(0,8):\n",
    "    df_cluster[i] = data_PCA.loc[data_PCA.BookingCluster == i,:]"
   ]
  },
  {
   "cell_type": "markdown",
   "metadata": {},
   "source": [
    "We will now build regression models on each of the clusters. The outlier selection criteria will be based on \n",
    "1. Regression scores - R2 and RMSE, Kurtosis (high and low defines clusters better ie. easier to interpret outliers)\n",
    "2. Price points and assumption 2(<1% anomalies) "
   ]
  },
  {
   "cell_type": "markdown",
   "metadata": {},
   "source": [
    "###### Cluster 0"
   ]
  },
  {
   "cell_type": "code",
   "execution_count": 138,
   "metadata": {},
   "outputs": [
    {
     "data": {
      "text/html": [
       "<div>\n",
       "<style scoped>\n",
       "    .dataframe tbody tr th:only-of-type {\n",
       "        vertical-align: middle;\n",
       "    }\n",
       "\n",
       "    .dataframe tbody tr th {\n",
       "        vertical-align: top;\n",
       "    }\n",
       "\n",
       "    .dataframe thead th {\n",
       "        text-align: right;\n",
       "    }\n",
       "</style>\n",
       "<table border=\"1\" class=\"dataframe\">\n",
       "  <thead>\n",
       "    <tr style=\"text-align: right;\">\n",
       "      <th></th>\n",
       "      <th>0</th>\n",
       "      <th>1</th>\n",
       "      <th>2</th>\n",
       "      <th>3</th>\n",
       "      <th>4</th>\n",
       "      <th>5</th>\n",
       "      <th>6</th>\n",
       "      <th>7</th>\n",
       "      <th>8</th>\n",
       "      <th>9</th>\n",
       "      <th>BookingCluster</th>\n",
       "      <th>PricePerNight</th>\n",
       "    </tr>\n",
       "    <tr>\n",
       "      <th>row_id</th>\n",
       "      <th></th>\n",
       "      <th></th>\n",
       "      <th></th>\n",
       "      <th></th>\n",
       "      <th></th>\n",
       "      <th></th>\n",
       "      <th></th>\n",
       "      <th></th>\n",
       "      <th></th>\n",
       "      <th></th>\n",
       "      <th></th>\n",
       "      <th></th>\n",
       "    </tr>\n",
       "  </thead>\n",
       "  <tbody>\n",
       "    <tr>\n",
       "      <th>3</th>\n",
       "      <td>-0.120843</td>\n",
       "      <td>0.320266</td>\n",
       "      <td>0.698902</td>\n",
       "      <td>-0.480831</td>\n",
       "      <td>-0.793651</td>\n",
       "      <td>-2.692508</td>\n",
       "      <td>0.593068</td>\n",
       "      <td>0.158248</td>\n",
       "      <td>-0.258116</td>\n",
       "      <td>0.775438</td>\n",
       "      <td>0</td>\n",
       "      <td>-0.311005</td>\n",
       "    </tr>\n",
       "    <tr>\n",
       "      <th>13</th>\n",
       "      <td>-0.541282</td>\n",
       "      <td>1.912193</td>\n",
       "      <td>0.312362</td>\n",
       "      <td>-1.502874</td>\n",
       "      <td>1.137739</td>\n",
       "      <td>-1.259864</td>\n",
       "      <td>-0.291787</td>\n",
       "      <td>0.215023</td>\n",
       "      <td>-0.748221</td>\n",
       "      <td>0.764548</td>\n",
       "      <td>0</td>\n",
       "      <td>0.902829</td>\n",
       "    </tr>\n",
       "    <tr>\n",
       "      <th>16</th>\n",
       "      <td>0.154908</td>\n",
       "      <td>0.712971</td>\n",
       "      <td>0.918635</td>\n",
       "      <td>-0.172873</td>\n",
       "      <td>-0.662135</td>\n",
       "      <td>-2.514066</td>\n",
       "      <td>0.396798</td>\n",
       "      <td>0.223817</td>\n",
       "      <td>-0.566545</td>\n",
       "      <td>-1.344434</td>\n",
       "      <td>0</td>\n",
       "      <td>-0.595665</td>\n",
       "    </tr>\n",
       "    <tr>\n",
       "      <th>34</th>\n",
       "      <td>-0.386500</td>\n",
       "      <td>1.244871</td>\n",
       "      <td>0.604743</td>\n",
       "      <td>-1.467527</td>\n",
       "      <td>-1.594774</td>\n",
       "      <td>-1.676427</td>\n",
       "      <td>0.252630</td>\n",
       "      <td>0.000521</td>\n",
       "      <td>0.462229</td>\n",
       "      <td>1.722879</td>\n",
       "      <td>0</td>\n",
       "      <td>-0.683391</td>\n",
       "    </tr>\n",
       "    <tr>\n",
       "      <th>39</th>\n",
       "      <td>-0.731307</td>\n",
       "      <td>2.540821</td>\n",
       "      <td>0.394972</td>\n",
       "      <td>-0.693751</td>\n",
       "      <td>0.968987</td>\n",
       "      <td>-1.310424</td>\n",
       "      <td>0.347077</td>\n",
       "      <td>-0.121198</td>\n",
       "      <td>0.363456</td>\n",
       "      <td>-0.146038</td>\n",
       "      <td>0</td>\n",
       "      <td>-0.255505</td>\n",
       "    </tr>\n",
       "  </tbody>\n",
       "</table>\n",
       "</div>"
      ],
      "text/plain": [
       "               0         1         2         3         4         5         6  \\\n",
       "row_id                                                                         \n",
       "3      -0.120843  0.320266  0.698902 -0.480831 -0.793651 -2.692508  0.593068   \n",
       "13     -0.541282  1.912193  0.312362 -1.502874  1.137739 -1.259864 -0.291787   \n",
       "16      0.154908  0.712971  0.918635 -0.172873 -0.662135 -2.514066  0.396798   \n",
       "34     -0.386500  1.244871  0.604743 -1.467527 -1.594774 -1.676427  0.252630   \n",
       "39     -0.731307  2.540821  0.394972 -0.693751  0.968987 -1.310424  0.347077   \n",
       "\n",
       "               7         8         9  BookingCluster  PricePerNight  \n",
       "row_id                                                               \n",
       "3       0.158248 -0.258116  0.775438               0      -0.311005  \n",
       "13      0.215023 -0.748221  0.764548               0       0.902829  \n",
       "16      0.223817 -0.566545 -1.344434               0      -0.595665  \n",
       "34      0.000521  0.462229  1.722879               0      -0.683391  \n",
       "39     -0.121198  0.363456 -0.146038               0      -0.255505  "
      ]
     },
     "execution_count": 138,
     "metadata": {},
     "output_type": "execute_result"
    }
   ],
   "source": [
    "df_cluster[0].head()"
   ]
  },
  {
   "cell_type": "code",
   "execution_count": 139,
   "metadata": {},
   "outputs": [],
   "source": [
    "train = df_cluster[0].drop(['PricePerNight','BookingCluster'], axis = 1)\n",
    "labels = df_cluster[0].PricePerNight"
   ]
  },
  {
   "cell_type": "code",
   "execution_count": 140,
   "metadata": {},
   "outputs": [
    {
     "data": {
      "text/plain": [
       "LinearRegression(copy_X=True, fit_intercept=True, n_jobs=None, normalize=False)"
      ]
     },
     "execution_count": 140,
     "metadata": {},
     "output_type": "execute_result"
    }
   ],
   "source": [
    "regMod = linear_model.LinearRegression()\n",
    "regMod.fit(train, labels)\n",
    "pricePred = regMod.predict(train)"
   ]
  },
  {
   "cell_type": "code",
   "execution_count": 141,
   "metadata": {},
   "outputs": [
    {
     "data": {
      "text/plain": [
       "0.23105814675563807"
      ]
     },
     "execution_count": 141,
     "metadata": {},
     "output_type": "execute_result"
    }
   ],
   "source": [
    "metrics.r2_score(labels,pricePred)"
   ]
  },
  {
   "cell_type": "code",
   "execution_count": 142,
   "metadata": {},
   "outputs": [
    {
     "data": {
      "text/plain": [
       "1.125099970789773"
      ]
     },
     "execution_count": 142,
     "metadata": {},
     "output_type": "execute_result"
    }
   ],
   "source": [
    "metrics.mean_squared_error(labels,pricePred) ** (0.5)"
   ]
  },
  {
   "cell_type": "code",
   "execution_count": 143,
   "metadata": {},
   "outputs": [
    {
     "data": {
      "text/plain": [
       "count    1.108870e+05\n",
       "mean     4.357605e-15\n",
       "std      1.125105e+00\n",
       "min     -4.147135e+00\n",
       "25%     -5.697534e-01\n",
       "50%     -1.996243e-01\n",
       "75%      2.240079e-01\n",
       "max      1.956679e+01\n",
       "Name: PricePerNight, dtype: float64"
      ]
     },
     "execution_count": 143,
     "metadata": {},
     "output_type": "execute_result"
    }
   ],
   "source": [
    "residuals = labels - pricePred\n",
    "residuals.describe()"
   ]
  },
  {
   "cell_type": "code",
   "execution_count": 144,
   "metadata": {},
   "outputs": [
    {
     "data": {
      "text/plain": [
       "31.588491268885033"
      ]
     },
     "execution_count": 144,
     "metadata": {},
     "output_type": "execute_result"
    }
   ],
   "source": [
    "residuals.kurtosis()"
   ]
  },
  {
   "cell_type": "code",
   "execution_count": 145,
   "metadata": {},
   "outputs": [
    {
     "data": {
      "text/plain": [
       "<Figure size 720x432 with 0 Axes>"
      ]
     },
     "execution_count": 145,
     "metadata": {},
     "output_type": "execute_result"
    },
    {
     "data": {
      "text/plain": [
       "<matplotlib.collections.PathCollection at 0x1a2725b160>"
      ]
     },
     "execution_count": 145,
     "metadata": {},
     "output_type": "execute_result"
    },
    {
     "data": {
      "text/plain": [
       "Text(0,0.5,'Residuals')"
      ]
     },
     "execution_count": 145,
     "metadata": {},
     "output_type": "execute_result"
    },
    {
     "data": {
      "image/png": "[encoded data removed]",
      "text/plain": [
       "<Figure size 720x432 with 1 Axes>"
      ]
     },
     "metadata": {},
     "output_type": "display_data"
    }
   ],
   "source": [
    "plt.figure(figsize=(10,6))\n",
    "plt.scatter(residuals.index,residuals)\n",
    "plt.ylabel('Residuals')"
   ]
  },
  {
   "cell_type": "code",
   "execution_count": 146,
   "metadata": {},
   "outputs": [
    {
     "data": {
      "text/plain": [
       "<Figure size 720x432 with 0 Axes>"
      ]
     },
     "execution_count": 146,
     "metadata": {},
     "output_type": "execute_result"
    },
    {
     "name": "stderr",
     "output_type": "stream",
     "text": [
      "/Users/miketondu/anaconda3/lib/python3.6/site-packages/scipy/stats/stats.py:1713: FutureWarning: Using a non-tuple sequence for multidimensional indexing is deprecated; use `arr[tuple(seq)]` instead of `arr[seq]`. In the future this will be interpreted as an array index, `arr[np.array(seq)]`, which will result either in an error or a different result.\n",
      "  return np.add.reduce(sorted[indexer] * weights, axis=axis) / sumval\n"
     ]
    },
    {
     "data": {
      "text/plain": [
       "<matplotlib.axes._subplots.AxesSubplot at 0x1a28556128>"
      ]
     },
     "execution_count": 146,
     "metadata": {},
     "output_type": "execute_result"
    },
    {
     "data": {
      "text/plain": [
       "Text(0.5,0,'Residuals')"
      ]
     },
     "execution_count": 146,
     "metadata": {},
     "output_type": "execute_result"
    },
    {
     "data": {
      "image/png": "[encoded data removed]",
      "text/plain": [
       "<Figure size 720x432 with 1 Axes>"
      ]
     },
     "metadata": {},
     "output_type": "display_data"
    }
   ],
   "source": [
    "plt.figure(figsize=(10,6))\n",
    "sns.distplot(residuals)\n",
    "plt.xlabel('Residuals')"
   ]
  },
  {
   "cell_type": "code",
   "execution_count": 147,
   "metadata": {},
   "outputs": [
    {
     "name": "stdout",
     "output_type": "stream",
     "text": [
      "1212\n",
      "54\n"
     ]
    }
   ],
   "source": [
    "rightThreshold = 4.5\n",
    "leftThreshold = -2.3\n",
    "print(residuals[residuals>rightThreshold].size)\n",
    "print(residuals[residuals<leftThreshold].size)"
   ]
  },
  {
   "cell_type": "code",
   "execution_count": 148,
   "metadata": {},
   "outputs": [],
   "source": [
    "cluster_0_anomalies = pd.DataFrame(residuals[(residuals>rightThreshold) | (residuals < leftThreshold)])\n",
    "cluster_0_anomalies.columns=['Residuals']"
   ]
  },
  {
   "cell_type": "code",
   "execution_count": 149,
   "metadata": {},
   "outputs": [
    {
     "name": "stdout",
     "output_type": "stream",
     "text": [
      "(1266, 1)\n"
     ]
    },
    {
     "data": {
      "text/html": [
       "<div>\n",
       "<style scoped>\n",
       "    .dataframe tbody tr th:only-of-type {\n",
       "        vertical-align: middle;\n",
       "    }\n",
       "\n",
       "    .dataframe tbody tr th {\n",
       "        vertical-align: top;\n",
       "    }\n",
       "\n",
       "    .dataframe thead th {\n",
       "        text-align: right;\n",
       "    }\n",
       "</style>\n",
       "<table border=\"1\" class=\"dataframe\">\n",
       "  <thead>\n",
       "    <tr style=\"text-align: right;\">\n",
       "      <th></th>\n",
       "      <th>Residuals</th>\n",
       "    </tr>\n",
       "    <tr>\n",
       "      <th>row_id</th>\n",
       "      <th></th>\n",
       "    </tr>\n",
       "  </thead>\n",
       "  <tbody>\n",
       "    <tr>\n",
       "      <th>982</th>\n",
       "      <td>-2.323727</td>\n",
       "    </tr>\n",
       "    <tr>\n",
       "      <th>1584</th>\n",
       "      <td>5.065809</td>\n",
       "    </tr>\n",
       "    <tr>\n",
       "      <th>1878</th>\n",
       "      <td>4.698069</td>\n",
       "    </tr>\n",
       "    <tr>\n",
       "      <th>3046</th>\n",
       "      <td>4.520205</td>\n",
       "    </tr>\n",
       "    <tr>\n",
       "      <th>3304</th>\n",
       "      <td>5.101379</td>\n",
       "    </tr>\n",
       "  </tbody>\n",
       "</table>\n",
       "</div>"
      ],
      "text/plain": [
       "        Residuals\n",
       "row_id           \n",
       "982     -2.323727\n",
       "1584     5.065809\n",
       "1878     4.698069\n",
       "3046     4.520205\n",
       "3304     5.101379"
      ]
     },
     "execution_count": 149,
     "metadata": {},
     "output_type": "execute_result"
    }
   ],
   "source": [
    "print(cluster_0_anomalies.shape)\n",
    "cluster_0_anomalies.head()"
   ]
  },
  {
   "cell_type": "markdown",
   "metadata": {},
   "source": [
    "###### Cluster 1"
   ]
  },
  {
   "cell_type": "code",
   "execution_count": 150,
   "metadata": {},
   "outputs": [
    {
     "data": {
      "text/html": [
       "<div>\n",
       "<style scoped>\n",
       "    .dataframe tbody tr th:only-of-type {\n",
       "        vertical-align: middle;\n",
       "    }\n",
       "\n",
       "    .dataframe tbody tr th {\n",
       "        vertical-align: top;\n",
       "    }\n",
       "\n",
       "    .dataframe thead th {\n",
       "        text-align: right;\n",
       "    }\n",
       "</style>\n",
       "<table border=\"1\" class=\"dataframe\">\n",
       "  <thead>\n",
       "    <tr style=\"text-align: right;\">\n",
       "      <th></th>\n",
       "      <th>0</th>\n",
       "      <th>1</th>\n",
       "      <th>2</th>\n",
       "      <th>3</th>\n",
       "      <th>4</th>\n",
       "      <th>5</th>\n",
       "      <th>6</th>\n",
       "      <th>7</th>\n",
       "      <th>8</th>\n",
       "      <th>9</th>\n",
       "      <th>BookingCluster</th>\n",
       "      <th>PricePerNight</th>\n",
       "    </tr>\n",
       "    <tr>\n",
       "      <th>row_id</th>\n",
       "      <th></th>\n",
       "      <th></th>\n",
       "      <th></th>\n",
       "      <th></th>\n",
       "      <th></th>\n",
       "      <th></th>\n",
       "      <th></th>\n",
       "      <th></th>\n",
       "      <th></th>\n",
       "      <th></th>\n",
       "      <th></th>\n",
       "      <th></th>\n",
       "    </tr>\n",
       "  </thead>\n",
       "  <tbody>\n",
       "    <tr>\n",
       "      <th>4</th>\n",
       "      <td>-0.803798</td>\n",
       "      <td>-0.821269</td>\n",
       "      <td>-1.044769</td>\n",
       "      <td>-0.647941</td>\n",
       "      <td>1.340156</td>\n",
       "      <td>0.084317</td>\n",
       "      <td>0.139098</td>\n",
       "      <td>0.168494</td>\n",
       "      <td>0.474288</td>\n",
       "      <td>0.108188</td>\n",
       "      <td>1</td>\n",
       "      <td>-0.475714</td>\n",
       "    </tr>\n",
       "    <tr>\n",
       "      <th>14</th>\n",
       "      <td>-0.060867</td>\n",
       "      <td>1.360653</td>\n",
       "      <td>-1.139386</td>\n",
       "      <td>1.823055</td>\n",
       "      <td>1.695543</td>\n",
       "      <td>-0.307617</td>\n",
       "      <td>-0.236322</td>\n",
       "      <td>-0.400568</td>\n",
       "      <td>-1.172504</td>\n",
       "      <td>-1.431208</td>\n",
       "      <td>1</td>\n",
       "      <td>0.752442</td>\n",
       "    </tr>\n",
       "    <tr>\n",
       "      <th>23</th>\n",
       "      <td>-1.117408</td>\n",
       "      <td>-0.137302</td>\n",
       "      <td>-1.146567</td>\n",
       "      <td>-0.046604</td>\n",
       "      <td>0.784860</td>\n",
       "      <td>0.109934</td>\n",
       "      <td>0.139802</td>\n",
       "      <td>-0.145213</td>\n",
       "      <td>0.561522</td>\n",
       "      <td>-0.171545</td>\n",
       "      <td>1</td>\n",
       "      <td>-0.379037</td>\n",
       "    </tr>\n",
       "    <tr>\n",
       "      <th>28</th>\n",
       "      <td>-0.991369</td>\n",
       "      <td>-0.233249</td>\n",
       "      <td>-1.115217</td>\n",
       "      <td>0.786555</td>\n",
       "      <td>1.175352</td>\n",
       "      <td>-0.378708</td>\n",
       "      <td>0.486478</td>\n",
       "      <td>-0.656682</td>\n",
       "      <td>0.751627</td>\n",
       "      <td>-0.694888</td>\n",
       "      <td>1</td>\n",
       "      <td>-0.214328</td>\n",
       "    </tr>\n",
       "    <tr>\n",
       "      <th>29</th>\n",
       "      <td>-1.099120</td>\n",
       "      <td>-0.058429</td>\n",
       "      <td>-1.089809</td>\n",
       "      <td>0.372944</td>\n",
       "      <td>0.782146</td>\n",
       "      <td>-0.210872</td>\n",
       "      <td>0.088490</td>\n",
       "      <td>-0.042475</td>\n",
       "      <td>0.142940</td>\n",
       "      <td>-1.402786</td>\n",
       "      <td>1</td>\n",
       "      <td>-0.625206</td>\n",
       "    </tr>\n",
       "  </tbody>\n",
       "</table>\n",
       "</div>"
      ],
      "text/plain": [
       "               0         1         2         3         4         5         6  \\\n",
       "row_id                                                                         \n",
       "4      -0.803798 -0.821269 -1.044769 -0.647941  1.340156  0.084317  0.139098   \n",
       "14     -0.060867  1.360653 -1.139386  1.823055  1.695543 -0.307617 -0.236322   \n",
       "23     -1.117408 -0.137302 -1.146567 -0.046604  0.784860  0.109934  0.139802   \n",
       "28     -0.991369 -0.233249 -1.115217  0.786555  1.175352 -0.378708  0.486478   \n",
       "29     -1.099120 -0.058429 -1.089809  0.372944  0.782146 -0.210872  0.088490   \n",
       "\n",
       "               7         8         9  BookingCluster  PricePerNight  \n",
       "row_id                                                               \n",
       "4       0.168494  0.474288  0.108188               1      -0.475714  \n",
       "14     -0.400568 -1.172504 -1.431208               1       0.752442  \n",
       "23     -0.145213  0.561522 -0.171545               1      -0.379037  \n",
       "28     -0.656682  0.751627 -0.694888               1      -0.214328  \n",
       "29     -0.042475  0.142940 -1.402786               1      -0.625206  "
      ]
     },
     "execution_count": 150,
     "metadata": {},
     "output_type": "execute_result"
    }
   ],
   "source": [
    "df_cluster[1].head()"
   ]
  },
  {
   "cell_type": "code",
   "execution_count": 151,
   "metadata": {},
   "outputs": [],
   "source": [
    "train = df_cluster[1].drop(['PricePerNight','BookingCluster'], axis = 1)\n",
    "labels = df_cluster[1].PricePerNight"
   ]
  },
  {
   "cell_type": "code",
   "execution_count": 152,
   "metadata": {},
   "outputs": [
    {
     "data": {
      "text/plain": [
       "LinearRegression(copy_X=True, fit_intercept=True, n_jobs=None, normalize=False)"
      ]
     },
     "execution_count": 152,
     "metadata": {},
     "output_type": "execute_result"
    }
   ],
   "source": [
    "regMod = linear_model.LinearRegression()\n",
    "regMod.fit(train, labels)\n",
    "pricePred = regMod.predict(train)"
   ]
  },
  {
   "cell_type": "code",
   "execution_count": 153,
   "metadata": {},
   "outputs": [
    {
     "data": {
      "text/plain": [
       "0.5635642032330768"
      ]
     },
     "execution_count": 153,
     "metadata": {},
     "output_type": "execute_result"
    }
   ],
   "source": [
    "metrics.r2_score(labels,pricePred)"
   ]
  },
  {
   "cell_type": "code",
   "execution_count": 154,
   "metadata": {},
   "outputs": [
    {
     "data": {
      "text/plain": [
       "0.5111609667019964"
      ]
     },
     "execution_count": 154,
     "metadata": {},
     "output_type": "execute_result"
    }
   ],
   "source": [
    "metrics.mean_squared_error(labels,pricePred) ** (0.5)"
   ]
  },
  {
   "cell_type": "code",
   "execution_count": 155,
   "metadata": {},
   "outputs": [
    {
     "data": {
      "text/plain": [
       "count    134416.000000\n",
       "mean         -0.000483\n",
       "std           0.511163\n",
       "min          -3.429286\n",
       "25%          -0.191779\n",
       "50%          -0.046190\n",
       "75%           0.089972\n",
       "max          17.348618\n",
       "Name: PricePerNight, dtype: float64"
      ]
     },
     "execution_count": 155,
     "metadata": {},
     "output_type": "execute_result"
    }
   ],
   "source": [
    "residuals = labels - pricePred\n",
    "residuals.describe()"
   ]
  },
  {
   "cell_type": "code",
   "execution_count": 156,
   "metadata": {},
   "outputs": [
    {
     "data": {
      "text/plain": [
       "90.4181297154641"
      ]
     },
     "execution_count": 156,
     "metadata": {},
     "output_type": "execute_result"
    }
   ],
   "source": [
    "residuals.kurtosis()"
   ]
  },
  {
   "cell_type": "code",
   "execution_count": 157,
   "metadata": {},
   "outputs": [
    {
     "data": {
      "text/plain": [
       "<Figure size 720x432 with 0 Axes>"
      ]
     },
     "execution_count": 157,
     "metadata": {},
     "output_type": "execute_result"
    },
    {
     "data": {
      "text/plain": [
       "<matplotlib.collections.PathCollection at 0x1a27d4b470>"
      ]
     },
     "execution_count": 157,
     "metadata": {},
     "output_type": "execute_result"
    },
    {
     "data": {
      "text/plain": [
       "Text(0,0.5,'Residuals')"
      ]
     },
     "execution_count": 157,
     "metadata": {},
     "output_type": "execute_result"
    },
    {
     "data": {
      "image/png": "[encoded data removed]",
      "text/plain": [
       "<Figure size 720x432 with 1 Axes>"
      ]
     },
     "metadata": {},
     "output_type": "display_data"
    }
   ],
   "source": [
    "plt.figure(figsize=(10,6))\n",
    "plt.scatter(residuals.index,residuals)\n",
    "plt.ylabel('Residuals')"
   ]
  },
  {
   "cell_type": "code",
   "execution_count": 158,
   "metadata": {},
   "outputs": [
    {
     "data": {
      "text/plain": [
       "<Figure size 720x432 with 0 Axes>"
      ]
     },
     "execution_count": 158,
     "metadata": {},
     "output_type": "execute_result"
    },
    {
     "name": "stderr",
     "output_type": "stream",
     "text": [
      "/Users/miketondu/anaconda3/lib/python3.6/site-packages/scipy/stats/stats.py:1713: FutureWarning: Using a non-tuple sequence for multidimensional indexing is deprecated; use `arr[tuple(seq)]` instead of `arr[seq]`. In the future this will be interpreted as an array index, `arr[np.array(seq)]`, which will result either in an error or a different result.\n",
      "  return np.add.reduce(sorted[indexer] * weights, axis=axis) / sumval\n"
     ]
    },
    {
     "data": {
      "text/plain": [
       "<matplotlib.axes._subplots.AxesSubplot at 0x1a271a10b8>"
      ]
     },
     "execution_count": 158,
     "metadata": {},
     "output_type": "execute_result"
    },
    {
     "data": {
      "text/plain": [
       "Text(0.5,0,'Residuals')"
      ]
     },
     "execution_count": 158,
     "metadata": {},
     "output_type": "execute_result"
    },
    {
     "data": {
      "image/png": "[encoded data removed]",
      "text/plain": [
       "<Figure size 720x432 with 1 Axes>"
      ]
     },
     "metadata": {},
     "output_type": "display_data"
    }
   ],
   "source": [
    "plt.figure(figsize=(10,6))\n",
    "sns.distplot(residuals)\n",
    "plt.xlabel('Residuals')"
   ]
  },
  {
   "cell_type": "code",
   "execution_count": 159,
   "metadata": {},
   "outputs": [
    {
     "name": "stdout",
     "output_type": "stream",
     "text": [
      "4\n",
      "4\n"
     ]
    }
   ],
   "source": [
    "rightThreshold = 13\n",
    "leftThreshold = -3\n",
    "print(residuals[residuals>rightThreshold].size)\n",
    "print(residuals[residuals<leftThreshold].size)"
   ]
  },
  {
   "cell_type": "code",
   "execution_count": 160,
   "metadata": {},
   "outputs": [],
   "source": [
    "cluster_1_anomalies = pd.DataFrame(residuals[(residuals>rightThreshold) | (residuals < leftThreshold)])\n",
    "cluster_1_anomalies.columns=['Residuals']"
   ]
  },
  {
   "cell_type": "code",
   "execution_count": 161,
   "metadata": {},
   "outputs": [
    {
     "name": "stdout",
     "output_type": "stream",
     "text": [
      "(8, 1)\n"
     ]
    },
    {
     "data": {
      "text/html": [
       "<div>\n",
       "<style scoped>\n",
       "    .dataframe tbody tr th:only-of-type {\n",
       "        vertical-align: middle;\n",
       "    }\n",
       "\n",
       "    .dataframe tbody tr th {\n",
       "        vertical-align: top;\n",
       "    }\n",
       "\n",
       "    .dataframe thead th {\n",
       "        text-align: right;\n",
       "    }\n",
       "</style>\n",
       "<table border=\"1\" class=\"dataframe\">\n",
       "  <thead>\n",
       "    <tr style=\"text-align: right;\">\n",
       "      <th></th>\n",
       "      <th>Residuals</th>\n",
       "    </tr>\n",
       "    <tr>\n",
       "      <th>row_id</th>\n",
       "      <th></th>\n",
       "    </tr>\n",
       "  </thead>\n",
       "  <tbody>\n",
       "    <tr>\n",
       "      <th>38270</th>\n",
       "      <td>15.328941</td>\n",
       "    </tr>\n",
       "    <tr>\n",
       "      <th>77284</th>\n",
       "      <td>-3.028881</td>\n",
       "    </tr>\n",
       "    <tr>\n",
       "      <th>176664</th>\n",
       "      <td>-3.084004</td>\n",
       "    </tr>\n",
       "    <tr>\n",
       "      <th>235107</th>\n",
       "      <td>-3.383481</td>\n",
       "    </tr>\n",
       "    <tr>\n",
       "      <th>443092</th>\n",
       "      <td>13.754016</td>\n",
       "    </tr>\n",
       "  </tbody>\n",
       "</table>\n",
       "</div>"
      ],
      "text/plain": [
       "        Residuals\n",
       "row_id           \n",
       "38270   15.328941\n",
       "77284   -3.028881\n",
       "176664  -3.084004\n",
       "235107  -3.383481\n",
       "443092  13.754016"
      ]
     },
     "execution_count": 161,
     "metadata": {},
     "output_type": "execute_result"
    }
   ],
   "source": [
    "print(cluster_1_anomalies.shape)\n",
    "cluster_1_anomalies.head()"
   ]
  },
  {
   "cell_type": "markdown",
   "metadata": {},
   "source": [
    "###### Cluster 2"
   ]
  },
  {
   "cell_type": "code",
   "execution_count": 162,
   "metadata": {},
   "outputs": [
    {
     "data": {
      "text/html": [
       "<div>\n",
       "<style scoped>\n",
       "    .dataframe tbody tr th:only-of-type {\n",
       "        vertical-align: middle;\n",
       "    }\n",
       "\n",
       "    .dataframe tbody tr th {\n",
       "        vertical-align: top;\n",
       "    }\n",
       "\n",
       "    .dataframe thead th {\n",
       "        text-align: right;\n",
       "    }\n",
       "</style>\n",
       "<table border=\"1\" class=\"dataframe\">\n",
       "  <thead>\n",
       "    <tr style=\"text-align: right;\">\n",
       "      <th></th>\n",
       "      <th>0</th>\n",
       "      <th>1</th>\n",
       "      <th>2</th>\n",
       "      <th>3</th>\n",
       "      <th>4</th>\n",
       "      <th>5</th>\n",
       "      <th>6</th>\n",
       "      <th>7</th>\n",
       "      <th>8</th>\n",
       "      <th>9</th>\n",
       "      <th>BookingCluster</th>\n",
       "      <th>PricePerNight</th>\n",
       "    </tr>\n",
       "    <tr>\n",
       "      <th>row_id</th>\n",
       "      <th></th>\n",
       "      <th></th>\n",
       "      <th></th>\n",
       "      <th></th>\n",
       "      <th></th>\n",
       "      <th></th>\n",
       "      <th></th>\n",
       "      <th></th>\n",
       "      <th></th>\n",
       "      <th></th>\n",
       "      <th></th>\n",
       "      <th></th>\n",
       "    </tr>\n",
       "  </thead>\n",
       "  <tbody>\n",
       "    <tr>\n",
       "      <th>1</th>\n",
       "      <td>0.102431</td>\n",
       "      <td>-1.514426</td>\n",
       "      <td>-0.756506</td>\n",
       "      <td>-1.094823</td>\n",
       "      <td>-0.797879</td>\n",
       "      <td>-0.073948</td>\n",
       "      <td>-0.107497</td>\n",
       "      <td>0.860155</td>\n",
       "      <td>-0.181617</td>\n",
       "      <td>1.271963</td>\n",
       "      <td>2</td>\n",
       "      <td>-0.417529</td>\n",
       "    </tr>\n",
       "    <tr>\n",
       "      <th>2</th>\n",
       "      <td>0.809931</td>\n",
       "      <td>1.544296</td>\n",
       "      <td>-0.713020</td>\n",
       "      <td>-0.506455</td>\n",
       "      <td>-0.656511</td>\n",
       "      <td>0.835293</td>\n",
       "      <td>0.325136</td>\n",
       "      <td>-0.988246</td>\n",
       "      <td>2.175869</td>\n",
       "      <td>-0.143698</td>\n",
       "      <td>2</td>\n",
       "      <td>1.529439</td>\n",
       "    </tr>\n",
       "    <tr>\n",
       "      <th>6</th>\n",
       "      <td>-0.770826</td>\n",
       "      <td>-1.248106</td>\n",
       "      <td>-0.787024</td>\n",
       "      <td>0.661506</td>\n",
       "      <td>-1.601537</td>\n",
       "      <td>-0.835241</td>\n",
       "      <td>0.459480</td>\n",
       "      <td>-0.118245</td>\n",
       "      <td>0.544902</td>\n",
       "      <td>-0.237472</td>\n",
       "      <td>2</td>\n",
       "      <td>-0.963575</td>\n",
       "    </tr>\n",
       "    <tr>\n",
       "      <th>8</th>\n",
       "      <td>0.658304</td>\n",
       "      <td>-0.552942</td>\n",
       "      <td>-0.881549</td>\n",
       "      <td>0.168737</td>\n",
       "      <td>-0.386329</td>\n",
       "      <td>0.052303</td>\n",
       "      <td>-0.304722</td>\n",
       "      <td>0.195202</td>\n",
       "      <td>-0.942115</td>\n",
       "      <td>1.196515</td>\n",
       "      <td>2</td>\n",
       "      <td>-0.280570</td>\n",
       "    </tr>\n",
       "    <tr>\n",
       "      <th>10</th>\n",
       "      <td>-0.603094</td>\n",
       "      <td>-0.817615</td>\n",
       "      <td>-0.803325</td>\n",
       "      <td>-0.192828</td>\n",
       "      <td>-1.665584</td>\n",
       "      <td>-0.234068</td>\n",
       "      <td>0.280455</td>\n",
       "      <td>0.144392</td>\n",
       "      <td>0.804993</td>\n",
       "      <td>0.471399</td>\n",
       "      <td>2</td>\n",
       "      <td>-0.638633</td>\n",
       "    </tr>\n",
       "  </tbody>\n",
       "</table>\n",
       "</div>"
      ],
      "text/plain": [
       "               0         1         2         3         4         5         6  \\\n",
       "row_id                                                                         \n",
       "1       0.102431 -1.514426 -0.756506 -1.094823 -0.797879 -0.073948 -0.107497   \n",
       "2       0.809931  1.544296 -0.713020 -0.506455 -0.656511  0.835293  0.325136   \n",
       "6      -0.770826 -1.248106 -0.787024  0.661506 -1.601537 -0.835241  0.459480   \n",
       "8       0.658304 -0.552942 -0.881549  0.168737 -0.386329  0.052303 -0.304722   \n",
       "10     -0.603094 -0.817615 -0.803325 -0.192828 -1.665584 -0.234068  0.280455   \n",
       "\n",
       "               7         8         9  BookingCluster  PricePerNight  \n",
       "row_id                                                               \n",
       "1       0.860155 -0.181617  1.271963               2      -0.417529  \n",
       "2      -0.988246  2.175869 -0.143698               2       1.529439  \n",
       "6      -0.118245  0.544902 -0.237472               2      -0.963575  \n",
       "8       0.195202 -0.942115  1.196515               2      -0.280570  \n",
       "10      0.144392  0.804993  0.471399               2      -0.638633  "
      ]
     },
     "execution_count": 162,
     "metadata": {},
     "output_type": "execute_result"
    }
   ],
   "source": [
    "df_cluster[2].head()"
   ]
  },
  {
   "cell_type": "code",
   "execution_count": 163,
   "metadata": {},
   "outputs": [],
   "source": [
    "train = df_cluster[2].drop(['PricePerNight','BookingCluster'], axis = 1)\n",
    "labels = df_cluster[2].PricePerNight"
   ]
  },
  {
   "cell_type": "code",
   "execution_count": 164,
   "metadata": {},
   "outputs": [
    {
     "data": {
      "text/plain": [
       "LinearRegression(copy_X=True, fit_intercept=True, n_jobs=None, normalize=False)"
      ]
     },
     "execution_count": 164,
     "metadata": {},
     "output_type": "execute_result"
    }
   ],
   "source": [
    "regMod = linear_model.LinearRegression()\n",
    "regMod.fit(train, labels)\n",
    "pricePred = regMod.predict(train)"
   ]
  },
  {
   "cell_type": "code",
   "execution_count": 165,
   "metadata": {},
   "outputs": [
    {
     "data": {
      "text/plain": [
       "0.5804481563034873"
      ]
     },
     "execution_count": 165,
     "metadata": {},
     "output_type": "execute_result"
    }
   ],
   "source": [
    "metrics.r2_score(labels,pricePred)"
   ]
  },
  {
   "cell_type": "code",
   "execution_count": 166,
   "metadata": {},
   "outputs": [
    {
     "data": {
      "text/plain": [
       "0.5753489319622653"
      ]
     },
     "execution_count": 166,
     "metadata": {},
     "output_type": "execute_result"
    }
   ],
   "source": [
    "metrics.mean_squared_error(labels,pricePred) ** (0.5)"
   ]
  },
  {
   "cell_type": "code",
   "execution_count": 167,
   "metadata": {},
   "outputs": [
    {
     "data": {
      "text/plain": [
       "count    2.432250e+05\n",
       "mean    -4.363442e-15\n",
       "std      5.753501e-01\n",
       "min     -5.015994e+00\n",
       "25%     -2.275762e-01\n",
       "50%     -5.803753e-02\n",
       "75%      1.020997e-01\n",
       "max      1.406739e+01\n",
       "Name: PricePerNight, dtype: float64"
      ]
     },
     "execution_count": 167,
     "metadata": {},
     "output_type": "execute_result"
    }
   ],
   "source": [
    "residuals = labels - pricePred\n",
    "residuals.describe()"
   ]
  },
  {
   "cell_type": "code",
   "execution_count": 168,
   "metadata": {},
   "outputs": [
    {
     "data": {
      "text/plain": [
       "55.48110296484904"
      ]
     },
     "execution_count": 168,
     "metadata": {},
     "output_type": "execute_result"
    }
   ],
   "source": [
    "residuals.kurtosis()"
   ]
  },
  {
   "cell_type": "code",
   "execution_count": 169,
   "metadata": {},
   "outputs": [
    {
     "data": {
      "text/plain": [
       "<Figure size 720x432 with 0 Axes>"
      ]
     },
     "execution_count": 169,
     "metadata": {},
     "output_type": "execute_result"
    },
    {
     "data": {
      "text/plain": [
       "<matplotlib.collections.PathCollection at 0x1a27be2400>"
      ]
     },
     "execution_count": 169,
     "metadata": {},
     "output_type": "execute_result"
    },
    {
     "data": {
      "text/plain": [
       "Text(0,0.5,'Residuals')"
      ]
     },
     "execution_count": 169,
     "metadata": {},
     "output_type": "execute_result"
    },
    {
     "data": {
      "image/png": "[encoded data removed]",
      "text/plain": [
       "<Figure size 720x432 with 1 Axes>"
      ]
     },
     "metadata": {},
     "output_type": "display_data"
    }
   ],
   "source": [
    "plt.figure(figsize=(10,6))\n",
    "plt.scatter(residuals.index,residuals)\n",
    "plt.ylabel('Residuals')"
   ]
  },
  {
   "cell_type": "code",
   "execution_count": 170,
   "metadata": {},
   "outputs": [
    {
     "data": {
      "text/plain": [
       "<Figure size 720x432 with 0 Axes>"
      ]
     },
     "execution_count": 170,
     "metadata": {},
     "output_type": "execute_result"
    },
    {
     "name": "stderr",
     "output_type": "stream",
     "text": [
      "/Users/miketondu/anaconda3/lib/python3.6/site-packages/scipy/stats/stats.py:1713: FutureWarning: Using a non-tuple sequence for multidimensional indexing is deprecated; use `arr[tuple(seq)]` instead of `arr[seq]`. In the future this will be interpreted as an array index, `arr[np.array(seq)]`, which will result either in an error or a different result.\n",
      "  return np.add.reduce(sorted[indexer] * weights, axis=axis) / sumval\n"
     ]
    },
    {
     "data": {
      "text/plain": [
       "<matplotlib.axes._subplots.AxesSubplot at 0x1a2addc3c8>"
      ]
     },
     "execution_count": 170,
     "metadata": {},
     "output_type": "execute_result"
    },
    {
     "data": {
      "text/plain": [
       "Text(0.5,0,'Residuals')"
      ]
     },
     "execution_count": 170,
     "metadata": {},
     "output_type": "execute_result"
    },
    {
     "data": {
      "image/png": "[encoded data removed]",
      "text/plain": [
       "<Figure size 720x432 with 1 Axes>"
      ]
     },
     "metadata": {},
     "output_type": "display_data"
    }
   ],
   "source": [
    "plt.figure(figsize=(10,6))\n",
    "sns.distplot(residuals)\n",
    "plt.xlabel('Residuals')"
   ]
  },
  {
   "cell_type": "code",
   "execution_count": 171,
   "metadata": {},
   "outputs": [
    {
     "name": "stdout",
     "output_type": "stream",
     "text": [
      "191\n",
      "62\n"
     ]
    }
   ],
   "source": [
    "rightThreshold = 6\n",
    "leftThreshold = -2.5\n",
    "print(residuals[residuals>rightThreshold].size)\n",
    "print(residuals[residuals<leftThreshold].size)"
   ]
  },
  {
   "cell_type": "code",
   "execution_count": 172,
   "metadata": {},
   "outputs": [],
   "source": [
    "cluster_2_anomalies = pd.DataFrame(residuals[(residuals>rightThreshold) | (residuals < leftThreshold)])\n",
    "cluster_2_anomalies.columns=['Residuals']"
   ]
  },
  {
   "cell_type": "code",
   "execution_count": 173,
   "metadata": {},
   "outputs": [
    {
     "name": "stdout",
     "output_type": "stream",
     "text": [
      "(253, 1)\n"
     ]
    },
    {
     "data": {
      "text/html": [
       "<div>\n",
       "<style scoped>\n",
       "    .dataframe tbody tr th:only-of-type {\n",
       "        vertical-align: middle;\n",
       "    }\n",
       "\n",
       "    .dataframe tbody tr th {\n",
       "        vertical-align: top;\n",
       "    }\n",
       "\n",
       "    .dataframe thead th {\n",
       "        text-align: right;\n",
       "    }\n",
       "</style>\n",
       "<table border=\"1\" class=\"dataframe\">\n",
       "  <thead>\n",
       "    <tr style=\"text-align: right;\">\n",
       "      <th></th>\n",
       "      <th>Residuals</th>\n",
       "    </tr>\n",
       "    <tr>\n",
       "      <th>row_id</th>\n",
       "      <th></th>\n",
       "    </tr>\n",
       "  </thead>\n",
       "  <tbody>\n",
       "    <tr>\n",
       "      <th>1750</th>\n",
       "      <td>7.277923</td>\n",
       "    </tr>\n",
       "    <tr>\n",
       "      <th>3707</th>\n",
       "      <td>7.971312</td>\n",
       "    </tr>\n",
       "    <tr>\n",
       "      <th>7051</th>\n",
       "      <td>7.118899</td>\n",
       "    </tr>\n",
       "    <tr>\n",
       "      <th>11288</th>\n",
       "      <td>8.446150</td>\n",
       "    </tr>\n",
       "    <tr>\n",
       "      <th>11720</th>\n",
       "      <td>8.709438</td>\n",
       "    </tr>\n",
       "  </tbody>\n",
       "</table>\n",
       "</div>"
      ],
      "text/plain": [
       "        Residuals\n",
       "row_id           \n",
       "1750     7.277923\n",
       "3707     7.971312\n",
       "7051     7.118899\n",
       "11288    8.446150\n",
       "11720    8.709438"
      ]
     },
     "execution_count": 173,
     "metadata": {},
     "output_type": "execute_result"
    }
   ],
   "source": [
    "print(cluster_2_anomalies.shape)\n",
    "cluster_2_anomalies.head()"
   ]
  },
  {
   "cell_type": "markdown",
   "metadata": {},
   "source": [
    "###### Cluster 3"
   ]
  },
  {
   "cell_type": "code",
   "execution_count": 174,
   "metadata": {},
   "outputs": [
    {
     "data": {
      "text/html": [
       "<div>\n",
       "<style scoped>\n",
       "    .dataframe tbody tr th:only-of-type {\n",
       "        vertical-align: middle;\n",
       "    }\n",
       "\n",
       "    .dataframe tbody tr th {\n",
       "        vertical-align: top;\n",
       "    }\n",
       "\n",
       "    .dataframe thead th {\n",
       "        text-align: right;\n",
       "    }\n",
       "</style>\n",
       "<table border=\"1\" class=\"dataframe\">\n",
       "  <thead>\n",
       "    <tr style=\"text-align: right;\">\n",
       "      <th></th>\n",
       "      <th>0</th>\n",
       "      <th>1</th>\n",
       "      <th>2</th>\n",
       "      <th>3</th>\n",
       "      <th>4</th>\n",
       "      <th>5</th>\n",
       "      <th>6</th>\n",
       "      <th>7</th>\n",
       "      <th>8</th>\n",
       "      <th>9</th>\n",
       "      <th>BookingCluster</th>\n",
       "      <th>PricePerNight</th>\n",
       "    </tr>\n",
       "    <tr>\n",
       "      <th>row_id</th>\n",
       "      <th></th>\n",
       "      <th></th>\n",
       "      <th></th>\n",
       "      <th></th>\n",
       "      <th></th>\n",
       "      <th></th>\n",
       "      <th></th>\n",
       "      <th></th>\n",
       "      <th></th>\n",
       "      <th></th>\n",
       "      <th></th>\n",
       "      <th></th>\n",
       "    </tr>\n",
       "  </thead>\n",
       "  <tbody>\n",
       "    <tr>\n",
       "      <th>11</th>\n",
       "      <td>0.885338</td>\n",
       "      <td>-0.861164</td>\n",
       "      <td>1.454716</td>\n",
       "      <td>-0.065178</td>\n",
       "      <td>0.468809</td>\n",
       "      <td>0.598523</td>\n",
       "      <td>1.669851</td>\n",
       "      <td>-1.719131</td>\n",
       "      <td>0.096689</td>\n",
       "      <td>0.631427</td>\n",
       "      <td>3</td>\n",
       "      <td>-0.089006</td>\n",
       "    </tr>\n",
       "    <tr>\n",
       "      <th>19</th>\n",
       "      <td>-0.443426</td>\n",
       "      <td>0.486459</td>\n",
       "      <td>1.012666</td>\n",
       "      <td>0.247929</td>\n",
       "      <td>-0.613574</td>\n",
       "      <td>1.087290</td>\n",
       "      <td>1.343694</td>\n",
       "      <td>-1.628620</td>\n",
       "      <td>0.016872</td>\n",
       "      <td>1.046210</td>\n",
       "      <td>3</td>\n",
       "      <td>1.510641</td>\n",
       "    </tr>\n",
       "    <tr>\n",
       "      <th>22</th>\n",
       "      <td>-0.086364</td>\n",
       "      <td>-0.257843</td>\n",
       "      <td>1.235888</td>\n",
       "      <td>-0.306241</td>\n",
       "      <td>-1.186123</td>\n",
       "      <td>1.068242</td>\n",
       "      <td>0.348941</td>\n",
       "      <td>-0.322618</td>\n",
       "      <td>-2.212650</td>\n",
       "      <td>-0.880510</td>\n",
       "      <td>3</td>\n",
       "      <td>-0.423795</td>\n",
       "    </tr>\n",
       "    <tr>\n",
       "      <th>33</th>\n",
       "      <td>0.030584</td>\n",
       "      <td>0.282022</td>\n",
       "      <td>1.303867</td>\n",
       "      <td>-0.019906</td>\n",
       "      <td>-0.785993</td>\n",
       "      <td>0.979631</td>\n",
       "      <td>1.310909</td>\n",
       "      <td>-1.425605</td>\n",
       "      <td>0.038638</td>\n",
       "      <td>-0.535418</td>\n",
       "      <td>3</td>\n",
       "      <td>0.275323</td>\n",
       "    </tr>\n",
       "    <tr>\n",
       "      <th>42</th>\n",
       "      <td>-0.563753</td>\n",
       "      <td>-0.573700</td>\n",
       "      <td>1.155971</td>\n",
       "      <td>-0.039444</td>\n",
       "      <td>-0.430967</td>\n",
       "      <td>0.633481</td>\n",
       "      <td>1.414436</td>\n",
       "      <td>-1.411585</td>\n",
       "      <td>-0.067645</td>\n",
       "      <td>0.269859</td>\n",
       "      <td>3</td>\n",
       "      <td>0.477629</td>\n",
       "    </tr>\n",
       "  </tbody>\n",
       "</table>\n",
       "</div>"
      ],
      "text/plain": [
       "               0         1         2         3         4         5         6  \\\n",
       "row_id                                                                         \n",
       "11      0.885338 -0.861164  1.454716 -0.065178  0.468809  0.598523  1.669851   \n",
       "19     -0.443426  0.486459  1.012666  0.247929 -0.613574  1.087290  1.343694   \n",
       "22     -0.086364 -0.257843  1.235888 -0.306241 -1.186123  1.068242  0.348941   \n",
       "33      0.030584  0.282022  1.303867 -0.019906 -0.785993  0.979631  1.310909   \n",
       "42     -0.563753 -0.573700  1.155971 -0.039444 -0.430967  0.633481  1.414436   \n",
       "\n",
       "               7         8         9  BookingCluster  PricePerNight  \n",
       "row_id                                                               \n",
       "11     -1.719131  0.096689  0.631427               3      -0.089006  \n",
       "19     -1.628620  0.016872  1.046210               3       1.510641  \n",
       "22     -0.322618 -2.212650 -0.880510               3      -0.423795  \n",
       "33     -1.425605  0.038638 -0.535418               3       0.275323  \n",
       "42     -1.411585 -0.067645  0.269859               3       0.477629  "
      ]
     },
     "execution_count": 174,
     "metadata": {},
     "output_type": "execute_result"
    }
   ],
   "source": [
    "df_cluster[3].head()"
   ]
  },
  {
   "cell_type": "code",
   "execution_count": 175,
   "metadata": {},
   "outputs": [],
   "source": [
    "train = df_cluster[3].drop(['PricePerNight','BookingCluster'], axis = 1)\n",
    "labels = df_cluster[3].PricePerNight"
   ]
  },
  {
   "cell_type": "code",
   "execution_count": 176,
   "metadata": {},
   "outputs": [
    {
     "data": {
      "text/plain": [
       "LinearRegression(copy_X=True, fit_intercept=True, n_jobs=None, normalize=False)"
      ]
     },
     "execution_count": 176,
     "metadata": {},
     "output_type": "execute_result"
    }
   ],
   "source": [
    "regMod = linear_model.LinearRegression()\n",
    "regMod.fit(train, labels)\n",
    "pricePred = regMod.predict(train)"
   ]
  },
  {
   "cell_type": "code",
   "execution_count": 177,
   "metadata": {},
   "outputs": [
    {
     "data": {
      "text/plain": [
       "0.5553697186402835"
      ]
     },
     "execution_count": 177,
     "metadata": {},
     "output_type": "execute_result"
    }
   ],
   "source": [
    "metrics.r2_score(labels,pricePred)"
   ]
  },
  {
   "cell_type": "code",
   "execution_count": 178,
   "metadata": {},
   "outputs": [
    {
     "data": {
      "text/plain": [
       "0.4553491432301755"
      ]
     },
     "execution_count": 178,
     "metadata": {},
     "output_type": "execute_result"
    }
   ],
   "source": [
    "metrics.mean_squared_error(labels,pricePred) ** (0.5)"
   ]
  },
  {
   "cell_type": "code",
   "execution_count": 179,
   "metadata": {},
   "outputs": [
    {
     "data": {
      "text/plain": [
       "count    1.245990e+05\n",
       "mean    -1.223771e-14\n",
       "std      4.553510e-01\n",
       "min     -3.877273e+00\n",
       "25%     -1.795013e-01\n",
       "50%     -4.010003e-02\n",
       "75%      8.699357e-02\n",
       "max      1.662129e+01\n",
       "Name: PricePerNight, dtype: float64"
      ]
     },
     "execution_count": 179,
     "metadata": {},
     "output_type": "execute_result"
    }
   ],
   "source": [
    "residuals = labels - pricePred\n",
    "residuals.describe()"
   ]
  },
  {
   "cell_type": "code",
   "execution_count": 180,
   "metadata": {},
   "outputs": [
    {
     "data": {
      "text/plain": [
       "124.63973588747425"
      ]
     },
     "execution_count": 180,
     "metadata": {},
     "output_type": "execute_result"
    }
   ],
   "source": [
    "residuals.kurtosis()"
   ]
  },
  {
   "cell_type": "code",
   "execution_count": 181,
   "metadata": {},
   "outputs": [
    {
     "data": {
      "text/plain": [
       "<Figure size 720x432 with 0 Axes>"
      ]
     },
     "execution_count": 181,
     "metadata": {},
     "output_type": "execute_result"
    },
    {
     "data": {
      "text/plain": [
       "<matplotlib.collections.PathCollection at 0x1a1de958d0>"
      ]
     },
     "execution_count": 181,
     "metadata": {},
     "output_type": "execute_result"
    },
    {
     "data": {
      "text/plain": [
       "Text(0,0.5,'Residuals')"
      ]
     },
     "execution_count": 181,
     "metadata": {},
     "output_type": "execute_result"
    },
    {
     "data": {
      "image/png": "[encoded data removed]",
      "text/plain": [
       "<Figure size 720x432 with 1 Axes>"
      ]
     },
     "metadata": {},
     "output_type": "display_data"
    }
   ],
   "source": [
    "plt.figure(figsize=(10,6))\n",
    "plt.scatter(residuals.index,residuals)\n",
    "plt.ylabel('Residuals')"
   ]
  },
  {
   "cell_type": "code",
   "execution_count": 182,
   "metadata": {},
   "outputs": [
    {
     "data": {
      "text/plain": [
       "<Figure size 720x432 with 0 Axes>"
      ]
     },
     "execution_count": 182,
     "metadata": {},
     "output_type": "execute_result"
    },
    {
     "name": "stderr",
     "output_type": "stream",
     "text": [
      "/Users/miketondu/anaconda3/lib/python3.6/site-packages/scipy/stats/stats.py:1713: FutureWarning: Using a non-tuple sequence for multidimensional indexing is deprecated; use `arr[tuple(seq)]` instead of `arr[seq]`. In the future this will be interpreted as an array index, `arr[np.array(seq)]`, which will result either in an error or a different result.\n",
      "  return np.add.reduce(sorted[indexer] * weights, axis=axis) / sumval\n"
     ]
    },
    {
     "data": {
      "text/plain": [
       "<matplotlib.axes._subplots.AxesSubplot at 0x1a2849b4e0>"
      ]
     },
     "execution_count": 182,
     "metadata": {},
     "output_type": "execute_result"
    },
    {
     "data": {
      "text/plain": [
       "Text(0.5,0,'Residuals')"
      ]
     },
     "execution_count": 182,
     "metadata": {},
     "output_type": "execute_result"
    },
    {
     "data": {
      "image/png": "[encoded data removed]",
      "text/plain": [
       "<Figure size 720x432 with 1 Axes>"
      ]
     },
     "metadata": {},
     "output_type": "display_data"
    }
   ],
   "source": [
    "plt.figure(figsize=(10,6))\n",
    "sns.distplot(residuals)\n",
    "plt.xlabel('Residuals')"
   ]
  },
  {
   "cell_type": "code",
   "execution_count": 183,
   "metadata": {
    "scrolled": true
   },
   "outputs": [
    {
     "name": "stdout",
     "output_type": "stream",
     "text": [
      "64\n",
      "5\n"
     ]
    }
   ],
   "source": [
    "rightThreshold = 5.5\n",
    "leftThreshold = -3\n",
    "print(residuals[residuals>rightThreshold].size)\n",
    "print(residuals[residuals<leftThreshold].size)"
   ]
  },
  {
   "cell_type": "code",
   "execution_count": 184,
   "metadata": {},
   "outputs": [],
   "source": [
    "cluster_3_anomalies = pd.DataFrame(residuals[(residuals>rightThreshold) | (residuals < leftThreshold)])\n",
    "cluster_3_anomalies.columns=['Residuals']"
   ]
  },
  {
   "cell_type": "code",
   "execution_count": 185,
   "metadata": {},
   "outputs": [
    {
     "name": "stdout",
     "output_type": "stream",
     "text": [
      "(69, 1)\n"
     ]
    },
    {
     "data": {
      "text/html": [
       "<div>\n",
       "<style scoped>\n",
       "    .dataframe tbody tr th:only-of-type {\n",
       "        vertical-align: middle;\n",
       "    }\n",
       "\n",
       "    .dataframe tbody tr th {\n",
       "        vertical-align: top;\n",
       "    }\n",
       "\n",
       "    .dataframe thead th {\n",
       "        text-align: right;\n",
       "    }\n",
       "</style>\n",
       "<table border=\"1\" class=\"dataframe\">\n",
       "  <thead>\n",
       "    <tr style=\"text-align: right;\">\n",
       "      <th></th>\n",
       "      <th>Residuals</th>\n",
       "    </tr>\n",
       "    <tr>\n",
       "      <th>row_id</th>\n",
       "      <th></th>\n",
       "    </tr>\n",
       "  </thead>\n",
       "  <tbody>\n",
       "    <tr>\n",
       "      <th>3799</th>\n",
       "      <td>6.784556</td>\n",
       "    </tr>\n",
       "    <tr>\n",
       "      <th>39214</th>\n",
       "      <td>6.822468</td>\n",
       "    </tr>\n",
       "    <tr>\n",
       "      <th>44580</th>\n",
       "      <td>6.648252</td>\n",
       "    </tr>\n",
       "    <tr>\n",
       "      <th>95132</th>\n",
       "      <td>7.872949</td>\n",
       "    </tr>\n",
       "    <tr>\n",
       "      <th>95610</th>\n",
       "      <td>7.129004</td>\n",
       "    </tr>\n",
       "  </tbody>\n",
       "</table>\n",
       "</div>"
      ],
      "text/plain": [
       "        Residuals\n",
       "row_id           \n",
       "3799     6.784556\n",
       "39214    6.822468\n",
       "44580    6.648252\n",
       "95132    7.872949\n",
       "95610    7.129004"
      ]
     },
     "execution_count": 185,
     "metadata": {},
     "output_type": "execute_result"
    }
   ],
   "source": [
    "print(cluster_3_anomalies.shape)\n",
    "cluster_3_anomalies.head()"
   ]
  },
  {
   "cell_type": "markdown",
   "metadata": {},
   "source": [
    "###### Cluster 4"
   ]
  },
  {
   "cell_type": "code",
   "execution_count": 186,
   "metadata": {},
   "outputs": [
    {
     "data": {
      "text/html": [
       "<div>\n",
       "<style scoped>\n",
       "    .dataframe tbody tr th:only-of-type {\n",
       "        vertical-align: middle;\n",
       "    }\n",
       "\n",
       "    .dataframe tbody tr th {\n",
       "        vertical-align: top;\n",
       "    }\n",
       "\n",
       "    .dataframe thead th {\n",
       "        text-align: right;\n",
       "    }\n",
       "</style>\n",
       "<table border=\"1\" class=\"dataframe\">\n",
       "  <thead>\n",
       "    <tr style=\"text-align: right;\">\n",
       "      <th></th>\n",
       "      <th>0</th>\n",
       "      <th>1</th>\n",
       "      <th>2</th>\n",
       "      <th>3</th>\n",
       "      <th>4</th>\n",
       "      <th>5</th>\n",
       "      <th>6</th>\n",
       "      <th>7</th>\n",
       "      <th>8</th>\n",
       "      <th>9</th>\n",
       "      <th>BookingCluster</th>\n",
       "      <th>PricePerNight</th>\n",
       "    </tr>\n",
       "    <tr>\n",
       "      <th>row_id</th>\n",
       "      <th></th>\n",
       "      <th></th>\n",
       "      <th></th>\n",
       "      <th></th>\n",
       "      <th></th>\n",
       "      <th></th>\n",
       "      <th></th>\n",
       "      <th></th>\n",
       "      <th></th>\n",
       "      <th></th>\n",
       "      <th></th>\n",
       "      <th></th>\n",
       "    </tr>\n",
       "  </thead>\n",
       "  <tbody>\n",
       "    <tr>\n",
       "      <th>0</th>\n",
       "      <td>0.491802</td>\n",
       "      <td>0.719884</td>\n",
       "      <td>1.398681</td>\n",
       "      <td>0.677925</td>\n",
       "      <td>-0.272618</td>\n",
       "      <td>0.583344</td>\n",
       "      <td>-1.115041</td>\n",
       "      <td>0.663648</td>\n",
       "      <td>1.858719</td>\n",
       "      <td>-0.645262</td>\n",
       "      <td>4</td>\n",
       "      <td>1.063062</td>\n",
       "    </tr>\n",
       "    <tr>\n",
       "      <th>5</th>\n",
       "      <td>-0.281828</td>\n",
       "      <td>-0.583922</td>\n",
       "      <td>1.293327</td>\n",
       "      <td>1.444807</td>\n",
       "      <td>-0.713776</td>\n",
       "      <td>-0.521177</td>\n",
       "      <td>-1.088150</td>\n",
       "      <td>0.842787</td>\n",
       "      <td>0.911271</td>\n",
       "      <td>-0.554056</td>\n",
       "      <td>4</td>\n",
       "      <td>-0.733520</td>\n",
       "    </tr>\n",
       "    <tr>\n",
       "      <th>7</th>\n",
       "      <td>-0.525723</td>\n",
       "      <td>-0.526617</td>\n",
       "      <td>1.138454</td>\n",
       "      <td>2.003150</td>\n",
       "      <td>-0.894053</td>\n",
       "      <td>-0.709499</td>\n",
       "      <td>-0.885984</td>\n",
       "      <td>0.341287</td>\n",
       "      <td>1.142187</td>\n",
       "      <td>0.256520</td>\n",
       "      <td>4</td>\n",
       "      <td>-0.450650</td>\n",
       "    </tr>\n",
       "    <tr>\n",
       "      <th>24</th>\n",
       "      <td>-1.275278</td>\n",
       "      <td>0.175428</td>\n",
       "      <td>0.923391</td>\n",
       "      <td>0.649672</td>\n",
       "      <td>1.066389</td>\n",
       "      <td>0.162262</td>\n",
       "      <td>-1.192539</td>\n",
       "      <td>0.826276</td>\n",
       "      <td>1.455882</td>\n",
       "      <td>-0.543449</td>\n",
       "      <td>4</td>\n",
       "      <td>-0.436327</td>\n",
       "    </tr>\n",
       "    <tr>\n",
       "      <th>27</th>\n",
       "      <td>-0.295123</td>\n",
       "      <td>-0.931202</td>\n",
       "      <td>1.190188</td>\n",
       "      <td>1.395487</td>\n",
       "      <td>-0.677449</td>\n",
       "      <td>-0.436205</td>\n",
       "      <td>-1.207994</td>\n",
       "      <td>0.912364</td>\n",
       "      <td>0.516893</td>\n",
       "      <td>0.417058</td>\n",
       "      <td>4</td>\n",
       "      <td>-0.211643</td>\n",
       "    </tr>\n",
       "  </tbody>\n",
       "</table>\n",
       "</div>"
      ],
      "text/plain": [
       "               0         1         2         3         4         5         6  \\\n",
       "row_id                                                                         \n",
       "0       0.491802  0.719884  1.398681  0.677925 -0.272618  0.583344 -1.115041   \n",
       "5      -0.281828 -0.583922  1.293327  1.444807 -0.713776 -0.521177 -1.088150   \n",
       "7      -0.525723 -0.526617  1.138454  2.003150 -0.894053 -0.709499 -0.885984   \n",
       "24     -1.275278  0.175428  0.923391  0.649672  1.066389  0.162262 -1.192539   \n",
       "27     -0.295123 -0.931202  1.190188  1.395487 -0.677449 -0.436205 -1.207994   \n",
       "\n",
       "               7         8         9  BookingCluster  PricePerNight  \n",
       "row_id                                                               \n",
       "0       0.663648  1.858719 -0.645262               4       1.063062  \n",
       "5       0.842787  0.911271 -0.554056               4      -0.733520  \n",
       "7       0.341287  1.142187  0.256520               4      -0.450650  \n",
       "24      0.826276  1.455882 -0.543449               4      -0.436327  \n",
       "27      0.912364  0.516893  0.417058               4      -0.211643  "
      ]
     },
     "execution_count": 186,
     "metadata": {},
     "output_type": "execute_result"
    }
   ],
   "source": [
    "df_cluster[4].head()"
   ]
  },
  {
   "cell_type": "code",
   "execution_count": 187,
   "metadata": {},
   "outputs": [],
   "source": [
    "train = df_cluster[4].drop(['PricePerNight','BookingCluster'], axis = 1)\n",
    "labels = df_cluster[4].PricePerNight"
   ]
  },
  {
   "cell_type": "code",
   "execution_count": 188,
   "metadata": {},
   "outputs": [
    {
     "data": {
      "text/plain": [
       "LinearRegression(copy_X=True, fit_intercept=True, n_jobs=None, normalize=False)"
      ]
     },
     "execution_count": 188,
     "metadata": {},
     "output_type": "execute_result"
    }
   ],
   "source": [
    "regMod = linear_model.LinearRegression()\n",
    "regMod.fit(train, labels)\n",
    "pricePred = regMod.predict(train)"
   ]
  },
  {
   "cell_type": "code",
   "execution_count": 189,
   "metadata": {},
   "outputs": [
    {
     "data": {
      "text/plain": [
       "0.5879275544224205"
      ]
     },
     "execution_count": 189,
     "metadata": {},
     "output_type": "execute_result"
    }
   ],
   "source": [
    "metrics.r2_score(labels,pricePred)"
   ]
  },
  {
   "cell_type": "code",
   "execution_count": 190,
   "metadata": {},
   "outputs": [
    {
     "data": {
      "text/plain": [
       "0.5255870744977578"
      ]
     },
     "execution_count": 190,
     "metadata": {},
     "output_type": "execute_result"
    }
   ],
   "source": [
    "metrics.mean_squared_error(labels,pricePred) ** (0.5)"
   ]
  },
  {
   "cell_type": "code",
   "execution_count": 191,
   "metadata": {},
   "outputs": [
    {
     "data": {
      "text/plain": [
       "count    1.344220e+05\n",
       "mean    -1.307340e-15\n",
       "std      5.255890e-01\n",
       "min     -3.550839e+00\n",
       "25%     -2.018427e-01\n",
       "50%     -3.600236e-02\n",
       "75%      8.954155e-02\n",
       "max      1.577863e+01\n",
       "Name: PricePerNight, dtype: float64"
      ]
     },
     "execution_count": 191,
     "metadata": {},
     "output_type": "execute_result"
    }
   ],
   "source": [
    "residuals = labels - pricePred\n",
    "residuals.describe()"
   ]
  },
  {
   "cell_type": "code",
   "execution_count": 192,
   "metadata": {},
   "outputs": [
    {
     "data": {
      "text/plain": [
       "79.32941164338489"
      ]
     },
     "execution_count": 192,
     "metadata": {},
     "output_type": "execute_result"
    }
   ],
   "source": [
    "residuals.kurtosis()"
   ]
  },
  {
   "cell_type": "code",
   "execution_count": 193,
   "metadata": {},
   "outputs": [
    {
     "data": {
      "text/plain": [
       "<Figure size 720x432 with 0 Axes>"
      ]
     },
     "execution_count": 193,
     "metadata": {},
     "output_type": "execute_result"
    },
    {
     "data": {
      "text/plain": [
       "<matplotlib.collections.PathCollection at 0x1a254e3748>"
      ]
     },
     "execution_count": 193,
     "metadata": {},
     "output_type": "execute_result"
    },
    {
     "data": {
      "text/plain": [
       "Text(0,0.5,'Residuals')"
      ]
     },
     "execution_count": 193,
     "metadata": {},
     "output_type": "execute_result"
    },
    {
     "data": {
      "image/png": "[encoded data removed]",
      "text/plain": [
       "<Figure size 720x432 with 1 Axes>"
      ]
     },
     "metadata": {},
     "output_type": "display_data"
    }
   ],
   "source": [
    "plt.figure(figsize=(10,6))\n",
    "plt.scatter(residuals.index,residuals)\n",
    "plt.ylabel('Residuals')"
   ]
  },
  {
   "cell_type": "code",
   "execution_count": 194,
   "metadata": {},
   "outputs": [
    {
     "data": {
      "text/plain": [
       "<Figure size 720x432 with 0 Axes>"
      ]
     },
     "execution_count": 194,
     "metadata": {},
     "output_type": "execute_result"
    },
    {
     "name": "stderr",
     "output_type": "stream",
     "text": [
      "/Users/miketondu/anaconda3/lib/python3.6/site-packages/scipy/stats/stats.py:1713: FutureWarning: Using a non-tuple sequence for multidimensional indexing is deprecated; use `arr[tuple(seq)]` instead of `arr[seq]`. In the future this will be interpreted as an array index, `arr[np.array(seq)]`, which will result either in an error or a different result.\n",
      "  return np.add.reduce(sorted[indexer] * weights, axis=axis) / sumval\n"
     ]
    },
    {
     "data": {
      "text/plain": [
       "<matplotlib.axes._subplots.AxesSubplot at 0x1a1e8b50b8>"
      ]
     },
     "execution_count": 194,
     "metadata": {},
     "output_type": "execute_result"
    },
    {
     "data": {
      "text/plain": [
       "Text(0.5,0,'Residuals')"
      ]
     },
     "execution_count": 194,
     "metadata": {},
     "output_type": "execute_result"
    },
    {
     "data": {
      "image/png": "[encoded data removed]",
      "text/plain": [
       "<Figure size 720x432 with 1 Axes>"
      ]
     },
     "metadata": {},
     "output_type": "display_data"
    }
   ],
   "source": [
    "plt.figure(figsize=(10,6))\n",
    "sns.distplot(residuals)\n",
    "plt.xlabel('Residuals')"
   ]
  },
  {
   "cell_type": "code",
   "execution_count": 195,
   "metadata": {},
   "outputs": [
    {
     "name": "stdout",
     "output_type": "stream",
     "text": [
      "62\n",
      "9\n"
     ]
    }
   ],
   "source": [
    "rightThreshold = 7\n",
    "leftThreshold = -3\n",
    "print(residuals[residuals>rightThreshold].size)\n",
    "print(residuals[residuals<leftThreshold].size)"
   ]
  },
  {
   "cell_type": "code",
   "execution_count": 196,
   "metadata": {},
   "outputs": [],
   "source": [
    "cluster_4_anomalies = pd.DataFrame(residuals[(residuals>rightThreshold) | (residuals < leftThreshold)])\n",
    "cluster_4_anomalies.columns=['Residuals']"
   ]
  },
  {
   "cell_type": "code",
   "execution_count": 197,
   "metadata": {},
   "outputs": [
    {
     "name": "stdout",
     "output_type": "stream",
     "text": [
      "(71, 1)\n"
     ]
    },
    {
     "data": {
      "text/html": [
       "<div>\n",
       "<style scoped>\n",
       "    .dataframe tbody tr th:only-of-type {\n",
       "        vertical-align: middle;\n",
       "    }\n",
       "\n",
       "    .dataframe tbody tr th {\n",
       "        vertical-align: top;\n",
       "    }\n",
       "\n",
       "    .dataframe thead th {\n",
       "        text-align: right;\n",
       "    }\n",
       "</style>\n",
       "<table border=\"1\" class=\"dataframe\">\n",
       "  <thead>\n",
       "    <tr style=\"text-align: right;\">\n",
       "      <th></th>\n",
       "      <th>Residuals</th>\n",
       "    </tr>\n",
       "    <tr>\n",
       "      <th>row_id</th>\n",
       "      <th></th>\n",
       "    </tr>\n",
       "  </thead>\n",
       "  <tbody>\n",
       "    <tr>\n",
       "      <th>1330</th>\n",
       "      <td>7.773730</td>\n",
       "    </tr>\n",
       "    <tr>\n",
       "      <th>2066</th>\n",
       "      <td>7.671802</td>\n",
       "    </tr>\n",
       "    <tr>\n",
       "      <th>3224</th>\n",
       "      <td>9.205249</td>\n",
       "    </tr>\n",
       "    <tr>\n",
       "      <th>16987</th>\n",
       "      <td>7.198176</td>\n",
       "    </tr>\n",
       "    <tr>\n",
       "      <th>39182</th>\n",
       "      <td>13.179475</td>\n",
       "    </tr>\n",
       "  </tbody>\n",
       "</table>\n",
       "</div>"
      ],
      "text/plain": [
       "        Residuals\n",
       "row_id           \n",
       "1330     7.773730\n",
       "2066     7.671802\n",
       "3224     9.205249\n",
       "16987    7.198176\n",
       "39182   13.179475"
      ]
     },
     "execution_count": 197,
     "metadata": {},
     "output_type": "execute_result"
    }
   ],
   "source": [
    "print(cluster_4_anomalies.shape)\n",
    "cluster_4_anomalies.head()"
   ]
  },
  {
   "cell_type": "markdown",
   "metadata": {},
   "source": [
    "###### Cluster 5"
   ]
  },
  {
   "cell_type": "code",
   "execution_count": 198,
   "metadata": {},
   "outputs": [
    {
     "data": {
      "text/html": [
       "<div>\n",
       "<style scoped>\n",
       "    .dataframe tbody tr th:only-of-type {\n",
       "        vertical-align: middle;\n",
       "    }\n",
       "\n",
       "    .dataframe tbody tr th {\n",
       "        vertical-align: top;\n",
       "    }\n",
       "\n",
       "    .dataframe thead th {\n",
       "        text-align: right;\n",
       "    }\n",
       "</style>\n",
       "<table border=\"1\" class=\"dataframe\">\n",
       "  <thead>\n",
       "    <tr style=\"text-align: right;\">\n",
       "      <th></th>\n",
       "      <th>0</th>\n",
       "      <th>1</th>\n",
       "      <th>2</th>\n",
       "      <th>3</th>\n",
       "      <th>4</th>\n",
       "      <th>5</th>\n",
       "      <th>6</th>\n",
       "      <th>7</th>\n",
       "      <th>8</th>\n",
       "      <th>9</th>\n",
       "      <th>BookingCluster</th>\n",
       "      <th>PricePerNight</th>\n",
       "    </tr>\n",
       "    <tr>\n",
       "      <th>row_id</th>\n",
       "      <th></th>\n",
       "      <th></th>\n",
       "      <th></th>\n",
       "      <th></th>\n",
       "      <th></th>\n",
       "      <th></th>\n",
       "      <th></th>\n",
       "      <th></th>\n",
       "      <th></th>\n",
       "      <th></th>\n",
       "      <th></th>\n",
       "      <th></th>\n",
       "    </tr>\n",
       "  </thead>\n",
       "  <tbody>\n",
       "    <tr>\n",
       "      <th>17</th>\n",
       "      <td>1.621150</td>\n",
       "      <td>0.823495</td>\n",
       "      <td>-0.537740</td>\n",
       "      <td>-1.395274</td>\n",
       "      <td>0.196185</td>\n",
       "      <td>1.536017</td>\n",
       "      <td>0.441755</td>\n",
       "      <td>-0.736069</td>\n",
       "      <td>2.461206</td>\n",
       "      <td>1.655292</td>\n",
       "      <td>5</td>\n",
       "      <td>1.353988</td>\n",
       "    </tr>\n",
       "    <tr>\n",
       "      <th>49</th>\n",
       "      <td>2.157457</td>\n",
       "      <td>-0.249866</td>\n",
       "      <td>-0.260355</td>\n",
       "      <td>-0.043495</td>\n",
       "      <td>0.618301</td>\n",
       "      <td>0.102239</td>\n",
       "      <td>0.648952</td>\n",
       "      <td>-0.676011</td>\n",
       "      <td>1.329531</td>\n",
       "      <td>-0.581211</td>\n",
       "      <td>5</td>\n",
       "      <td>0.730959</td>\n",
       "    </tr>\n",
       "    <tr>\n",
       "      <th>55</th>\n",
       "      <td>2.049373</td>\n",
       "      <td>-1.176141</td>\n",
       "      <td>-0.224083</td>\n",
       "      <td>-0.153164</td>\n",
       "      <td>0.213365</td>\n",
       "      <td>-0.055357</td>\n",
       "      <td>0.557854</td>\n",
       "      <td>-0.176239</td>\n",
       "      <td>0.806015</td>\n",
       "      <td>-0.114241</td>\n",
       "      <td>5</td>\n",
       "      <td>-0.303844</td>\n",
       "    </tr>\n",
       "    <tr>\n",
       "      <th>60</th>\n",
       "      <td>4.531016</td>\n",
       "      <td>-0.578268</td>\n",
       "      <td>0.372706</td>\n",
       "      <td>-1.847432</td>\n",
       "      <td>1.955362</td>\n",
       "      <td>0.816678</td>\n",
       "      <td>0.728537</td>\n",
       "      <td>-0.848702</td>\n",
       "      <td>2.449858</td>\n",
       "      <td>-1.249851</td>\n",
       "      <td>5</td>\n",
       "      <td>0.866127</td>\n",
       "    </tr>\n",
       "    <tr>\n",
       "      <th>72</th>\n",
       "      <td>2.186871</td>\n",
       "      <td>-0.527482</td>\n",
       "      <td>-0.291883</td>\n",
       "      <td>-0.737021</td>\n",
       "      <td>1.419304</td>\n",
       "      <td>-0.081995</td>\n",
       "      <td>0.582280</td>\n",
       "      <td>-0.405083</td>\n",
       "      <td>1.229152</td>\n",
       "      <td>-1.005767</td>\n",
       "      <td>5</td>\n",
       "      <td>0.665612</td>\n",
       "    </tr>\n",
       "  </tbody>\n",
       "</table>\n",
       "</div>"
      ],
      "text/plain": [
       "               0         1         2         3         4         5         6  \\\n",
       "row_id                                                                         \n",
       "17      1.621150  0.823495 -0.537740 -1.395274  0.196185  1.536017  0.441755   \n",
       "49      2.157457 -0.249866 -0.260355 -0.043495  0.618301  0.102239  0.648952   \n",
       "55      2.049373 -1.176141 -0.224083 -0.153164  0.213365 -0.055357  0.557854   \n",
       "60      4.531016 -0.578268  0.372706 -1.847432  1.955362  0.816678  0.728537   \n",
       "72      2.186871 -0.527482 -0.291883 -0.737021  1.419304 -0.081995  0.582280   \n",
       "\n",
       "               7         8         9  BookingCluster  PricePerNight  \n",
       "row_id                                                               \n",
       "17     -0.736069  2.461206  1.655292               5       1.353988  \n",
       "49     -0.676011  1.329531 -0.581211               5       0.730959  \n",
       "55     -0.176239  0.806015 -0.114241               5      -0.303844  \n",
       "60     -0.848702  2.449858 -1.249851               5       0.866127  \n",
       "72     -0.405083  1.229152 -1.005767               5       0.665612  "
      ]
     },
     "execution_count": 198,
     "metadata": {},
     "output_type": "execute_result"
    }
   ],
   "source": [
    "df_cluster[5].head()"
   ]
  },
  {
   "cell_type": "code",
   "execution_count": 199,
   "metadata": {},
   "outputs": [],
   "source": [
    "train = df_cluster[5].drop(['PricePerNight','BookingCluster'], axis = 1)\n",
    "labels = df_cluster[5].PricePerNight"
   ]
  },
  {
   "cell_type": "code",
   "execution_count": 200,
   "metadata": {},
   "outputs": [
    {
     "data": {
      "text/plain": [
       "LinearRegression(copy_X=True, fit_intercept=True, n_jobs=None, normalize=False)"
      ]
     },
     "execution_count": 200,
     "metadata": {},
     "output_type": "execute_result"
    }
   ],
   "source": [
    "regMod = linear_model.LinearRegression()\n",
    "regMod.fit(train, labels)\n",
    "pricePred = regMod.predict(train)"
   ]
  },
  {
   "cell_type": "code",
   "execution_count": 201,
   "metadata": {},
   "outputs": [
    {
     "data": {
      "text/plain": [
       "0.4921330419263015"
      ]
     },
     "execution_count": 201,
     "metadata": {},
     "output_type": "execute_result"
    }
   ],
   "source": [
    "metrics.r2_score(labels,pricePred)"
   ]
  },
  {
   "cell_type": "code",
   "execution_count": 202,
   "metadata": {},
   "outputs": [
    {
     "data": {
      "text/plain": [
       "0.7197366022072056"
      ]
     },
     "execution_count": 202,
     "metadata": {},
     "output_type": "execute_result"
    }
   ],
   "source": [
    "metrics.mean_squared_error(labels,pricePred) ** (0.5)"
   ]
  },
  {
   "cell_type": "code",
   "execution_count": 203,
   "metadata": {},
   "outputs": [
    {
     "data": {
      "text/plain": [
       "count    8.453100e+04\n",
       "mean     1.066290e-16\n",
       "std      7.197409e-01\n",
       "min     -2.705032e+00\n",
       "25%     -3.578128e-01\n",
       "50%     -8.457519e-02\n",
       "75%      2.167732e-01\n",
       "max      1.851810e+01\n",
       "Name: PricePerNight, dtype: float64"
      ]
     },
     "execution_count": 203,
     "metadata": {},
     "output_type": "execute_result"
    }
   ],
   "source": [
    "residuals = labels - pricePred\n",
    "residuals.describe()"
   ]
  },
  {
   "cell_type": "code",
   "execution_count": 204,
   "metadata": {},
   "outputs": [
    {
     "data": {
      "text/plain": [
       "46.414460210451686"
      ]
     },
     "execution_count": 204,
     "metadata": {},
     "output_type": "execute_result"
    }
   ],
   "source": [
    "residuals.kurtosis()"
   ]
  },
  {
   "cell_type": "code",
   "execution_count": 205,
   "metadata": {},
   "outputs": [
    {
     "data": {
      "text/plain": [
       "<Figure size 720x432 with 0 Axes>"
      ]
     },
     "execution_count": 205,
     "metadata": {},
     "output_type": "execute_result"
    },
    {
     "data": {
      "text/plain": [
       "<matplotlib.collections.PathCollection at 0x1a282d8a20>"
      ]
     },
     "execution_count": 205,
     "metadata": {},
     "output_type": "execute_result"
    },
    {
     "data": {
      "text/plain": [
       "Text(0,0.5,'Residuals')"
      ]
     },
     "execution_count": 205,
     "metadata": {},
     "output_type": "execute_result"
    },
    {
     "data": {
      "image/png": "[encoded data removed]",
      "text/plain": [
       "<Figure size 720x432 with 1 Axes>"
      ]
     },
     "metadata": {},
     "output_type": "display_data"
    }
   ],
   "source": [
    "plt.figure(figsize=(10,6))\n",
    "plt.scatter(residuals.index,residuals)\n",
    "plt.ylabel('Residuals')"
   ]
  },
  {
   "cell_type": "code",
   "execution_count": 206,
   "metadata": {},
   "outputs": [
    {
     "data": {
      "text/plain": [
       "<Figure size 720x432 with 0 Axes>"
      ]
     },
     "execution_count": 206,
     "metadata": {},
     "output_type": "execute_result"
    },
    {
     "name": "stderr",
     "output_type": "stream",
     "text": [
      "/Users/miketondu/anaconda3/lib/python3.6/site-packages/scipy/stats/stats.py:1713: FutureWarning: Using a non-tuple sequence for multidimensional indexing is deprecated; use `arr[tuple(seq)]` instead of `arr[seq]`. In the future this will be interpreted as an array index, `arr[np.array(seq)]`, which will result either in an error or a different result.\n",
      "  return np.add.reduce(sorted[indexer] * weights, axis=axis) / sumval\n"
     ]
    },
    {
     "data": {
      "text/plain": [
       "<matplotlib.axes._subplots.AxesSubplot at 0x1a2584e5f8>"
      ]
     },
     "execution_count": 206,
     "metadata": {},
     "output_type": "execute_result"
    },
    {
     "data": {
      "text/plain": [
       "Text(0.5,0,'Residuals')"
      ]
     },
     "execution_count": 206,
     "metadata": {},
     "output_type": "execute_result"
    },
    {
     "data": {
      "image/png": "[encoded data removed]",
      "text/plain": [
       "<Figure size 720x432 with 1 Axes>"
      ]
     },
     "metadata": {},
     "output_type": "display_data"
    }
   ],
   "source": [
    "plt.figure(figsize=(10,6))\n",
    "sns.distplot(residuals)\n",
    "plt.xlabel('Residuals')"
   ]
  },
  {
   "cell_type": "code",
   "execution_count": 207,
   "metadata": {},
   "outputs": [
    {
     "name": "stdout",
     "output_type": "stream",
     "text": [
      "80\n",
      "0\n"
     ]
    }
   ],
   "source": [
    "rightThreshold = 7\n",
    "leftThreshold = -3.1\n",
    "print(residuals[residuals>rightThreshold].size)\n",
    "print(residuals[residuals<leftThreshold].size)"
   ]
  },
  {
   "cell_type": "code",
   "execution_count": 208,
   "metadata": {},
   "outputs": [],
   "source": [
    "cluster_5_anomalies = pd.DataFrame(residuals[(residuals>rightThreshold) | (residuals < leftThreshold)])\n",
    "cluster_5_anomalies.columns=['Residuals']"
   ]
  },
  {
   "cell_type": "code",
   "execution_count": 209,
   "metadata": {},
   "outputs": [
    {
     "name": "stdout",
     "output_type": "stream",
     "text": [
      "(80, 1)\n"
     ]
    },
    {
     "data": {
      "text/html": [
       "<div>\n",
       "<style scoped>\n",
       "    .dataframe tbody tr th:only-of-type {\n",
       "        vertical-align: middle;\n",
       "    }\n",
       "\n",
       "    .dataframe tbody tr th {\n",
       "        vertical-align: top;\n",
       "    }\n",
       "\n",
       "    .dataframe thead th {\n",
       "        text-align: right;\n",
       "    }\n",
       "</style>\n",
       "<table border=\"1\" class=\"dataframe\">\n",
       "  <thead>\n",
       "    <tr style=\"text-align: right;\">\n",
       "      <th></th>\n",
       "      <th>Residuals</th>\n",
       "    </tr>\n",
       "    <tr>\n",
       "      <th>row_id</th>\n",
       "      <th></th>\n",
       "    </tr>\n",
       "  </thead>\n",
       "  <tbody>\n",
       "    <tr>\n",
       "      <th>1412</th>\n",
       "      <td>10.821693</td>\n",
       "    </tr>\n",
       "    <tr>\n",
       "      <th>12240</th>\n",
       "      <td>10.042784</td>\n",
       "    </tr>\n",
       "    <tr>\n",
       "      <th>14714</th>\n",
       "      <td>8.277180</td>\n",
       "    </tr>\n",
       "    <tr>\n",
       "      <th>18052</th>\n",
       "      <td>12.715669</td>\n",
       "    </tr>\n",
       "    <tr>\n",
       "      <th>18232</th>\n",
       "      <td>9.732577</td>\n",
       "    </tr>\n",
       "  </tbody>\n",
       "</table>\n",
       "</div>"
      ],
      "text/plain": [
       "        Residuals\n",
       "row_id           \n",
       "1412    10.821693\n",
       "12240   10.042784\n",
       "14714    8.277180\n",
       "18052   12.715669\n",
       "18232    9.732577"
      ]
     },
     "execution_count": 209,
     "metadata": {},
     "output_type": "execute_result"
    }
   ],
   "source": [
    "print(cluster_5_anomalies.shape)\n",
    "cluster_5_anomalies.head()"
   ]
  },
  {
   "cell_type": "markdown",
   "metadata": {},
   "source": [
    "###### Cluster 6"
   ]
  },
  {
   "cell_type": "code",
   "execution_count": 210,
   "metadata": {},
   "outputs": [
    {
     "data": {
      "text/html": [
       "<div>\n",
       "<style scoped>\n",
       "    .dataframe tbody tr th:only-of-type {\n",
       "        vertical-align: middle;\n",
       "    }\n",
       "\n",
       "    .dataframe tbody tr th {\n",
       "        vertical-align: top;\n",
       "    }\n",
       "\n",
       "    .dataframe thead th {\n",
       "        text-align: right;\n",
       "    }\n",
       "</style>\n",
       "<table border=\"1\" class=\"dataframe\">\n",
       "  <thead>\n",
       "    <tr style=\"text-align: right;\">\n",
       "      <th></th>\n",
       "      <th>0</th>\n",
       "      <th>1</th>\n",
       "      <th>2</th>\n",
       "      <th>3</th>\n",
       "      <th>4</th>\n",
       "      <th>5</th>\n",
       "      <th>6</th>\n",
       "      <th>7</th>\n",
       "      <th>8</th>\n",
       "      <th>9</th>\n",
       "      <th>BookingCluster</th>\n",
       "      <th>PricePerNight</th>\n",
       "    </tr>\n",
       "    <tr>\n",
       "      <th>row_id</th>\n",
       "      <th></th>\n",
       "      <th></th>\n",
       "      <th></th>\n",
       "      <th></th>\n",
       "      <th></th>\n",
       "      <th></th>\n",
       "      <th></th>\n",
       "      <th></th>\n",
       "      <th></th>\n",
       "      <th></th>\n",
       "      <th></th>\n",
       "      <th></th>\n",
       "    </tr>\n",
       "  </thead>\n",
       "  <tbody>\n",
       "    <tr>\n",
       "      <th>12</th>\n",
       "      <td>0.239421</td>\n",
       "      <td>0.318150</td>\n",
       "      <td>0.946601</td>\n",
       "      <td>2.752024</td>\n",
       "      <td>-0.279056</td>\n",
       "      <td>-0.512872</td>\n",
       "      <td>-1.380290</td>\n",
       "      <td>0.413238</td>\n",
       "      <td>-0.403266</td>\n",
       "      <td>1.819607</td>\n",
       "      <td>6</td>\n",
       "      <td>-0.018289</td>\n",
       "    </tr>\n",
       "    <tr>\n",
       "      <th>85</th>\n",
       "      <td>1.965485</td>\n",
       "      <td>-0.758820</td>\n",
       "      <td>-0.734249</td>\n",
       "      <td>1.285493</td>\n",
       "      <td>0.431747</td>\n",
       "      <td>-0.321926</td>\n",
       "      <td>-0.098963</td>\n",
       "      <td>-0.480633</td>\n",
       "      <td>-1.469230</td>\n",
       "      <td>2.234557</td>\n",
       "      <td>6</td>\n",
       "      <td>-0.386198</td>\n",
       "    </tr>\n",
       "    <tr>\n",
       "      <th>88</th>\n",
       "      <td>2.220304</td>\n",
       "      <td>-0.508640</td>\n",
       "      <td>-0.579078</td>\n",
       "      <td>1.390719</td>\n",
       "      <td>0.257567</td>\n",
       "      <td>-0.496513</td>\n",
       "      <td>0.679491</td>\n",
       "      <td>-1.156935</td>\n",
       "      <td>0.314318</td>\n",
       "      <td>2.745623</td>\n",
       "      <td>6</td>\n",
       "      <td>0.243098</td>\n",
       "    </tr>\n",
       "    <tr>\n",
       "      <th>95</th>\n",
       "      <td>0.520793</td>\n",
       "      <td>-0.009562</td>\n",
       "      <td>-1.064918</td>\n",
       "      <td>1.671064</td>\n",
       "      <td>-0.262562</td>\n",
       "      <td>-0.535014</td>\n",
       "      <td>0.305065</td>\n",
       "      <td>-0.901194</td>\n",
       "      <td>-0.257146</td>\n",
       "      <td>2.736046</td>\n",
       "      <td>6</td>\n",
       "      <td>0.398855</td>\n",
       "    </tr>\n",
       "    <tr>\n",
       "      <th>122</th>\n",
       "      <td>-0.232116</td>\n",
       "      <td>0.550553</td>\n",
       "      <td>-1.437800</td>\n",
       "      <td>1.242679</td>\n",
       "      <td>1.478581</td>\n",
       "      <td>0.238150</td>\n",
       "      <td>-0.723050</td>\n",
       "      <td>0.180394</td>\n",
       "      <td>-2.307031</td>\n",
       "      <td>1.535542</td>\n",
       "      <td>6</td>\n",
       "      <td>-0.339650</td>\n",
       "    </tr>\n",
       "  </tbody>\n",
       "</table>\n",
       "</div>"
      ],
      "text/plain": [
       "               0         1         2         3         4         5         6  \\\n",
       "row_id                                                                         \n",
       "12      0.239421  0.318150  0.946601  2.752024 -0.279056 -0.512872 -1.380290   \n",
       "85      1.965485 -0.758820 -0.734249  1.285493  0.431747 -0.321926 -0.098963   \n",
       "88      2.220304 -0.508640 -0.579078  1.390719  0.257567 -0.496513  0.679491   \n",
       "95      0.520793 -0.009562 -1.064918  1.671064 -0.262562 -0.535014  0.305065   \n",
       "122    -0.232116  0.550553 -1.437800  1.242679  1.478581  0.238150 -0.723050   \n",
       "\n",
       "               7         8         9  BookingCluster  PricePerNight  \n",
       "row_id                                                               \n",
       "12      0.413238 -0.403266  1.819607               6      -0.018289  \n",
       "85     -0.480633 -1.469230  2.234557               6      -0.386198  \n",
       "88     -1.156935  0.314318  2.745623               6       0.243098  \n",
       "95     -0.901194 -0.257146  2.736046               6       0.398855  \n",
       "122     0.180394 -2.307031  1.535542               6      -0.339650  "
      ]
     },
     "execution_count": 210,
     "metadata": {},
     "output_type": "execute_result"
    }
   ],
   "source": [
    "df_cluster[6].head()"
   ]
  },
  {
   "cell_type": "code",
   "execution_count": 211,
   "metadata": {},
   "outputs": [],
   "source": [
    "train = df_cluster[6].drop(['PricePerNight','BookingCluster'], axis = 1)\n",
    "labels = df_cluster[6].PricePerNight"
   ]
  },
  {
   "cell_type": "code",
   "execution_count": 212,
   "metadata": {},
   "outputs": [
    {
     "data": {
      "text/plain": [
       "LinearRegression(copy_X=True, fit_intercept=True, n_jobs=None, normalize=False)"
      ]
     },
     "execution_count": 212,
     "metadata": {},
     "output_type": "execute_result"
    }
   ],
   "source": [
    "regMod = linear_model.LinearRegression()\n",
    "regMod.fit(train, labels)\n",
    "pricePred = regMod.predict(train)"
   ]
  },
  {
   "cell_type": "code",
   "execution_count": 213,
   "metadata": {},
   "outputs": [
    {
     "data": {
      "text/plain": [
       "0.40726617410625965"
      ]
     },
     "execution_count": 213,
     "metadata": {},
     "output_type": "execute_result"
    }
   ],
   "source": [
    "metrics.r2_score(labels,pricePred)"
   ]
  },
  {
   "cell_type": "code",
   "execution_count": 214,
   "metadata": {},
   "outputs": [
    {
     "data": {
      "text/plain": [
       "1.0474258566005326"
      ]
     },
     "execution_count": 214,
     "metadata": {},
     "output_type": "execute_result"
    }
   ],
   "source": [
    "metrics.mean_squared_error(labels,pricePred) ** (0.5)"
   ]
  },
  {
   "cell_type": "code",
   "execution_count": 215,
   "metadata": {},
   "outputs": [
    {
     "data": {
      "text/plain": [
       "count    5.723900e+04\n",
       "mean     2.040798e-16\n",
       "std      1.047435e+00\n",
       "min     -3.881801e+00\n",
       "25%     -5.043147e-01\n",
       "50%     -1.733268e-01\n",
       "75%      1.866295e-01\n",
       "max      1.811627e+01\n",
       "Name: PricePerNight, dtype: float64"
      ]
     },
     "execution_count": 215,
     "metadata": {},
     "output_type": "execute_result"
    }
   ],
   "source": [
    "residuals = labels - pricePred\n",
    "residuals.describe()"
   ]
  },
  {
   "cell_type": "code",
   "execution_count": 216,
   "metadata": {},
   "outputs": [
    {
     "data": {
      "text/plain": [
       "32.11916740897004"
      ]
     },
     "execution_count": 216,
     "metadata": {},
     "output_type": "execute_result"
    }
   ],
   "source": [
    "residuals.kurtosis()"
   ]
  },
  {
   "cell_type": "code",
   "execution_count": 217,
   "metadata": {},
   "outputs": [
    {
     "data": {
      "text/plain": [
       "<Figure size 720x432 with 0 Axes>"
      ]
     },
     "execution_count": 217,
     "metadata": {},
     "output_type": "execute_result"
    },
    {
     "data": {
      "text/plain": [
       "<matplotlib.collections.PathCollection at 0x1a2563f748>"
      ]
     },
     "execution_count": 217,
     "metadata": {},
     "output_type": "execute_result"
    },
    {
     "data": {
      "text/plain": [
       "Text(0,0.5,'Residuals')"
      ]
     },
     "execution_count": 217,
     "metadata": {},
     "output_type": "execute_result"
    },
    {
     "data": {
      "image/png": "[encoded data removed]",
      "text/plain": [
       "<Figure size 720x432 with 1 Axes>"
      ]
     },
     "metadata": {},
     "output_type": "display_data"
    }
   ],
   "source": [
    "plt.figure(figsize=(10,6))\n",
    "plt.scatter(residuals.index,residuals)\n",
    "plt.ylabel('Residuals')"
   ]
  },
  {
   "cell_type": "code",
   "execution_count": 218,
   "metadata": {},
   "outputs": [
    {
     "data": {
      "text/plain": [
       "<Figure size 720x432 with 0 Axes>"
      ]
     },
     "execution_count": 218,
     "metadata": {},
     "output_type": "execute_result"
    },
    {
     "name": "stderr",
     "output_type": "stream",
     "text": [
      "/Users/miketondu/anaconda3/lib/python3.6/site-packages/scipy/stats/stats.py:1713: FutureWarning: Using a non-tuple sequence for multidimensional indexing is deprecated; use `arr[tuple(seq)]` instead of `arr[seq]`. In the future this will be interpreted as an array index, `arr[np.array(seq)]`, which will result either in an error or a different result.\n",
      "  return np.add.reduce(sorted[indexer] * weights, axis=axis) / sumval\n"
     ]
    },
    {
     "data": {
      "text/plain": [
       "<matplotlib.axes._subplots.AxesSubplot at 0x1a1df2e4a8>"
      ]
     },
     "execution_count": 218,
     "metadata": {},
     "output_type": "execute_result"
    },
    {
     "data": {
      "text/plain": [
       "Text(0.5,0,'Residuals')"
      ]
     },
     "execution_count": 218,
     "metadata": {},
     "output_type": "execute_result"
    },
    {
     "data": {
      "image/png": "[encoded data removed]",
      "text/plain": [
       "<Figure size 720x432 with 1 Axes>"
      ]
     },
     "metadata": {},
     "output_type": "display_data"
    }
   ],
   "source": [
    "plt.figure(figsize=(10,6))\n",
    "sns.distplot(residuals)\n",
    "plt.xlabel('Residuals')"
   ]
  },
  {
   "cell_type": "code",
   "execution_count": 219,
   "metadata": {},
   "outputs": [
    {
     "name": "stdout",
     "output_type": "stream",
     "text": [
      "56\n",
      "0\n"
     ]
    }
   ],
   "source": [
    "rightThreshold = 10\n",
    "leftThreshold = -4\n",
    "print(residuals[residuals>rightThreshold].size)\n",
    "print(residuals[residuals<leftThreshold].size)"
   ]
  },
  {
   "cell_type": "code",
   "execution_count": 220,
   "metadata": {},
   "outputs": [],
   "source": [
    "cluster_6_anomalies = pd.DataFrame(residuals[(residuals>rightThreshold) | (residuals < leftThreshold)])\n",
    "cluster_6_anomalies.columns=['Residuals']"
   ]
  },
  {
   "cell_type": "code",
   "execution_count": 221,
   "metadata": {},
   "outputs": [
    {
     "name": "stdout",
     "output_type": "stream",
     "text": [
      "(56, 1)\n"
     ]
    },
    {
     "data": {
      "text/html": [
       "<div>\n",
       "<style scoped>\n",
       "    .dataframe tbody tr th:only-of-type {\n",
       "        vertical-align: middle;\n",
       "    }\n",
       "\n",
       "    .dataframe tbody tr th {\n",
       "        vertical-align: top;\n",
       "    }\n",
       "\n",
       "    .dataframe thead th {\n",
       "        text-align: right;\n",
       "    }\n",
       "</style>\n",
       "<table border=\"1\" class=\"dataframe\">\n",
       "  <thead>\n",
       "    <tr style=\"text-align: right;\">\n",
       "      <th></th>\n",
       "      <th>Residuals</th>\n",
       "    </tr>\n",
       "    <tr>\n",
       "      <th>row_id</th>\n",
       "      <th></th>\n",
       "    </tr>\n",
       "  </thead>\n",
       "  <tbody>\n",
       "    <tr>\n",
       "      <th>13613</th>\n",
       "      <td>10.550778</td>\n",
       "    </tr>\n",
       "    <tr>\n",
       "      <th>24124</th>\n",
       "      <td>10.708479</td>\n",
       "    </tr>\n",
       "    <tr>\n",
       "      <th>50854</th>\n",
       "      <td>14.704904</td>\n",
       "    </tr>\n",
       "    <tr>\n",
       "      <th>58774</th>\n",
       "      <td>15.925960</td>\n",
       "    </tr>\n",
       "    <tr>\n",
       "      <th>91851</th>\n",
       "      <td>12.678251</td>\n",
       "    </tr>\n",
       "  </tbody>\n",
       "</table>\n",
       "</div>"
      ],
      "text/plain": [
       "        Residuals\n",
       "row_id           \n",
       "13613   10.550778\n",
       "24124   10.708479\n",
       "50854   14.704904\n",
       "58774   15.925960\n",
       "91851   12.678251"
      ]
     },
     "execution_count": 221,
     "metadata": {},
     "output_type": "execute_result"
    }
   ],
   "source": [
    "print(cluster_6_anomalies.shape)\n",
    "cluster_6_anomalies.head()"
   ]
  },
  {
   "cell_type": "markdown",
   "metadata": {},
   "source": [
    "###### Cluster 7"
   ]
  },
  {
   "cell_type": "code",
   "execution_count": 222,
   "metadata": {},
   "outputs": [
    {
     "data": {
      "text/html": [
       "<div>\n",
       "<style scoped>\n",
       "    .dataframe tbody tr th:only-of-type {\n",
       "        vertical-align: middle;\n",
       "    }\n",
       "\n",
       "    .dataframe tbody tr th {\n",
       "        vertical-align: top;\n",
       "    }\n",
       "\n",
       "    .dataframe thead th {\n",
       "        text-align: right;\n",
       "    }\n",
       "</style>\n",
       "<table border=\"1\" class=\"dataframe\">\n",
       "  <thead>\n",
       "    <tr style=\"text-align: right;\">\n",
       "      <th></th>\n",
       "      <th>0</th>\n",
       "      <th>1</th>\n",
       "      <th>2</th>\n",
       "      <th>3</th>\n",
       "      <th>4</th>\n",
       "      <th>5</th>\n",
       "      <th>6</th>\n",
       "      <th>7</th>\n",
       "      <th>8</th>\n",
       "      <th>9</th>\n",
       "      <th>BookingCluster</th>\n",
       "      <th>PricePerNight</th>\n",
       "    </tr>\n",
       "    <tr>\n",
       "      <th>row_id</th>\n",
       "      <th></th>\n",
       "      <th></th>\n",
       "      <th></th>\n",
       "      <th></th>\n",
       "      <th></th>\n",
       "      <th></th>\n",
       "      <th></th>\n",
       "      <th></th>\n",
       "      <th></th>\n",
       "      <th></th>\n",
       "      <th></th>\n",
       "      <th></th>\n",
       "    </tr>\n",
       "  </thead>\n",
       "  <tbody>\n",
       "    <tr>\n",
       "      <th>9</th>\n",
       "      <td>1.529551</td>\n",
       "      <td>1.406031</td>\n",
       "      <td>1.016764</td>\n",
       "      <td>4.489786</td>\n",
       "      <td>1.357587</td>\n",
       "      <td>3.376046</td>\n",
       "      <td>19.086654</td>\n",
       "      <td>20.684761</td>\n",
       "      <td>0.223551</td>\n",
       "      <td>-0.215041</td>\n",
       "      <td>7</td>\n",
       "      <td>0.599370</td>\n",
       "    </tr>\n",
       "    <tr>\n",
       "      <th>178</th>\n",
       "      <td>2.449646</td>\n",
       "      <td>3.519129</td>\n",
       "      <td>1.222531</td>\n",
       "      <td>4.573398</td>\n",
       "      <td>1.783950</td>\n",
       "      <td>4.403025</td>\n",
       "      <td>19.101139</td>\n",
       "      <td>20.249463</td>\n",
       "      <td>1.126811</td>\n",
       "      <td>-2.164592</td>\n",
       "      <td>7</td>\n",
       "      <td>0.144630</td>\n",
       "    </tr>\n",
       "    <tr>\n",
       "      <th>530</th>\n",
       "      <td>2.205298</td>\n",
       "      <td>3.578324</td>\n",
       "      <td>1.189535</td>\n",
       "      <td>4.653728</td>\n",
       "      <td>1.523433</td>\n",
       "      <td>4.323304</td>\n",
       "      <td>19.211607</td>\n",
       "      <td>20.169210</td>\n",
       "      <td>1.393989</td>\n",
       "      <td>-2.008725</td>\n",
       "      <td>7</td>\n",
       "      <td>0.314710</td>\n",
       "    </tr>\n",
       "    <tr>\n",
       "      <th>2588</th>\n",
       "      <td>1.447766</td>\n",
       "      <td>3.229810</td>\n",
       "      <td>0.336832</td>\n",
       "      <td>6.432777</td>\n",
       "      <td>1.005129</td>\n",
       "      <td>3.756104</td>\n",
       "      <td>18.497588</td>\n",
       "      <td>20.052657</td>\n",
       "      <td>-1.476957</td>\n",
       "      <td>2.716943</td>\n",
       "      <td>7</td>\n",
       "      <td>1.074699</td>\n",
       "    </tr>\n",
       "    <tr>\n",
       "      <th>4691</th>\n",
       "      <td>2.709471</td>\n",
       "      <td>3.640180</td>\n",
       "      <td>0.432433</td>\n",
       "      <td>6.018348</td>\n",
       "      <td>1.711000</td>\n",
       "      <td>4.802024</td>\n",
       "      <td>17.764987</td>\n",
       "      <td>20.534580</td>\n",
       "      <td>-2.905107</td>\n",
       "      <td>2.792770</td>\n",
       "      <td>7</td>\n",
       "      <td>1.179433</td>\n",
       "    </tr>\n",
       "  </tbody>\n",
       "</table>\n",
       "</div>"
      ],
      "text/plain": [
       "               0         1         2         3         4         5          6  \\\n",
       "row_id                                                                          \n",
       "9       1.529551  1.406031  1.016764  4.489786  1.357587  3.376046  19.086654   \n",
       "178     2.449646  3.519129  1.222531  4.573398  1.783950  4.403025  19.101139   \n",
       "530     2.205298  3.578324  1.189535  4.653728  1.523433  4.323304  19.211607   \n",
       "2588    1.447766  3.229810  0.336832  6.432777  1.005129  3.756104  18.497588   \n",
       "4691    2.709471  3.640180  0.432433  6.018348  1.711000  4.802024  17.764987   \n",
       "\n",
       "                7         8         9  BookingCluster  PricePerNight  \n",
       "row_id                                                                \n",
       "9       20.684761  0.223551 -0.215041               7       0.599370  \n",
       "178     20.249463  1.126811 -2.164592               7       0.144630  \n",
       "530     20.169210  1.393989 -2.008725               7       0.314710  \n",
       "2588    20.052657 -1.476957  2.716943               7       1.074699  \n",
       "4691    20.534580 -2.905107  2.792770               7       1.179433  "
      ]
     },
     "execution_count": 222,
     "metadata": {},
     "output_type": "execute_result"
    }
   ],
   "source": [
    "df_cluster[7].head()"
   ]
  },
  {
   "cell_type": "code",
   "execution_count": 223,
   "metadata": {},
   "outputs": [],
   "source": [
    "train = df_cluster[7].drop(['PricePerNight','BookingCluster'], axis = 1)\n",
    "labels = df_cluster[7].PricePerNight"
   ]
  },
  {
   "cell_type": "code",
   "execution_count": 224,
   "metadata": {},
   "outputs": [
    {
     "data": {
      "text/plain": [
       "LinearRegression(copy_X=True, fit_intercept=True, n_jobs=None, normalize=False)"
      ]
     },
     "execution_count": 224,
     "metadata": {},
     "output_type": "execute_result"
    }
   ],
   "source": [
    "regMod = linear_model.LinearRegression()\n",
    "regMod.fit(train, labels)\n",
    "pricePred = regMod.predict(train)"
   ]
  },
  {
   "cell_type": "code",
   "execution_count": 225,
   "metadata": {},
   "outputs": [
    {
     "data": {
      "text/plain": [
       "0.21706581729993057"
      ]
     },
     "execution_count": 225,
     "metadata": {},
     "output_type": "execute_result"
    }
   ],
   "source": [
    "metrics.r2_score(labels,pricePred)"
   ]
  },
  {
   "cell_type": "code",
   "execution_count": 226,
   "metadata": {},
   "outputs": [
    {
     "data": {
      "text/plain": [
       "1.5198570496864001"
      ]
     },
     "execution_count": 226,
     "metadata": {},
     "output_type": "execute_result"
    }
   ],
   "source": [
    "metrics.mean_squared_error(labels,pricePred) ** (0.5)"
   ]
  },
  {
   "cell_type": "code",
   "execution_count": 227,
   "metadata": {},
   "outputs": [
    {
     "data": {
      "text/plain": [
       "count    1.068000e+03\n",
       "mean     8.915515e-13\n",
       "std      1.520569e+00\n",
       "min     -2.649960e+00\n",
       "25%     -6.616652e-01\n",
       "50%     -2.878938e-01\n",
       "75%      2.283558e-01\n",
       "max      1.718064e+01\n",
       "Name: PricePerNight, dtype: float64"
      ]
     },
     "execution_count": 227,
     "metadata": {},
     "output_type": "execute_result"
    }
   ],
   "source": [
    "residuals = labels - pricePred\n",
    "residuals.describe()"
   ]
  },
  {
   "cell_type": "code",
   "execution_count": 228,
   "metadata": {},
   "outputs": [
    {
     "data": {
      "text/plain": [
       "48.09838619518506"
      ]
     },
     "execution_count": 228,
     "metadata": {},
     "output_type": "execute_result"
    }
   ],
   "source": [
    "residuals.kurtosis()"
   ]
  },
  {
   "cell_type": "code",
   "execution_count": 229,
   "metadata": {},
   "outputs": [
    {
     "data": {
      "text/plain": [
       "<Figure size 720x432 with 0 Axes>"
      ]
     },
     "execution_count": 229,
     "metadata": {},
     "output_type": "execute_result"
    },
    {
     "data": {
      "text/plain": [
       "<matplotlib.collections.PathCollection at 0x1a1df04160>"
      ]
     },
     "execution_count": 229,
     "metadata": {},
     "output_type": "execute_result"
    },
    {
     "data": {
      "text/plain": [
       "Text(0,0.5,'Residuals')"
      ]
     },
     "execution_count": 229,
     "metadata": {},
     "output_type": "execute_result"
    },
    {
     "data": {
      "image/png": "[encoded data removed]",
      "text/plain": [
       "<Figure size 720x432 with 1 Axes>"
      ]
     },
     "metadata": {},
     "output_type": "display_data"
    }
   ],
   "source": [
    "plt.figure(figsize=(10,6))\n",
    "plt.scatter(residuals.index,residuals)\n",
    "plt.ylabel('Residuals')"
   ]
  },
  {
   "cell_type": "code",
   "execution_count": 230,
   "metadata": {},
   "outputs": [
    {
     "data": {
      "text/plain": [
       "<Figure size 720x432 with 0 Axes>"
      ]
     },
     "execution_count": 230,
     "metadata": {},
     "output_type": "execute_result"
    },
    {
     "name": "stderr",
     "output_type": "stream",
     "text": [
      "/Users/miketondu/anaconda3/lib/python3.6/site-packages/scipy/stats/stats.py:1713: FutureWarning: Using a non-tuple sequence for multidimensional indexing is deprecated; use `arr[tuple(seq)]` instead of `arr[seq]`. In the future this will be interpreted as an array index, `arr[np.array(seq)]`, which will result either in an error or a different result.\n",
      "  return np.add.reduce(sorted[indexer] * weights, axis=axis) / sumval\n"
     ]
    },
    {
     "data": {
      "text/plain": [
       "<matplotlib.axes._subplots.AxesSubplot at 0x1a1e3256d8>"
      ]
     },
     "execution_count": 230,
     "metadata": {},
     "output_type": "execute_result"
    },
    {
     "data": {
      "text/plain": [
       "Text(0.5,0,'Residuals')"
      ]
     },
     "execution_count": 230,
     "metadata": {},
     "output_type": "execute_result"
    },
    {
     "data": {
      "image/png": "[encoded data removed]",
      "text/plain": [
       "<Figure size 720x432 with 1 Axes>"
      ]
     },
     "metadata": {},
     "output_type": "display_data"
    }
   ],
   "source": [
    "plt.figure(figsize=(10,6))\n",
    "sns.distplot(residuals)\n",
    "plt.xlabel('Residuals')"
   ]
  },
  {
   "cell_type": "code",
   "execution_count": 231,
   "metadata": {},
   "outputs": [
    {
     "name": "stdout",
     "output_type": "stream",
     "text": [
      "5\n",
      "0\n"
     ]
    }
   ],
   "source": [
    "rightThreshold = 8\n",
    "leftThreshold = -3\n",
    "print(residuals[residuals>rightThreshold].size)\n",
    "print(residuals[residuals<leftThreshold].size)"
   ]
  },
  {
   "cell_type": "code",
   "execution_count": 232,
   "metadata": {},
   "outputs": [],
   "source": [
    "cluster_7_anomalies = pd.DataFrame(residuals[(residuals>rightThreshold) | (residuals < leftThreshold)])\n",
    "cluster_7_anomalies.columns=['Residuals']"
   ]
  },
  {
   "cell_type": "code",
   "execution_count": 233,
   "metadata": {},
   "outputs": [
    {
     "name": "stdout",
     "output_type": "stream",
     "text": [
      "(5, 1)\n"
     ]
    },
    {
     "data": {
      "text/html": [
       "<div>\n",
       "<style scoped>\n",
       "    .dataframe tbody tr th:only-of-type {\n",
       "        vertical-align: middle;\n",
       "    }\n",
       "\n",
       "    .dataframe tbody tr th {\n",
       "        vertical-align: top;\n",
       "    }\n",
       "\n",
       "    .dataframe thead th {\n",
       "        text-align: right;\n",
       "    }\n",
       "</style>\n",
       "<table border=\"1\" class=\"dataframe\">\n",
       "  <thead>\n",
       "    <tr style=\"text-align: right;\">\n",
       "      <th></th>\n",
       "      <th>Residuals</th>\n",
       "    </tr>\n",
       "    <tr>\n",
       "      <th>row_id</th>\n",
       "      <th></th>\n",
       "    </tr>\n",
       "  </thead>\n",
       "  <tbody>\n",
       "    <tr>\n",
       "      <th>71907</th>\n",
       "      <td>11.129459</td>\n",
       "    </tr>\n",
       "    <tr>\n",
       "      <th>118797</th>\n",
       "      <td>9.488542</td>\n",
       "    </tr>\n",
       "    <tr>\n",
       "      <th>375539</th>\n",
       "      <td>17.014014</td>\n",
       "    </tr>\n",
       "    <tr>\n",
       "      <th>405031</th>\n",
       "      <td>17.180638</td>\n",
       "    </tr>\n",
       "    <tr>\n",
       "      <th>851573</th>\n",
       "      <td>16.480380</td>\n",
       "    </tr>\n",
       "  </tbody>\n",
       "</table>\n",
       "</div>"
      ],
      "text/plain": [
       "        Residuals\n",
       "row_id           \n",
       "71907   11.129459\n",
       "118797   9.488542\n",
       "375539  17.014014\n",
       "405031  17.180638\n",
       "851573  16.480380"
      ]
     },
     "execution_count": 233,
     "metadata": {},
     "output_type": "execute_result"
    }
   ],
   "source": [
    "print(cluster_7_anomalies.shape)\n",
    "cluster_7_anomalies.head()"
   ]
  },
  {
   "cell_type": "code",
   "execution_count": 234,
   "metadata": {},
   "outputs": [],
   "source": [
    "df_anomalyPred = cluster_0_anomalies.append([\n",
    "                                             cluster_1_anomalies,\n",
    "                                             cluster_2_anomalies,\n",
    "                                             cluster_3_anomalies,\n",
    "                                             cluster_4_anomalies,\n",
    "                                             cluster_5_anomalies,\n",
    "                                             cluster_6_anomalies,\n",
    "                                             cluster_7_anomalies,\n",
    "                                             ]) "
   ]
  },
  {
   "cell_type": "code",
   "execution_count": 235,
   "metadata": {},
   "outputs": [
    {
     "data": {
      "text/html": [
       "<div>\n",
       "<style scoped>\n",
       "    .dataframe tbody tr th:only-of-type {\n",
       "        vertical-align: middle;\n",
       "    }\n",
       "\n",
       "    .dataframe tbody tr th {\n",
       "        vertical-align: top;\n",
       "    }\n",
       "\n",
       "    .dataframe thead th {\n",
       "        text-align: right;\n",
       "    }\n",
       "</style>\n",
       "<table border=\"1\" class=\"dataframe\">\n",
       "  <thead>\n",
       "    <tr style=\"text-align: right;\">\n",
       "      <th></th>\n",
       "      <th>Residuals</th>\n",
       "    </tr>\n",
       "    <tr>\n",
       "      <th>row_id</th>\n",
       "      <th></th>\n",
       "    </tr>\n",
       "  </thead>\n",
       "  <tbody>\n",
       "    <tr>\n",
       "      <th>982</th>\n",
       "      <td>-2.323727</td>\n",
       "    </tr>\n",
       "    <tr>\n",
       "      <th>1584</th>\n",
       "      <td>5.065809</td>\n",
       "    </tr>\n",
       "    <tr>\n",
       "      <th>1878</th>\n",
       "      <td>4.698069</td>\n",
       "    </tr>\n",
       "    <tr>\n",
       "      <th>3046</th>\n",
       "      <td>4.520205</td>\n",
       "    </tr>\n",
       "    <tr>\n",
       "      <th>3304</th>\n",
       "      <td>5.101379</td>\n",
       "    </tr>\n",
       "  </tbody>\n",
       "</table>\n",
       "</div>"
      ],
      "text/plain": [
       "        Residuals\n",
       "row_id           \n",
       "982     -2.323727\n",
       "1584     5.065809\n",
       "1878     4.698069\n",
       "3046     4.520205\n",
       "3304     5.101379"
      ]
     },
     "execution_count": 235,
     "metadata": {},
     "output_type": "execute_result"
    }
   ],
   "source": [
    "df_anomalyPred.head()"
   ]
  },
  {
   "cell_type": "code",
   "execution_count": 236,
   "metadata": {},
   "outputs": [
    {
     "data": {
      "text/plain": [
       "(1808, 1)"
      ]
     },
     "execution_count": 236,
     "metadata": {},
     "output_type": "execute_result"
    }
   ],
   "source": [
    "df_anomalyPred.shape"
   ]
  },
  {
   "cell_type": "markdown",
   "metadata": {},
   "source": [
    "<img src=\"Summary1.png\" alt=\"Drawing\" style=\"width: 600px;\"/>"
   ]
  },
  {
   "cell_type": "markdown",
   "metadata": {},
   "source": [
    "### Anomaly Labeling and Submission <a name=\"submit\"></a>"
   ]
  },
  {
   "cell_type": "code",
   "execution_count": 237,
   "metadata": {},
   "outputs": [
    {
     "name": "stdout",
     "output_type": "stream",
     "text": [
      "Int64Index([  1013,   1046,   1965,   2273,   2292,   2490,   2516,   2583,\n",
      "              2771,   3100,\n",
      "            ...\n",
      "            899414, 899415, 899417, 899433, 899438, 899452, 899461, 899469,\n",
      "            899470, 899474],\n",
      "           dtype='int64', length=8820)\n",
      "(8820,)\n",
      "8820\n"
     ]
    }
   ],
   "source": [
    "# Return a description of the anomalies\n",
    "print(df_anomaly1.index)\n",
    "print(df_anomaly1.index.shape)\n",
    "print(df_anomaly1.index.unique().size)"
   ]
  },
  {
   "cell_type": "code",
   "execution_count": 238,
   "metadata": {},
   "outputs": [
    {
     "name": "stdout",
     "output_type": "stream",
     "text": [
      "Int64Index([ 23073,  23537,  27815,  32092,  44680,  49265,  57407,  70675,\n",
      "             73282,  87454,\n",
      "            ...\n",
      "            848874, 851662, 855805, 859394, 880888, 883813, 887007, 892812,\n",
      "            894950, 897293],\n",
      "           dtype='int64', length=112)\n",
      "(112,)\n",
      "112\n"
     ]
    }
   ],
   "source": [
    "print(df_anomaly2.index)\n",
    "print(df_anomaly2.index.shape)\n",
    "print(df_anomaly2.index.unique().size)"
   ]
  },
  {
   "cell_type": "code",
   "execution_count": 239,
   "metadata": {},
   "outputs": [
    {
     "name": "stdout",
     "output_type": "stream",
     "text": [
      "Int64Index([   717,  14578,  22116,  23731,  31557,  33996,  49117,  65252,\n",
      "             80070,  81760,\n",
      "            ...\n",
      "            842411, 842988, 852212, 869319, 870548, 878919, 883726, 884331,\n",
      "            890846, 891518],\n",
      "           dtype='int64', name='row_id', length=123)\n",
      "(123,)\n",
      "123\n"
     ]
    }
   ],
   "source": [
    "print(df_anomaly3.index)\n",
    "print(df_anomaly3.index.shape)\n",
    "print(df_anomaly3.index.unique().size)"
   ]
  },
  {
   "cell_type": "code",
   "execution_count": 240,
   "metadata": {},
   "outputs": [
    {
     "name": "stdout",
     "output_type": "stream",
     "text": [
      "Int64Index([   982,   1584,   1878,   3046,   3304,   5172,   6712,   7288,\n",
      "              7974,   8543,\n",
      "            ...\n",
      "            750302, 762137, 795630, 795988, 817409,  71907, 118797, 375539,\n",
      "            405031, 851573],\n",
      "           dtype='int64', name='row_id', length=1808)\n",
      "(1808,)\n",
      "1808\n"
     ]
    }
   ],
   "source": [
    "print(df_anomalyPred.index)\n",
    "print(df_anomalyPred.index.shape)\n",
    "print(df_anomalyPred.index.unique().size)"
   ]
  },
  {
   "cell_type": "code",
   "execution_count": 241,
   "metadata": {},
   "outputs": [
    {
     "data": {
      "text/plain": [
       "0"
      ]
     },
     "execution_count": 241,
     "metadata": {},
     "output_type": "execute_result"
    }
   ],
   "source": [
    "df_anomaly3.index.isin(df_anomalyPred.index).sum()"
   ]
  },
  {
   "cell_type": "code",
   "execution_count": 242,
   "metadata": {},
   "outputs": [],
   "source": [
    "# Aggregation of all the anomalies indexes\n",
    "anomalyIndex = df_anomaly1.index.append([df_anomaly2.index,df_anomaly3.index,df_anomalyPred.index]) "
   ]
  },
  {
   "cell_type": "code",
   "execution_count": 243,
   "metadata": {},
   "outputs": [
    {
     "data": {
      "text/plain": [
       "10863"
      ]
     },
     "execution_count": 243,
     "metadata": {},
     "output_type": "execute_result"
    }
   ],
   "source": [
    "anomalyIndex.unique().size"
   ]
  },
  {
   "cell_type": "code",
   "execution_count": 244,
   "metadata": {},
   "outputs": [
    {
     "data": {
      "text/plain": [
       "(10863,)"
      ]
     },
     "execution_count": 244,
     "metadata": {},
     "output_type": "execute_result"
    }
   ],
   "source": [
    "anomalyIndex.shape"
   ]
  },
  {
   "cell_type": "code",
   "execution_count": 245,
   "metadata": {},
   "outputs": [],
   "source": [
    "# Creating the variable 'anomaly' for final submission\n",
    "finalPrediction =  pd.read_csv('DATATHON_STU_NEW.csv', index_col= 0)\n",
    "finalPrediction = pd.DataFrame(finalPrediction.loc[:,'row_id'])\n",
    "finalPrediction['anomaly'] = 0"
   ]
  },
  {
   "cell_type": "code",
   "execution_count": 246,
   "metadata": {},
   "outputs": [
    {
     "data": {
      "text/plain": [
       "(899477, 2)"
      ]
     },
     "execution_count": 246,
     "metadata": {},
     "output_type": "execute_result"
    }
   ],
   "source": [
    "finalPrediction.shape"
   ]
  },
  {
   "cell_type": "code",
   "execution_count": 247,
   "metadata": {},
   "outputs": [],
   "source": [
    "finalPrediction.loc[finalPrediction.row_id.isin(anomalyIndex),'anomaly'] = 1"
   ]
  },
  {
   "cell_type": "code",
   "execution_count": 248,
   "metadata": {},
   "outputs": [
    {
     "name": "stdout",
     "output_type": "stream",
     "text": [
      "TOTAL ANOMALIES IDENTIFIED:\n",
      "10863\n",
      "TOTAL ANOMALIES Percentage:\n",
      "1.21 %\n"
     ]
    }
   ],
   "source": [
    "print(\"TOTAL ANOMALIES IDENTIFIED:\")\n",
    "print(finalPrediction.anomaly.sum())\n",
    "\n",
    "print(\"TOTAL ANOMALIES Percentage:\")\n",
    "print(round(((finalPrediction.anomaly.sum()/finalPrediction.shape[0])*100),2),\"%\")\n"
   ]
  },
  {
   "cell_type": "code",
   "execution_count": 249,
   "metadata": {},
   "outputs": [],
   "source": [
    "# Saving the final submission dataset\n",
    "finalPrediction.to_csv('TeamC_FinalPrediction.csv', sep=',', header=True)"
   ]
  },
  {
   "cell_type": "markdown",
   "metadata": {},
   "source": [
    "---------------------------------------------------END OF DOCUMENT--------------------------------------------------"
   ]
  }
 ],
 "metadata": {
  "kernelspec": {
   "display_name": "Python 3",
   "language": "python",
   "name": "python3"
  },
  "language_info": {
   "codemirror_mode": {
    "name": "ipython",
    "version": 3
   },
   "file_extension": ".py",
   "mimetype": "text/x-python",
   "name": "python",
   "nbconvert_exporter": "python",
   "pygments_lexer": "ipython3",
   "version": "3.6.5"
  }
 },
 "nbformat": 4,
 "nbformat_minor": 2
}
